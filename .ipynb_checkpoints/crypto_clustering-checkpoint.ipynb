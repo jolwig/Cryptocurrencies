{
 "cells": [
  {
   "cell_type": "markdown",
   "metadata": {},
   "source": [
    "# Clustering Crypto"
   ]
  },
  {
   "cell_type": "code",
   "execution_count": 18,
   "metadata": {},
   "outputs": [],
   "source": [
    "# Initial imports\n",
    "import pandas as pd\n",
    "import hvplot.pandas\n",
    "from path import Path\n",
    "import plotly.express as px\n",
    "from sklearn.preprocessing import StandardScaler, MinMaxScaler\n",
    "from sklearn.decomposition import PCA\n",
    "from sklearn.cluster import KMeans\n"
   ]
  },
  {
   "cell_type": "markdown",
   "metadata": {},
   "source": [
    "### Deliverable 1: Preprocessing the Data for PCA"
   ]
  },
  {
   "cell_type": "code",
   "execution_count": 19,
   "metadata": {},
   "outputs": [
    {
     "data": {
      "text/html": [
       "<div>\n",
       "<style scoped>\n",
       "    .dataframe tbody tr th:only-of-type {\n",
       "        vertical-align: middle;\n",
       "    }\n",
       "\n",
       "    .dataframe tbody tr th {\n",
       "        vertical-align: top;\n",
       "    }\n",
       "\n",
       "    .dataframe thead th {\n",
       "        text-align: right;\n",
       "    }\n",
       "</style>\n",
       "<table border=\"1\" class=\"dataframe\">\n",
       "  <thead>\n",
       "    <tr style=\"text-align: right;\">\n",
       "      <th></th>\n",
       "      <th>CoinName</th>\n",
       "      <th>Algorithm</th>\n",
       "      <th>IsTrading</th>\n",
       "      <th>ProofType</th>\n",
       "      <th>TotalCoinsMined</th>\n",
       "      <th>TotalCoinSupply</th>\n",
       "    </tr>\n",
       "  </thead>\n",
       "  <tbody>\n",
       "    <tr>\n",
       "      <th>42</th>\n",
       "      <td>42 Coin</td>\n",
       "      <td>Scrypt</td>\n",
       "      <td>True</td>\n",
       "      <td>PoW/PoS</td>\n",
       "      <td>4.199995e+01</td>\n",
       "      <td>42</td>\n",
       "    </tr>\n",
       "    <tr>\n",
       "      <th>365</th>\n",
       "      <td>365Coin</td>\n",
       "      <td>X11</td>\n",
       "      <td>True</td>\n",
       "      <td>PoW/PoS</td>\n",
       "      <td>NaN</td>\n",
       "      <td>2300000000</td>\n",
       "    </tr>\n",
       "    <tr>\n",
       "      <th>404</th>\n",
       "      <td>404Coin</td>\n",
       "      <td>Scrypt</td>\n",
       "      <td>True</td>\n",
       "      <td>PoW/PoS</td>\n",
       "      <td>1.055185e+09</td>\n",
       "      <td>532000000</td>\n",
       "    </tr>\n",
       "    <tr>\n",
       "      <th>611</th>\n",
       "      <td>SixEleven</td>\n",
       "      <td>SHA-256</td>\n",
       "      <td>True</td>\n",
       "      <td>PoW</td>\n",
       "      <td>NaN</td>\n",
       "      <td>611000</td>\n",
       "    </tr>\n",
       "    <tr>\n",
       "      <th>808</th>\n",
       "      <td>808</td>\n",
       "      <td>SHA-256</td>\n",
       "      <td>True</td>\n",
       "      <td>PoW/PoS</td>\n",
       "      <td>0.000000e+00</td>\n",
       "      <td>0</td>\n",
       "    </tr>\n",
       "  </tbody>\n",
       "</table>\n",
       "</div>"
      ],
      "text/plain": [
       "      CoinName Algorithm  IsTrading ProofType  TotalCoinsMined TotalCoinSupply\n",
       "42     42 Coin    Scrypt       True   PoW/PoS     4.199995e+01              42\n",
       "365    365Coin       X11       True   PoW/PoS              NaN      2300000000\n",
       "404    404Coin    Scrypt       True   PoW/PoS     1.055185e+09       532000000\n",
       "611  SixEleven   SHA-256       True       PoW              NaN          611000\n",
       "808        808   SHA-256       True   PoW/PoS     0.000000e+00               0"
      ]
     },
     "execution_count": 19,
     "metadata": {},
     "output_type": "execute_result"
    }
   ],
   "source": [
    "# Load the crypto_data.csv dataset.\n",
    "df = pd.read_csv('crypto_data.csv', index_col=0)\n",
    "df.head()"
   ]
  },
  {
   "cell_type": "code",
   "execution_count": 20,
   "metadata": {},
   "outputs": [
    {
     "data": {
      "text/html": [
       "<div>\n",
       "<style scoped>\n",
       "    .dataframe tbody tr th:only-of-type {\n",
       "        vertical-align: middle;\n",
       "    }\n",
       "\n",
       "    .dataframe tbody tr th {\n",
       "        vertical-align: top;\n",
       "    }\n",
       "\n",
       "    .dataframe thead th {\n",
       "        text-align: right;\n",
       "    }\n",
       "</style>\n",
       "<table border=\"1\" class=\"dataframe\">\n",
       "  <thead>\n",
       "    <tr style=\"text-align: right;\">\n",
       "      <th></th>\n",
       "      <th>CoinName</th>\n",
       "      <th>Algorithm</th>\n",
       "      <th>IsTrading</th>\n",
       "      <th>ProofType</th>\n",
       "      <th>TotalCoinsMined</th>\n",
       "      <th>TotalCoinSupply</th>\n",
       "    </tr>\n",
       "  </thead>\n",
       "  <tbody>\n",
       "    <tr>\n",
       "      <th>42</th>\n",
       "      <td>42 Coin</td>\n",
       "      <td>Scrypt</td>\n",
       "      <td>True</td>\n",
       "      <td>PoW/PoS</td>\n",
       "      <td>4.199995e+01</td>\n",
       "      <td>42</td>\n",
       "    </tr>\n",
       "    <tr>\n",
       "      <th>365</th>\n",
       "      <td>365Coin</td>\n",
       "      <td>X11</td>\n",
       "      <td>True</td>\n",
       "      <td>PoW/PoS</td>\n",
       "      <td>NaN</td>\n",
       "      <td>2300000000</td>\n",
       "    </tr>\n",
       "    <tr>\n",
       "      <th>404</th>\n",
       "      <td>404Coin</td>\n",
       "      <td>Scrypt</td>\n",
       "      <td>True</td>\n",
       "      <td>PoW/PoS</td>\n",
       "      <td>1.055185e+09</td>\n",
       "      <td>532000000</td>\n",
       "    </tr>\n",
       "    <tr>\n",
       "      <th>611</th>\n",
       "      <td>SixEleven</td>\n",
       "      <td>SHA-256</td>\n",
       "      <td>True</td>\n",
       "      <td>PoW</td>\n",
       "      <td>NaN</td>\n",
       "      <td>611000</td>\n",
       "    </tr>\n",
       "    <tr>\n",
       "      <th>808</th>\n",
       "      <td>808</td>\n",
       "      <td>SHA-256</td>\n",
       "      <td>True</td>\n",
       "      <td>PoW/PoS</td>\n",
       "      <td>0.000000e+00</td>\n",
       "      <td>0</td>\n",
       "    </tr>\n",
       "    <tr>\n",
       "      <th>...</th>\n",
       "      <td>...</td>\n",
       "      <td>...</td>\n",
       "      <td>...</td>\n",
       "      <td>...</td>\n",
       "      <td>...</td>\n",
       "      <td>...</td>\n",
       "    </tr>\n",
       "    <tr>\n",
       "      <th>SERO</th>\n",
       "      <td>Super Zero</td>\n",
       "      <td>Ethash</td>\n",
       "      <td>True</td>\n",
       "      <td>PoW</td>\n",
       "      <td>NaN</td>\n",
       "      <td>1000000000</td>\n",
       "    </tr>\n",
       "    <tr>\n",
       "      <th>UOS</th>\n",
       "      <td>UOS</td>\n",
       "      <td>SHA-256</td>\n",
       "      <td>True</td>\n",
       "      <td>DPoI</td>\n",
       "      <td>NaN</td>\n",
       "      <td>1000000000</td>\n",
       "    </tr>\n",
       "    <tr>\n",
       "      <th>BDX</th>\n",
       "      <td>Beldex</td>\n",
       "      <td>CryptoNight</td>\n",
       "      <td>True</td>\n",
       "      <td>PoW</td>\n",
       "      <td>9.802226e+08</td>\n",
       "      <td>1400222610</td>\n",
       "    </tr>\n",
       "    <tr>\n",
       "      <th>ZEN</th>\n",
       "      <td>Horizen</td>\n",
       "      <td>Equihash</td>\n",
       "      <td>True</td>\n",
       "      <td>PoW</td>\n",
       "      <td>7.296538e+06</td>\n",
       "      <td>21000000</td>\n",
       "    </tr>\n",
       "    <tr>\n",
       "      <th>XBC</th>\n",
       "      <td>BitcoinPlus</td>\n",
       "      <td>Scrypt</td>\n",
       "      <td>True</td>\n",
       "      <td>PoS</td>\n",
       "      <td>1.283270e+05</td>\n",
       "      <td>1000000</td>\n",
       "    </tr>\n",
       "  </tbody>\n",
       "</table>\n",
       "<p>1144 rows × 6 columns</p>\n",
       "</div>"
      ],
      "text/plain": [
       "         CoinName    Algorithm  IsTrading ProofType  TotalCoinsMined  \\\n",
       "42        42 Coin       Scrypt       True   PoW/PoS     4.199995e+01   \n",
       "365       365Coin          X11       True   PoW/PoS              NaN   \n",
       "404       404Coin       Scrypt       True   PoW/PoS     1.055185e+09   \n",
       "611     SixEleven      SHA-256       True       PoW              NaN   \n",
       "808           808      SHA-256       True   PoW/PoS     0.000000e+00   \n",
       "...           ...          ...        ...       ...              ...   \n",
       "SERO   Super Zero       Ethash       True       PoW              NaN   \n",
       "UOS           UOS      SHA-256       True      DPoI              NaN   \n",
       "BDX        Beldex  CryptoNight       True       PoW     9.802226e+08   \n",
       "ZEN       Horizen     Equihash       True       PoW     7.296538e+06   \n",
       "XBC   BitcoinPlus       Scrypt       True       PoS     1.283270e+05   \n",
       "\n",
       "     TotalCoinSupply  \n",
       "42                42  \n",
       "365       2300000000  \n",
       "404        532000000  \n",
       "611           611000  \n",
       "808                0  \n",
       "...              ...  \n",
       "SERO      1000000000  \n",
       "UOS       1000000000  \n",
       "BDX       1400222610  \n",
       "ZEN         21000000  \n",
       "XBC          1000000  \n",
       "\n",
       "[1144 rows x 6 columns]"
      ]
     },
     "execution_count": 20,
     "metadata": {},
     "output_type": "execute_result"
    }
   ],
   "source": [
    "# Keep all the cryptocurrencies that are being traded.\n",
    "df = df[df[\"IsTrading\"] == True]\n",
    "df"
   ]
  },
  {
   "cell_type": "code",
   "execution_count": 21,
   "metadata": {},
   "outputs": [
    {
     "data": {
      "text/html": [
       "<div>\n",
       "<style scoped>\n",
       "    .dataframe tbody tr th:only-of-type {\n",
       "        vertical-align: middle;\n",
       "    }\n",
       "\n",
       "    .dataframe tbody tr th {\n",
       "        vertical-align: top;\n",
       "    }\n",
       "\n",
       "    .dataframe thead th {\n",
       "        text-align: right;\n",
       "    }\n",
       "</style>\n",
       "<table border=\"1\" class=\"dataframe\">\n",
       "  <thead>\n",
       "    <tr style=\"text-align: right;\">\n",
       "      <th></th>\n",
       "      <th>CoinName</th>\n",
       "      <th>Algorithm</th>\n",
       "      <th>ProofType</th>\n",
       "      <th>TotalCoinsMined</th>\n",
       "      <th>TotalCoinSupply</th>\n",
       "    </tr>\n",
       "  </thead>\n",
       "  <tbody>\n",
       "    <tr>\n",
       "      <th>42</th>\n",
       "      <td>42 Coin</td>\n",
       "      <td>Scrypt</td>\n",
       "      <td>PoW/PoS</td>\n",
       "      <td>4.199995e+01</td>\n",
       "      <td>42</td>\n",
       "    </tr>\n",
       "    <tr>\n",
       "      <th>365</th>\n",
       "      <td>365Coin</td>\n",
       "      <td>X11</td>\n",
       "      <td>PoW/PoS</td>\n",
       "      <td>NaN</td>\n",
       "      <td>2300000000</td>\n",
       "    </tr>\n",
       "    <tr>\n",
       "      <th>404</th>\n",
       "      <td>404Coin</td>\n",
       "      <td>Scrypt</td>\n",
       "      <td>PoW/PoS</td>\n",
       "      <td>1.055185e+09</td>\n",
       "      <td>532000000</td>\n",
       "    </tr>\n",
       "    <tr>\n",
       "      <th>611</th>\n",
       "      <td>SixEleven</td>\n",
       "      <td>SHA-256</td>\n",
       "      <td>PoW</td>\n",
       "      <td>NaN</td>\n",
       "      <td>611000</td>\n",
       "    </tr>\n",
       "    <tr>\n",
       "      <th>808</th>\n",
       "      <td>808</td>\n",
       "      <td>SHA-256</td>\n",
       "      <td>PoW/PoS</td>\n",
       "      <td>0.000000e+00</td>\n",
       "      <td>0</td>\n",
       "    </tr>\n",
       "  </tbody>\n",
       "</table>\n",
       "</div>"
      ],
      "text/plain": [
       "      CoinName Algorithm ProofType  TotalCoinsMined TotalCoinSupply\n",
       "42     42 Coin    Scrypt   PoW/PoS     4.199995e+01              42\n",
       "365    365Coin       X11   PoW/PoS              NaN      2300000000\n",
       "404    404Coin    Scrypt   PoW/PoS     1.055185e+09       532000000\n",
       "611  SixEleven   SHA-256       PoW              NaN          611000\n",
       "808        808   SHA-256   PoW/PoS     0.000000e+00               0"
      ]
     },
     "execution_count": 21,
     "metadata": {},
     "output_type": "execute_result"
    }
   ],
   "source": [
    "# Remove the \"IsTrading\" column. \n",
    "df = df.drop(columns=[\"IsTrading\"], axis=1)\n",
    "df.head()"
   ]
  },
  {
   "cell_type": "code",
   "execution_count": 25,
   "metadata": {},
   "outputs": [
    {
     "data": {
      "text/plain": [
       "CoinName           0\n",
       "Algorithm          0\n",
       "ProofType          0\n",
       "TotalCoinsMined    0\n",
       "TotalCoinSupply    0\n",
       "dtype: int64"
      ]
     },
     "execution_count": 25,
     "metadata": {},
     "output_type": "execute_result"
    }
   ],
   "source": [
    "# Remove rows that have at least 1 null value.\n",
    "df = df.dropna()\n",
    "df.isna().sum()"
   ]
  },
  {
   "cell_type": "code",
   "execution_count": 27,
   "metadata": {},
   "outputs": [
    {
     "data": {
      "text/html": [
       "<div>\n",
       "<style scoped>\n",
       "    .dataframe tbody tr th:only-of-type {\n",
       "        vertical-align: middle;\n",
       "    }\n",
       "\n",
       "    .dataframe tbody tr th {\n",
       "        vertical-align: top;\n",
       "    }\n",
       "\n",
       "    .dataframe thead th {\n",
       "        text-align: right;\n",
       "    }\n",
       "</style>\n",
       "<table border=\"1\" class=\"dataframe\">\n",
       "  <thead>\n",
       "    <tr style=\"text-align: right;\">\n",
       "      <th></th>\n",
       "      <th>CoinName</th>\n",
       "      <th>Algorithm</th>\n",
       "      <th>ProofType</th>\n",
       "      <th>TotalCoinsMined</th>\n",
       "      <th>TotalCoinSupply</th>\n",
       "    </tr>\n",
       "  </thead>\n",
       "  <tbody>\n",
       "    <tr>\n",
       "      <th>42</th>\n",
       "      <td>42 Coin</td>\n",
       "      <td>Scrypt</td>\n",
       "      <td>PoW/PoS</td>\n",
       "      <td>4.199995e+01</td>\n",
       "      <td>42</td>\n",
       "    </tr>\n",
       "    <tr>\n",
       "      <th>404</th>\n",
       "      <td>404Coin</td>\n",
       "      <td>Scrypt</td>\n",
       "      <td>PoW/PoS</td>\n",
       "      <td>1.055185e+09</td>\n",
       "      <td>532000000</td>\n",
       "    </tr>\n",
       "    <tr>\n",
       "      <th>1337</th>\n",
       "      <td>EliteCoin</td>\n",
       "      <td>X13</td>\n",
       "      <td>PoW/PoS</td>\n",
       "      <td>2.927942e+10</td>\n",
       "      <td>314159265359</td>\n",
       "    </tr>\n",
       "    <tr>\n",
       "      <th>BTC</th>\n",
       "      <td>Bitcoin</td>\n",
       "      <td>SHA-256</td>\n",
       "      <td>PoW</td>\n",
       "      <td>1.792718e+07</td>\n",
       "      <td>21000000</td>\n",
       "    </tr>\n",
       "    <tr>\n",
       "      <th>ETH</th>\n",
       "      <td>Ethereum</td>\n",
       "      <td>Ethash</td>\n",
       "      <td>PoW</td>\n",
       "      <td>1.076842e+08</td>\n",
       "      <td>0</td>\n",
       "    </tr>\n",
       "    <tr>\n",
       "      <th>LTC</th>\n",
       "      <td>Litecoin</td>\n",
       "      <td>Scrypt</td>\n",
       "      <td>PoW</td>\n",
       "      <td>6.303924e+07</td>\n",
       "      <td>84000000</td>\n",
       "    </tr>\n",
       "    <tr>\n",
       "      <th>DASH</th>\n",
       "      <td>Dash</td>\n",
       "      <td>X11</td>\n",
       "      <td>PoW/PoS</td>\n",
       "      <td>9.031294e+06</td>\n",
       "      <td>22000000</td>\n",
       "    </tr>\n",
       "    <tr>\n",
       "      <th>XMR</th>\n",
       "      <td>Monero</td>\n",
       "      <td>CryptoNight-V7</td>\n",
       "      <td>PoW</td>\n",
       "      <td>1.720114e+07</td>\n",
       "      <td>0</td>\n",
       "    </tr>\n",
       "    <tr>\n",
       "      <th>ETC</th>\n",
       "      <td>Ethereum Classic</td>\n",
       "      <td>Ethash</td>\n",
       "      <td>PoW</td>\n",
       "      <td>1.133597e+08</td>\n",
       "      <td>210000000</td>\n",
       "    </tr>\n",
       "    <tr>\n",
       "      <th>ZEC</th>\n",
       "      <td>ZCash</td>\n",
       "      <td>Equihash</td>\n",
       "      <td>PoW</td>\n",
       "      <td>7.383056e+06</td>\n",
       "      <td>21000000</td>\n",
       "    </tr>\n",
       "  </tbody>\n",
       "</table>\n",
       "</div>"
      ],
      "text/plain": [
       "              CoinName       Algorithm ProofType  TotalCoinsMined  \\\n",
       "42             42 Coin          Scrypt   PoW/PoS     4.199995e+01   \n",
       "404            404Coin          Scrypt   PoW/PoS     1.055185e+09   \n",
       "1337         EliteCoin             X13   PoW/PoS     2.927942e+10   \n",
       "BTC            Bitcoin         SHA-256       PoW     1.792718e+07   \n",
       "ETH           Ethereum          Ethash       PoW     1.076842e+08   \n",
       "LTC           Litecoin          Scrypt       PoW     6.303924e+07   \n",
       "DASH              Dash             X11   PoW/PoS     9.031294e+06   \n",
       "XMR             Monero  CryptoNight-V7       PoW     1.720114e+07   \n",
       "ETC   Ethereum Classic          Ethash       PoW     1.133597e+08   \n",
       "ZEC              ZCash        Equihash       PoW     7.383056e+06   \n",
       "\n",
       "     TotalCoinSupply  \n",
       "42                42  \n",
       "404        532000000  \n",
       "1337    314159265359  \n",
       "BTC         21000000  \n",
       "ETH                0  \n",
       "LTC         84000000  \n",
       "DASH        22000000  \n",
       "XMR                0  \n",
       "ETC        210000000  \n",
       "ZEC         21000000  "
      ]
     },
     "execution_count": 27,
     "metadata": {},
     "output_type": "execute_result"
    }
   ],
   "source": [
    "# Keep the rows where coins are mined.\n",
    "df = df[df['TotalCoinsMined'] > 0]\n",
    "df.head(10)"
   ]
  },
  {
   "cell_type": "code",
   "execution_count": 28,
   "metadata": {},
   "outputs": [
    {
     "data": {
      "text/plain": [
       "42        42 Coin\n",
       "404       404Coin\n",
       "1337    EliteCoin\n",
       "BTC       Bitcoin\n",
       "ETH      Ethereum\n",
       "Name: CoinName, dtype: object"
      ]
     },
     "execution_count": 28,
     "metadata": {},
     "output_type": "execute_result"
    }
   ],
   "source": [
    "# Create a new DataFrame that holds only the cryptocurrencies names.\n",
    "df_names = df['CoinName']\n",
    "df_names.head()"
   ]
  },
  {
   "cell_type": "code",
   "execution_count": 29,
   "metadata": {},
   "outputs": [
    {
     "data": {
      "text/html": [
       "<div>\n",
       "<style scoped>\n",
       "    .dataframe tbody tr th:only-of-type {\n",
       "        vertical-align: middle;\n",
       "    }\n",
       "\n",
       "    .dataframe tbody tr th {\n",
       "        vertical-align: top;\n",
       "    }\n",
       "\n",
       "    .dataframe thead th {\n",
       "        text-align: right;\n",
       "    }\n",
       "</style>\n",
       "<table border=\"1\" class=\"dataframe\">\n",
       "  <thead>\n",
       "    <tr style=\"text-align: right;\">\n",
       "      <th></th>\n",
       "      <th>Algorithm</th>\n",
       "      <th>ProofType</th>\n",
       "      <th>TotalCoinsMined</th>\n",
       "      <th>TotalCoinSupply</th>\n",
       "    </tr>\n",
       "  </thead>\n",
       "  <tbody>\n",
       "    <tr>\n",
       "      <th>42</th>\n",
       "      <td>Scrypt</td>\n",
       "      <td>PoW/PoS</td>\n",
       "      <td>4.199995e+01</td>\n",
       "      <td>42</td>\n",
       "    </tr>\n",
       "    <tr>\n",
       "      <th>404</th>\n",
       "      <td>Scrypt</td>\n",
       "      <td>PoW/PoS</td>\n",
       "      <td>1.055185e+09</td>\n",
       "      <td>532000000</td>\n",
       "    </tr>\n",
       "    <tr>\n",
       "      <th>1337</th>\n",
       "      <td>X13</td>\n",
       "      <td>PoW/PoS</td>\n",
       "      <td>2.927942e+10</td>\n",
       "      <td>314159265359</td>\n",
       "    </tr>\n",
       "    <tr>\n",
       "      <th>BTC</th>\n",
       "      <td>SHA-256</td>\n",
       "      <td>PoW</td>\n",
       "      <td>1.792718e+07</td>\n",
       "      <td>21000000</td>\n",
       "    </tr>\n",
       "    <tr>\n",
       "      <th>ETH</th>\n",
       "      <td>Ethash</td>\n",
       "      <td>PoW</td>\n",
       "      <td>1.076842e+08</td>\n",
       "      <td>0</td>\n",
       "    </tr>\n",
       "  </tbody>\n",
       "</table>\n",
       "</div>"
      ],
      "text/plain": [
       "     Algorithm ProofType  TotalCoinsMined TotalCoinSupply\n",
       "42      Scrypt   PoW/PoS     4.199995e+01              42\n",
       "404     Scrypt   PoW/PoS     1.055185e+09       532000000\n",
       "1337       X13   PoW/PoS     2.927942e+10    314159265359\n",
       "BTC    SHA-256       PoW     1.792718e+07        21000000\n",
       "ETH     Ethash       PoW     1.076842e+08               0"
      ]
     },
     "execution_count": 29,
     "metadata": {},
     "output_type": "execute_result"
    }
   ],
   "source": [
    "# Drop the 'CoinName' column since it's not going to be used on the clustering algorithm.\n",
    "df = df.drop(columns=\"CoinName\")\n",
    "df.head()"
   ]
  },
  {
   "cell_type": "code",
   "execution_count": 30,
   "metadata": {},
   "outputs": [],
   "source": [
    "# Use get_dummies() to create variables for text features.\n",
    "X = pd.get_dummies(df, columns=['Algorithm', 'ProofType'])"
   ]
  },
  {
   "cell_type": "code",
   "execution_count": 31,
   "metadata": {},
   "outputs": [],
   "source": [
    "# Standardize the data with StandardScaler().\n",
    "X_scaled = StandardScaler().fit_transform(X)"
   ]
  },
  {
   "cell_type": "markdown",
   "metadata": {},
   "source": [
    "### Deliverable 2: Reducing Data Dimensions Using PCA"
   ]
  },
  {
   "cell_type": "code",
   "execution_count": 32,
   "metadata": {},
   "outputs": [],
   "source": [
    "# Using PCA to reduce dimension to three principal components.\n",
    "pca = PCA(n_components = 3)\n",
    "X_pca = pca.fit_transform(X_scaled)"
   ]
  },
  {
   "cell_type": "code",
   "execution_count": 35,
   "metadata": {},
   "outputs": [
    {
     "data": {
      "text/html": [
       "<div>\n",
       "<style scoped>\n",
       "    .dataframe tbody tr th:only-of-type {\n",
       "        vertical-align: middle;\n",
       "    }\n",
       "\n",
       "    .dataframe tbody tr th {\n",
       "        vertical-align: top;\n",
       "    }\n",
       "\n",
       "    .dataframe thead th {\n",
       "        text-align: right;\n",
       "    }\n",
       "</style>\n",
       "<table border=\"1\" class=\"dataframe\">\n",
       "  <thead>\n",
       "    <tr style=\"text-align: right;\">\n",
       "      <th></th>\n",
       "      <th>PC 1</th>\n",
       "      <th>PC 2</th>\n",
       "      <th>PC 3</th>\n",
       "    </tr>\n",
       "  </thead>\n",
       "  <tbody>\n",
       "    <tr>\n",
       "      <th>42</th>\n",
       "      <td>-0.333486</td>\n",
       "      <td>1.058905</td>\n",
       "      <td>-0.554266</td>\n",
       "    </tr>\n",
       "    <tr>\n",
       "      <th>404</th>\n",
       "      <td>-0.316835</td>\n",
       "      <td>1.058957</td>\n",
       "      <td>-0.554563</td>\n",
       "    </tr>\n",
       "    <tr>\n",
       "      <th>1337</th>\n",
       "      <td>2.293905</td>\n",
       "      <td>1.637183</td>\n",
       "      <td>-0.655961</td>\n",
       "    </tr>\n",
       "    <tr>\n",
       "      <th>BTC</th>\n",
       "      <td>-0.148863</td>\n",
       "      <td>-1.316853</td>\n",
       "      <td>0.165601</td>\n",
       "    </tr>\n",
       "    <tr>\n",
       "      <th>ETH</th>\n",
       "      <td>-0.151512</td>\n",
       "      <td>-2.035109</td>\n",
       "      <td>0.397287</td>\n",
       "    </tr>\n",
       "  </tbody>\n",
       "</table>\n",
       "</div>"
      ],
      "text/plain": [
       "          PC 1      PC 2      PC 3\n",
       "42   -0.333486  1.058905 -0.554266\n",
       "404  -0.316835  1.058957 -0.554563\n",
       "1337  2.293905  1.637183 -0.655961\n",
       "BTC  -0.148863 -1.316853  0.165601\n",
       "ETH  -0.151512 -2.035109  0.397287"
      ]
     },
     "execution_count": 35,
     "metadata": {},
     "output_type": "execute_result"
    }
   ],
   "source": [
    "# Create a DataFrame with the three principal components.\n",
    "pcs_df = pd.DataFrame(data = X_pca, columns = ['PC 1', 'PC 2', 'PC 3'], index = X.index)\n",
    "pcs_df.head()"
   ]
  },
  {
   "cell_type": "markdown",
   "metadata": {},
   "source": [
    "### Deliverable 3: Clustering Crytocurrencies Using K-Means\n",
    "\n",
    "#### Finding the Best Value for `k` Using the Elbow Curve"
   ]
  },
  {
   "cell_type": "code",
   "execution_count": 37,
   "metadata": {},
   "outputs": [
    {
     "name": "stderr",
     "output_type": "stream",
     "text": [
      "C:\\Users\\13148\\anaconda3\\envs\\mlenv\\lib\\site-packages\\sklearn\\cluster\\_kmeans.py:1037: UserWarning: KMeans is known to have a memory leak on Windows with MKL, when there are less chunks than available threads. You can avoid it by setting the environment variable OMP_NUM_THREADS=3.\n",
      "  \"KMeans is known to have a memory leak on Windows \"\n"
     ]
    },
    {
     "data": {},
     "metadata": {},
     "output_type": "display_data"
    },
    {
     "data": {
      "application/vnd.holoviews_exec.v0+json": "",
      "text/html": [
       "<div id='1111'>\n",
       "  <div class=\"bk-root\" id=\"3f3275b3-72c7-4d2c-8c1e-e14940dea93c\" data-root-id=\"1111\"></div>\n",
       "</div>\n",
       "<script type=\"application/javascript\">(function(root) {\n",
       "  function embed_document(root) {\n",
       "    var docs_json = {\"aa45b559-b24c-4219-8f00-5dd53be8b016\":{\"defs\":[{\"extends\":null,\"module\":null,\"name\":\"ReactiveHTML1\",\"overrides\":[],\"properties\":[]},{\"extends\":null,\"module\":null,\"name\":\"FlexBox1\",\"overrides\":[],\"properties\":[{\"default\":\"flex-start\",\"kind\":null,\"name\":\"align_content\"},{\"default\":\"flex-start\",\"kind\":null,\"name\":\"align_items\"},{\"default\":\"row\",\"kind\":null,\"name\":\"flex_direction\"},{\"default\":\"wrap\",\"kind\":null,\"name\":\"flex_wrap\"},{\"default\":\"flex-start\",\"kind\":null,\"name\":\"justify_content\"}]},{\"extends\":null,\"module\":null,\"name\":\"GridStack1\",\"overrides\":[],\"properties\":[{\"default\":\"warn\",\"kind\":null,\"name\":\"mode\"},{\"default\":null,\"kind\":null,\"name\":\"ncols\"},{\"default\":null,\"kind\":null,\"name\":\"nrows\"},{\"default\":true,\"kind\":null,\"name\":\"allow_resize\"},{\"default\":true,\"kind\":null,\"name\":\"allow_drag\"},{\"default\":[],\"kind\":null,\"name\":\"state\"}]},{\"extends\":null,\"module\":null,\"name\":\"click1\",\"overrides\":[],\"properties\":[{\"default\":\"\",\"kind\":null,\"name\":\"terminal_output\"},{\"default\":\"\",\"kind\":null,\"name\":\"debug_name\"},{\"default\":0,\"kind\":null,\"name\":\"clears\"}]},{\"extends\":null,\"module\":null,\"name\":\"NotificationAreaBase1\",\"overrides\":[],\"properties\":[{\"default\":\"bottom-right\",\"kind\":null,\"name\":\"position\"},{\"default\":0,\"kind\":null,\"name\":\"_clear\"}]},{\"extends\":null,\"module\":null,\"name\":\"NotificationArea1\",\"overrides\":[],\"properties\":[{\"default\":[],\"kind\":null,\"name\":\"notifications\"},{\"default\":\"bottom-right\",\"kind\":null,\"name\":\"position\"},{\"default\":0,\"kind\":null,\"name\":\"_clear\"},{\"default\":[{\"background\":\"#ffc107\",\"icon\":{\"className\":\"fas fa-exclamation-triangle\",\"color\":\"white\",\"tagName\":\"i\"},\"type\":\"warning\"},{\"background\":\"#007bff\",\"icon\":{\"className\":\"fas fa-info-circle\",\"color\":\"white\",\"tagName\":\"i\"},\"type\":\"info\"}],\"kind\":null,\"name\":\"types\"}]},{\"extends\":null,\"module\":null,\"name\":\"Notification\",\"overrides\":[],\"properties\":[{\"default\":null,\"kind\":null,\"name\":\"background\"},{\"default\":3000,\"kind\":null,\"name\":\"duration\"},{\"default\":null,\"kind\":null,\"name\":\"icon\"},{\"default\":\"\",\"kind\":null,\"name\":\"message\"},{\"default\":null,\"kind\":null,\"name\":\"notification_type\"},{\"default\":false,\"kind\":null,\"name\":\"_destroyed\"}]},{\"extends\":null,\"module\":null,\"name\":\"TemplateActions1\",\"overrides\":[],\"properties\":[{\"default\":0,\"kind\":null,\"name\":\"open_modal\"},{\"default\":0,\"kind\":null,\"name\":\"close_modal\"}]},{\"extends\":null,\"module\":null,\"name\":\"MaterialTemplateActions1\",\"overrides\":[],\"properties\":[{\"default\":0,\"kind\":null,\"name\":\"open_modal\"},{\"default\":0,\"kind\":null,\"name\":\"close_modal\"}]}],\"roots\":{\"references\":[{\"attributes\":{\"margin\":[5,5,5,5],\"name\":\"HSpacer00969\",\"sizing_mode\":\"stretch_width\"},\"id\":\"1112\",\"type\":\"Spacer\"},{\"attributes\":{},\"id\":\"1133\",\"type\":\"SaveTool\"},{\"attributes\":{},\"id\":\"1163\",\"type\":\"AllLabels\"},{\"attributes\":{},\"id\":\"1134\",\"type\":\"PanTool\"},{\"attributes\":{},\"id\":\"1158\",\"type\":\"AllLabels\"},{\"attributes\":{},\"id\":\"1137\",\"type\":\"ResetTool\"},{\"attributes\":{},\"id\":\"1130\",\"type\":\"BasicTicker\"},{\"attributes\":{},\"id\":\"1170\",\"type\":\"UnionRenderers\"},{\"attributes\":{\"line_alpha\":0.1,\"line_color\":\"#30a2da\",\"line_width\":2,\"x\":{\"field\":\"k\"},\"y\":{\"field\":\"inertia\"}},\"id\":\"1150\",\"type\":\"Line\"},{\"attributes\":{},\"id\":\"1135\",\"type\":\"WheelZoomTool\"},{\"attributes\":{\"coordinates\":null,\"data_source\":{\"id\":\"1146\"},\"glyph\":{\"id\":\"1149\"},\"group\":null,\"hover_glyph\":null,\"muted_glyph\":{\"id\":\"1151\"},\"nonselection_glyph\":{\"id\":\"1150\"},\"selection_glyph\":{\"id\":\"1154\"},\"view\":{\"id\":\"1153\"}},\"id\":\"1152\",\"type\":\"GlyphRenderer\"},{\"attributes\":{\"margin\":[5,5,5,5],\"name\":\"HSpacer00970\",\"sizing_mode\":\"stretch_width\"},\"id\":\"1173\",\"type\":\"Spacer\"},{\"attributes\":{\"overlay\":{\"id\":\"1138\"}},\"id\":\"1136\",\"type\":\"BoxZoomTool\"},{\"attributes\":{\"line_color\":\"#30a2da\",\"line_width\":2,\"x\":{\"field\":\"k\"},\"y\":{\"field\":\"inertia\"}},\"id\":\"1154\",\"type\":\"Line\"},{\"attributes\":{},\"id\":\"1147\",\"type\":\"Selection\"},{\"attributes\":{\"coordinates\":null,\"group\":null,\"text\":\"Elbow Curve\",\"text_color\":\"black\",\"text_font_size\":\"12pt\"},\"id\":\"1117\",\"type\":\"Title\"},{\"attributes\":{\"data\":{\"inertia\":{\"__ndarray__\":\"fBt3OlNxrEA+XDKaaFejQIzCpDgAMJdA85+kK7Cef0AcqB2mch51QG62LpirkW9AvuthJohpZ0CD+Q7ifhdhQANpeQOqFltACB25VRQSVUA=\",\"dtype\":\"float64\",\"order\":\"little\",\"shape\":[10]},\"k\":[1,2,3,4,5,6,7,8,9,10]},\"selected\":{\"id\":\"1147\"},\"selection_policy\":{\"id\":\"1170\"}},\"id\":\"1146\",\"type\":\"ColumnDataSource\"},{\"attributes\":{},\"id\":\"1121\",\"type\":\"LinearScale\"},{\"attributes\":{\"ticks\":[1,2,3,4,5,6,7,8,9,10]},\"id\":\"1155\",\"type\":\"FixedTicker\"},{\"attributes\":{\"axis\":{\"id\":\"1125\"},\"coordinates\":null,\"grid_line_color\":null,\"group\":null,\"ticker\":null},\"id\":\"1128\",\"type\":\"Grid\"},{\"attributes\":{\"tools\":[{\"id\":\"1115\"},{\"id\":\"1133\"},{\"id\":\"1134\"},{\"id\":\"1135\"},{\"id\":\"1136\"},{\"id\":\"1137\"}]},\"id\":\"1139\",\"type\":\"Toolbar\"},{\"attributes\":{\"line_color\":\"#30a2da\",\"line_width\":2,\"x\":{\"field\":\"k\"},\"y\":{\"field\":\"inertia\"}},\"id\":\"1149\",\"type\":\"Line\"},{\"attributes\":{\"callback\":null,\"renderers\":[{\"id\":\"1152\"}],\"tags\":[\"hv_created\"],\"tooltips\":[[\"k\",\"@{k}\"],[\"inertia\",\"@{inertia}\"]]},\"id\":\"1115\",\"type\":\"HoverTool\"},{\"attributes\":{\"source\":{\"id\":\"1146\"}},\"id\":\"1153\",\"type\":\"CDSView\"},{\"attributes\":{},\"id\":\"1123\",\"type\":\"LinearScale\"},{\"attributes\":{\"bottom_units\":\"screen\",\"coordinates\":null,\"fill_alpha\":0.5,\"fill_color\":\"lightgrey\",\"group\":null,\"left_units\":\"screen\",\"level\":\"overlay\",\"line_alpha\":1.0,\"line_color\":\"black\",\"line_dash\":[4,4],\"line_width\":2,\"right_units\":\"screen\",\"syncable\":false,\"top_units\":\"screen\"},\"id\":\"1138\",\"type\":\"BoxAnnotation\"},{\"attributes\":{\"axis_label\":\"inertia\",\"coordinates\":null,\"formatter\":{\"id\":\"1162\"},\"group\":null,\"major_label_policy\":{\"id\":\"1163\"},\"ticker\":{\"id\":\"1130\"}},\"id\":\"1129\",\"type\":\"LinearAxis\"},{\"attributes\":{\"axis_label\":\"k\",\"coordinates\":null,\"formatter\":{\"id\":\"1157\"},\"group\":null,\"major_label_policy\":{\"id\":\"1158\"},\"ticker\":{\"id\":\"1155\"}},\"id\":\"1125\",\"type\":\"LinearAxis\"},{\"attributes\":{\"children\":[{\"id\":\"1112\"},{\"id\":\"1116\"},{\"id\":\"1173\"}],\"margin\":[0,0,0,0],\"name\":\"Row00965\",\"tags\":[\"embedded\"]},\"id\":\"1111\",\"type\":\"Row\"},{\"attributes\":{},\"id\":\"1162\",\"type\":\"BasicTickFormatter\"},{\"attributes\":{},\"id\":\"1157\",\"type\":\"BasicTickFormatter\"},{\"attributes\":{\"axis\":{\"id\":\"1129\"},\"coordinates\":null,\"dimension\":1,\"grid_line_color\":null,\"group\":null,\"ticker\":null},\"id\":\"1132\",\"type\":\"Grid\"},{\"attributes\":{\"end\":10.0,\"reset_end\":10.0,\"reset_start\":1.0,\"start\":1.0,\"tags\":[[[\"k\",\"k\",null]]]},\"id\":\"1113\",\"type\":\"Range1d\"},{\"attributes\":{\"end\":3996.3005618584043,\"reset_end\":3996.3005618584043,\"reset_start\":-271.35551528774096,\"start\":-271.35551528774096,\"tags\":[[[\"inertia\",\"inertia\",null]]]},\"id\":\"1114\",\"type\":\"Range1d\"},{\"attributes\":{\"below\":[{\"id\":\"1125\"}],\"center\":[{\"id\":\"1128\"},{\"id\":\"1132\"}],\"height\":300,\"left\":[{\"id\":\"1129\"}],\"margin\":[5,5,5,5],\"min_border_bottom\":10,\"min_border_left\":10,\"min_border_right\":10,\"min_border_top\":10,\"renderers\":[{\"id\":\"1152\"}],\"sizing_mode\":\"fixed\",\"title\":{\"id\":\"1117\"},\"toolbar\":{\"id\":\"1139\"},\"width\":700,\"x_range\":{\"id\":\"1113\"},\"x_scale\":{\"id\":\"1121\"},\"y_range\":{\"id\":\"1114\"},\"y_scale\":{\"id\":\"1123\"}},\"id\":\"1116\",\"subtype\":\"Figure\",\"type\":\"Plot\"},{\"attributes\":{\"line_alpha\":0.2,\"line_color\":\"#30a2da\",\"line_width\":2,\"x\":{\"field\":\"k\"},\"y\":{\"field\":\"inertia\"}},\"id\":\"1151\",\"type\":\"Line\"}],\"root_ids\":[\"1111\"]},\"title\":\"Bokeh Application\",\"version\":\"2.4.3\"}};\n",
       "    var render_items = [{\"docid\":\"aa45b559-b24c-4219-8f00-5dd53be8b016\",\"root_ids\":[\"1111\"],\"roots\":{\"1111\":\"3f3275b3-72c7-4d2c-8c1e-e14940dea93c\"}}];\n",
       "    root.Bokeh.embed.embed_items_notebook(docs_json, render_items);\n",
       "  }\n",
       "  if (root.Bokeh !== undefined && root.Bokeh.Panel !== undefined) {\n",
       "    embed_document(root);\n",
       "  } else {\n",
       "    var attempts = 0;\n",
       "    var timer = setInterval(function(root) {\n",
       "      if (root.Bokeh !== undefined && root.Bokeh.Panel !== undefined) {\n",
       "        clearInterval(timer);\n",
       "        embed_document(root);\n",
       "      } else if (document.readyState == \"complete\") {\n",
       "        attempts++;\n",
       "        if (attempts > 200) {\n",
       "          clearInterval(timer);\n",
       "          console.log(\"Bokeh: ERROR: Unable to run BokehJS code because BokehJS library is missing\");\n",
       "        }\n",
       "      }\n",
       "    }, 25, root)\n",
       "  }\n",
       "})(window);</script>"
      ],
      "text/plain": [
       ":Curve   [k]   (inertia)"
      ]
     },
     "execution_count": 37,
     "metadata": {
      "application/vnd.holoviews_exec.v0+json": {
       "id": "1111"
      }
     },
     "output_type": "execute_result"
    }
   ],
   "source": [
    "# Create an elbow curve to find the best value for K.\n",
    "inertia = []\n",
    "k = list(range(1, 11))\n",
    "for i in k:\n",
    "    km = KMeans(n_clusters=i, random_state=0)\n",
    "    km.fit(pcs_df)\n",
    "    inertia.append(km.inertia_)\n",
    "\n",
    "# Elbow curve\n",
    "data = {\"k\": k, \"inertia\": inertia}\n",
    "elbow = pd.DataFrame(data)\n",
    "elbow.hvplot.line(x=\"k\", y=\"inertia\", title=\"Elbow Curve\", xticks=k)\n"
   ]
  },
  {
   "cell_type": "markdown",
   "metadata": {},
   "source": [
    "Running K-Means with `k=4`"
   ]
  },
  {
   "cell_type": "code",
   "execution_count": 39,
   "metadata": {},
   "outputs": [
    {
     "data": {
      "text/plain": [
       "array([3, 3, 3, 0, 0, 0, 3, 0, 0, 0])"
      ]
     },
     "execution_count": 39,
     "metadata": {},
     "output_type": "execute_result"
    }
   ],
   "source": [
    "# Initialize the K-Means model.\n",
    "model = KMeans(n_clusters=4, random_state=0)\n",
    "\n",
    "# Fit the model\n",
    "model.fit(pcs_df)\n",
    "\n",
    "# Predict clusters\n",
    "predictions = model.predict(pcs_df)\n",
    "predictions[0:10]"
   ]
  },
  {
   "cell_type": "code",
   "execution_count": 40,
   "metadata": {},
   "outputs": [
    {
     "name": "stdout",
     "output_type": "stream",
     "text": [
      "(532, 9)\n"
     ]
    },
    {
     "data": {
      "text/html": [
       "<div>\n",
       "<style scoped>\n",
       "    .dataframe tbody tr th:only-of-type {\n",
       "        vertical-align: middle;\n",
       "    }\n",
       "\n",
       "    .dataframe tbody tr th {\n",
       "        vertical-align: top;\n",
       "    }\n",
       "\n",
       "    .dataframe thead th {\n",
       "        text-align: right;\n",
       "    }\n",
       "</style>\n",
       "<table border=\"1\" class=\"dataframe\">\n",
       "  <thead>\n",
       "    <tr style=\"text-align: right;\">\n",
       "      <th></th>\n",
       "      <th>Algorithm</th>\n",
       "      <th>ProofType</th>\n",
       "      <th>TotalCoinsMined</th>\n",
       "      <th>TotalCoinSupply</th>\n",
       "      <th>PC 1</th>\n",
       "      <th>PC 2</th>\n",
       "      <th>PC 3</th>\n",
       "      <th>CoinName</th>\n",
       "      <th>Class</th>\n",
       "    </tr>\n",
       "  </thead>\n",
       "  <tbody>\n",
       "    <tr>\n",
       "      <th>42</th>\n",
       "      <td>Scrypt</td>\n",
       "      <td>PoW/PoS</td>\n",
       "      <td>4.199995e+01</td>\n",
       "      <td>42</td>\n",
       "      <td>-0.333486</td>\n",
       "      <td>1.058905</td>\n",
       "      <td>-0.554266</td>\n",
       "      <td>42 Coin</td>\n",
       "      <td>3</td>\n",
       "    </tr>\n",
       "    <tr>\n",
       "      <th>404</th>\n",
       "      <td>Scrypt</td>\n",
       "      <td>PoW/PoS</td>\n",
       "      <td>1.055185e+09</td>\n",
       "      <td>532000000</td>\n",
       "      <td>-0.316835</td>\n",
       "      <td>1.058957</td>\n",
       "      <td>-0.554563</td>\n",
       "      <td>404Coin</td>\n",
       "      <td>3</td>\n",
       "    </tr>\n",
       "    <tr>\n",
       "      <th>1337</th>\n",
       "      <td>X13</td>\n",
       "      <td>PoW/PoS</td>\n",
       "      <td>2.927942e+10</td>\n",
       "      <td>314159265359</td>\n",
       "      <td>2.293905</td>\n",
       "      <td>1.637183</td>\n",
       "      <td>-0.655961</td>\n",
       "      <td>EliteCoin</td>\n",
       "      <td>3</td>\n",
       "    </tr>\n",
       "    <tr>\n",
       "      <th>BTC</th>\n",
       "      <td>SHA-256</td>\n",
       "      <td>PoW</td>\n",
       "      <td>1.792718e+07</td>\n",
       "      <td>21000000</td>\n",
       "      <td>-0.148863</td>\n",
       "      <td>-1.316853</td>\n",
       "      <td>0.165601</td>\n",
       "      <td>Bitcoin</td>\n",
       "      <td>0</td>\n",
       "    </tr>\n",
       "    <tr>\n",
       "      <th>ETH</th>\n",
       "      <td>Ethash</td>\n",
       "      <td>PoW</td>\n",
       "      <td>1.076842e+08</td>\n",
       "      <td>0</td>\n",
       "      <td>-0.151512</td>\n",
       "      <td>-2.035109</td>\n",
       "      <td>0.397287</td>\n",
       "      <td>Ethereum</td>\n",
       "      <td>0</td>\n",
       "    </tr>\n",
       "    <tr>\n",
       "      <th>LTC</th>\n",
       "      <td>Scrypt</td>\n",
       "      <td>PoW</td>\n",
       "      <td>6.303924e+07</td>\n",
       "      <td>84000000</td>\n",
       "      <td>-0.162783</td>\n",
       "      <td>-1.091678</td>\n",
       "      <td>-0.029915</td>\n",
       "      <td>Litecoin</td>\n",
       "      <td>0</td>\n",
       "    </tr>\n",
       "    <tr>\n",
       "      <th>DASH</th>\n",
       "      <td>X11</td>\n",
       "      <td>PoW/PoS</td>\n",
       "      <td>9.031294e+06</td>\n",
       "      <td>22000000</td>\n",
       "      <td>-0.396586</td>\n",
       "      <td>1.175691</td>\n",
       "      <td>-0.435056</td>\n",
       "      <td>Dash</td>\n",
       "      <td>3</td>\n",
       "    </tr>\n",
       "    <tr>\n",
       "      <th>XMR</th>\n",
       "      <td>CryptoNight-V7</td>\n",
       "      <td>PoW</td>\n",
       "      <td>1.720114e+07</td>\n",
       "      <td>0</td>\n",
       "      <td>-0.158274</td>\n",
       "      <td>-2.217862</td>\n",
       "      <td>0.552218</td>\n",
       "      <td>Monero</td>\n",
       "      <td>0</td>\n",
       "    </tr>\n",
       "    <tr>\n",
       "      <th>ETC</th>\n",
       "      <td>Ethash</td>\n",
       "      <td>PoW</td>\n",
       "      <td>1.133597e+08</td>\n",
       "      <td>210000000</td>\n",
       "      <td>-0.149956</td>\n",
       "      <td>-2.035223</td>\n",
       "      <td>0.397281</td>\n",
       "      <td>Ethereum Classic</td>\n",
       "      <td>0</td>\n",
       "    </tr>\n",
       "    <tr>\n",
       "      <th>ZEC</th>\n",
       "      <td>Equihash</td>\n",
       "      <td>PoW</td>\n",
       "      <td>7.383056e+06</td>\n",
       "      <td>21000000</td>\n",
       "      <td>-0.132349</td>\n",
       "      <td>-2.036672</td>\n",
       "      <td>0.438941</td>\n",
       "      <td>ZCash</td>\n",
       "      <td>0</td>\n",
       "    </tr>\n",
       "  </tbody>\n",
       "</table>\n",
       "</div>"
      ],
      "text/plain": [
       "           Algorithm ProofType  TotalCoinsMined TotalCoinSupply      PC 1  \\\n",
       "42            Scrypt   PoW/PoS     4.199995e+01              42 -0.333486   \n",
       "404           Scrypt   PoW/PoS     1.055185e+09       532000000 -0.316835   \n",
       "1337             X13   PoW/PoS     2.927942e+10    314159265359  2.293905   \n",
       "BTC          SHA-256       PoW     1.792718e+07        21000000 -0.148863   \n",
       "ETH           Ethash       PoW     1.076842e+08               0 -0.151512   \n",
       "LTC           Scrypt       PoW     6.303924e+07        84000000 -0.162783   \n",
       "DASH             X11   PoW/PoS     9.031294e+06        22000000 -0.396586   \n",
       "XMR   CryptoNight-V7       PoW     1.720114e+07               0 -0.158274   \n",
       "ETC           Ethash       PoW     1.133597e+08       210000000 -0.149956   \n",
       "ZEC         Equihash       PoW     7.383056e+06        21000000 -0.132349   \n",
       "\n",
       "          PC 2      PC 3          CoinName  Class  \n",
       "42    1.058905 -0.554266           42 Coin      3  \n",
       "404   1.058957 -0.554563           404Coin      3  \n",
       "1337  1.637183 -0.655961         EliteCoin      3  \n",
       "BTC  -1.316853  0.165601           Bitcoin      0  \n",
       "ETH  -2.035109  0.397287          Ethereum      0  \n",
       "LTC  -1.091678 -0.029915          Litecoin      0  \n",
       "DASH  1.175691 -0.435056              Dash      3  \n",
       "XMR  -2.217862  0.552218            Monero      0  \n",
       "ETC  -2.035223  0.397281  Ethereum Classic      0  \n",
       "ZEC  -2.036672  0.438941             ZCash      0  "
      ]
     },
     "execution_count": 40,
     "metadata": {},
     "output_type": "execute_result"
    }
   ],
   "source": [
    "# Create a new DataFrame including predicted clusters and cryptocurrencies features.\n",
    "# Concatentate the crypto_df and pcs_df DataFrames on the same columns.\n",
    "clustered_df = pd.concat([df, pcs_df], axis=1)\n",
    "\n",
    "#  Add a new column, \"CoinName\" to the clustered_df DataFrame that holds the names of the cryptocurrencies. \n",
    "clustered_df[\"CoinName\"] = df_names\n",
    "\n",
    "#  Add a new column, \"Class\" to the clustered_df DataFrame that holds the predictions.\n",
    "clustered_df[\"Class\"] = model.labels_\n",
    "\n",
    "# Print the shape of the clustered_df\n",
    "print(clustered_df.shape)\n",
    "clustered_df.head(10)"
   ]
  },
  {
   "cell_type": "markdown",
   "metadata": {},
   "source": [
    "### Deliverable 4: Visualizing Cryptocurrencies Results\n",
    "\n",
    "#### 3D-Scatter with Clusters"
   ]
  },
  {
   "cell_type": "code",
   "execution_count": 44,
   "metadata": {},
   "outputs": [
    {
     "data": {
      "application/vnd.plotly.v1+json": {
       "config": {
        "plotlyServerURL": "https://plot.ly"
       },
       "data": [
        {
         "customdata": [
          [
           "Scrypt"
          ],
          [
           "Scrypt"
          ],
          [
           "X13"
          ],
          [
           "SHA-256"
          ],
          [
           "Ethash"
          ],
          [
           "Scrypt"
          ],
          [
           "X11"
          ],
          [
           "CryptoNight-V7"
          ],
          [
           "Ethash"
          ],
          [
           "Equihash"
          ],
          [
           "SHA-512"
          ],
          [
           "Multiple"
          ],
          [
           "SHA-256"
          ],
          [
           "SHA-256"
          ],
          [
           "Scrypt"
          ],
          [
           "X15"
          ],
          [
           "X11"
          ],
          [
           "Scrypt"
          ],
          [
           "Scrypt"
          ],
          [
           "Scrypt"
          ],
          [
           "Multiple"
          ],
          [
           "Scrypt"
          ],
          [
           "SHA-256"
          ],
          [
           "Scrypt"
          ],
          [
           "Scrypt"
          ],
          [
           "Scrypt"
          ],
          [
           "Quark"
          ],
          [
           "Groestl"
          ],
          [
           "Scrypt"
          ],
          [
           "Scrypt"
          ],
          [
           "Scrypt"
          ],
          [
           "Scrypt"
          ],
          [
           "Scrypt"
          ],
          [
           "X11"
          ],
          [
           "Scrypt"
          ],
          [
           "Groestl"
          ],
          [
           "Multiple"
          ],
          [
           "SHA-256"
          ],
          [
           "Scrypt"
          ],
          [
           "Scrypt"
          ],
          [
           "Scrypt"
          ],
          [
           "Scrypt"
          ],
          [
           "PoS"
          ],
          [
           "Scrypt"
          ],
          [
           "Scrypt"
          ],
          [
           "NeoScrypt"
          ],
          [
           "Scrypt"
          ],
          [
           "Scrypt"
          ],
          [
           "Scrypt"
          ],
          [
           "Scrypt"
          ],
          [
           "X11"
          ],
          [
           "Scrypt"
          ],
          [
           "X11"
          ],
          [
           "SHA-256"
          ],
          [
           "Scrypt"
          ],
          [
           "Scrypt"
          ],
          [
           "Scrypt"
          ],
          [
           "SHA3"
          ],
          [
           "Scrypt"
          ],
          [
           "HybridScryptHash256"
          ],
          [
           "Scrypt"
          ],
          [
           "Scrypt"
          ],
          [
           "SHA-256"
          ],
          [
           "Scrypt"
          ],
          [
           "X13"
          ],
          [
           "Scrypt"
          ],
          [
           "SHA-256"
          ],
          [
           "Scrypt"
          ],
          [
           "X13"
          ],
          [
           "NeoScrypt"
          ],
          [
           "Scrypt"
          ],
          [
           "Scrypt"
          ],
          [
           "Scrypt"
          ],
          [
           "Scrypt"
          ],
          [
           "Scrypt"
          ],
          [
           "Scrypt"
          ],
          [
           "X11"
          ],
          [
           "X11"
          ],
          [
           "SHA-256"
          ],
          [
           "Multiple"
          ],
          [
           "SHA-256"
          ],
          [
           "PHI1612"
          ],
          [
           "X11"
          ],
          [
           "SHA-256"
          ],
          [
           "SHA-256"
          ],
          [
           "SHA-256"
          ],
          [
           "X11"
          ],
          [
           "Scrypt"
          ],
          [
           "Scrypt"
          ],
          [
           "Scrypt"
          ],
          [
           "Scrypt"
          ],
          [
           "Lyra2REv2"
          ],
          [
           "Scrypt"
          ],
          [
           "X11"
          ],
          [
           "Multiple"
          ],
          [
           "SHA-256"
          ],
          [
           "X13"
          ],
          [
           "Scrypt"
          ],
          [
           "CryptoNight"
          ],
          [
           "CryptoNight"
          ],
          [
           "Shabal256"
          ],
          [
           "Counterparty"
          ],
          [
           "Scrypt"
          ],
          [
           "SHA-256"
          ],
          [
           "Groestl"
          ],
          [
           "Scrypt"
          ],
          [
           "Scrypt"
          ],
          [
           "Scrypt"
          ],
          [
           "X13"
          ],
          [
           "Scrypt"
          ],
          [
           "Scrypt"
          ],
          [
           "Scrypt"
          ],
          [
           "Scrypt"
          ],
          [
           "X13"
          ],
          [
           "Scrypt"
          ],
          [
           "Stanford Folding"
          ],
          [
           "X11"
          ],
          [
           "Multiple"
          ],
          [
           "QuBit"
          ],
          [
           "Scrypt"
          ],
          [
           "Scrypt"
          ],
          [
           "Scrypt"
          ],
          [
           "M7 POW"
          ],
          [
           "Scrypt"
          ],
          [
           "SHA-256"
          ],
          [
           "Scrypt"
          ],
          [
           "X11"
          ],
          [
           "SHA3"
          ],
          [
           "X11"
          ],
          [
           "Lyra2RE"
          ],
          [
           "SHA-256"
          ],
          [
           "QUAIT"
          ],
          [
           "X11"
          ],
          [
           "X11"
          ],
          [
           "Scrypt"
          ],
          [
           "Scrypt"
          ],
          [
           "Scrypt"
          ],
          [
           "Ethash"
          ],
          [
           "X13"
          ],
          [
           "Blake2b"
          ],
          [
           "SHA-256"
          ],
          [
           "X15"
          ],
          [
           "X11"
          ],
          [
           "SHA-256"
          ],
          [
           "BLAKE256"
          ],
          [
           "Scrypt"
          ],
          [
           "1GB AES Pattern Search"
          ],
          [
           "SHA-256"
          ],
          [
           "X11"
          ],
          [
           "Scrypt"
          ],
          [
           "SHA-256"
          ],
          [
           "SHA-256"
          ],
          [
           "NIST5"
          ],
          [
           "Scrypt"
          ],
          [
           "Scrypt"
          ],
          [
           "X11"
          ],
          [
           "Dagger"
          ],
          [
           "Scrypt"
          ],
          [
           "X11GOST"
          ],
          [
           "X11"
          ],
          [
           "Scrypt"
          ],
          [
           "SHA-256"
          ],
          [
           "Scrypt"
          ],
          [
           "PoS"
          ],
          [
           "Scrypt"
          ],
          [
           "X11"
          ],
          [
           "X11"
          ],
          [
           "SHA-256"
          ],
          [
           "SHA-256"
          ],
          [
           "NIST5"
          ],
          [
           "X11"
          ],
          [
           "Scrypt"
          ],
          [
           "POS 3.0"
          ],
          [
           "Scrypt"
          ],
          [
           "Scrypt"
          ],
          [
           "Scrypt"
          ],
          [
           "X13"
          ],
          [
           "X11"
          ],
          [
           "X11"
          ],
          [
           "Equihash"
          ],
          [
           "X11"
          ],
          [
           "Scrypt"
          ],
          [
           "CryptoNight"
          ],
          [
           "SHA-256"
          ],
          [
           "SHA-256"
          ],
          [
           "X11"
          ],
          [
           "Scrypt"
          ],
          [
           "Multiple"
          ],
          [
           "Scrypt"
          ],
          [
           "Scrypt"
          ],
          [
           "Scrypt"
          ],
          [
           "SHA-256"
          ],
          [
           "Scrypt"
          ],
          [
           "Scrypt"
          ],
          [
           "SHA-256D"
          ],
          [
           "PoS"
          ],
          [
           "Scrypt"
          ],
          [
           "X11"
          ],
          [
           "Lyra2Z"
          ],
          [
           "PoS"
          ],
          [
           "X13"
          ],
          [
           "X14"
          ],
          [
           "PoS"
          ],
          [
           "SHA-256D"
          ],
          [
           "Ethash"
          ],
          [
           "Equihash"
          ],
          [
           "DPoS"
          ],
          [
           "X11"
          ],
          [
           "Scrypt"
          ],
          [
           "X11"
          ],
          [
           "X13"
          ],
          [
           "X11"
          ],
          [
           "PoS"
          ],
          [
           "Scrypt"
          ],
          [
           "Scrypt"
          ],
          [
           "X11"
          ],
          [
           "PoS"
          ],
          [
           "X11"
          ],
          [
           "SHA-256"
          ],
          [
           "Scrypt"
          ],
          [
           "X11"
          ],
          [
           "Scrypt"
          ],
          [
           "Scrypt"
          ],
          [
           "X11"
          ],
          [
           "CryptoNight"
          ],
          [
           "Scrypt"
          ],
          [
           "Scrypt"
          ],
          [
           "Scrypt"
          ],
          [
           "Scrypt"
          ],
          [
           "Quark"
          ],
          [
           "QuBit"
          ],
          [
           "Scrypt"
          ],
          [
           "CryptoNight"
          ],
          [
           "Lyra2RE"
          ],
          [
           "Scrypt"
          ],
          [
           "SHA-256"
          ],
          [
           "X11"
          ],
          [
           "Scrypt"
          ],
          [
           "X11"
          ],
          [
           "Scrypt"
          ],
          [
           "CryptoNight-V7"
          ],
          [
           "Scrypt"
          ],
          [
           "Scrypt"
          ],
          [
           "Scrypt"
          ],
          [
           "X13"
          ],
          [
           "X11"
          ],
          [
           "Equihash"
          ],
          [
           "Scrypt"
          ],
          [
           "Scrypt"
          ],
          [
           "Lyra2RE"
          ],
          [
           "Scrypt"
          ],
          [
           "Dagger-Hashimoto"
          ],
          [
           "X11"
          ],
          [
           "Blake2S"
          ],
          [
           "X11"
          ],
          [
           "Scrypt"
          ],
          [
           "PoS"
          ],
          [
           "X11"
          ],
          [
           "NIST5"
          ],
          [
           "PoS"
          ],
          [
           "X11"
          ],
          [
           "Scrypt"
          ],
          [
           "Scrypt"
          ],
          [
           "Scrypt"
          ],
          [
           "SHA-256"
          ],
          [
           "X11"
          ],
          [
           "Scrypt"
          ],
          [
           "Scrypt"
          ],
          [
           "SHA-256"
          ],
          [
           "PoS"
          ],
          [
           "Scrypt"
          ],
          [
           "X15"
          ],
          [
           "SHA-256"
          ],
          [
           "Scrypt"
          ],
          [
           "POS 3.0"
          ],
          [
           "CryptoNight-V7"
          ],
          [
           "536"
          ],
          [
           "Argon2d"
          ],
          [
           "Blake2b"
          ],
          [
           "Cloverhash"
          ],
          [
           "CryptoNight"
          ],
          [
           "NIST5"
          ],
          [
           "X11"
          ],
          [
           "NIST5"
          ],
          [
           "Skein"
          ],
          [
           "Scrypt"
          ],
          [
           "X13"
          ],
          [
           "Scrypt"
          ],
          [
           "X11"
          ],
          [
           "X11"
          ],
          [
           "Scrypt"
          ],
          [
           "CryptoNight"
          ],
          [
           "X13"
          ],
          [
           "Time Travel"
          ],
          [
           "Scrypt"
          ],
          [
           "Keccak"
          ],
          [
           "SkunkHash v2 Raptor"
          ],
          [
           "X11"
          ],
          [
           "Skein"
          ],
          [
           "SHA-256"
          ],
          [
           "X11"
          ],
          [
           "Scrypt"
          ],
          [
           "VeChainThor Authority"
          ],
          [
           "Scrypt"
          ],
          [
           "PoS"
          ],
          [
           "Scrypt"
          ],
          [
           "Scrypt"
          ],
          [
           "Scrypt"
          ],
          [
           "Scrypt"
          ],
          [
           "Scrypt"
          ],
          [
           "Scrypt"
          ],
          [
           "Scrypt"
          ],
          [
           "CryptoNight"
          ],
          [
           "SHA-512"
          ],
          [
           "Ouroboros"
          ],
          [
           "X11"
          ],
          [
           "Equihash"
          ],
          [
           "NeoScrypt"
          ],
          [
           "X11"
          ],
          [
           "Scrypt"
          ],
          [
           "NeoScrypt"
          ],
          [
           "Lyra2REv2"
          ],
          [
           "Equihash"
          ],
          [
           "Scrypt"
          ],
          [
           "SHA-256"
          ],
          [
           "NIST5"
          ],
          [
           "PHI1612"
          ],
          [
           "Dagger"
          ],
          [
           "Scrypt"
          ],
          [
           "Quark"
          ],
          [
           "Scrypt"
          ],
          [
           "POS 2.0"
          ],
          [
           "Scrypt"
          ],
          [
           "SHA-256"
          ],
          [
           "X11"
          ],
          [
           "NeoScrypt"
          ],
          [
           "Ethash"
          ],
          [
           "NeoScrypt"
          ],
          [
           "X11"
          ],
          [
           "DPoS"
          ],
          [
           "NIST5"
          ],
          [
           "X13"
          ],
          [
           "Multiple"
          ],
          [
           "Scrypt"
          ],
          [
           "CryptoNight"
          ],
          [
           "CryptoNight"
          ],
          [
           "Ethash"
          ],
          [
           "NIST5"
          ],
          [
           "Quark"
          ],
          [
           "X11"
          ],
          [
           "CryptoNight-V7"
          ],
          [
           "Scrypt"
          ],
          [
           "Scrypt"
          ],
          [
           "Scrypt"
          ],
          [
           "X11"
          ],
          [
           "BLAKE256"
          ],
          [
           "X11"
          ],
          [
           "NeoScrypt"
          ],
          [
           "Quark"
          ],
          [
           "NeoScrypt"
          ],
          [
           "Scrypt"
          ],
          [
           "Scrypt"
          ],
          [
           "Scrypt"
          ],
          [
           "X11"
          ],
          [
           "X11"
          ],
          [
           "SHA-256"
          ],
          [
           "C11"
          ],
          [
           "POS 3.0"
          ],
          [
           "Ethash"
          ],
          [
           "Scrypt"
          ],
          [
           "CryptoNight"
          ],
          [
           "SkunkHash"
          ],
          [
           "Scrypt"
          ],
          [
           "CryptoNight"
          ],
          [
           "Scrypt"
          ],
          [
           "Dagger"
          ],
          [
           "Lyra2REv2"
          ],
          [
           "X13"
          ],
          [
           "Proof-of-BibleHash"
          ],
          [
           "SHA-256 + Hive"
          ],
          [
           "Scrypt"
          ],
          [
           "Scrypt"
          ],
          [
           "X11"
          ],
          [
           "C11"
          ],
          [
           "Proof-of-Authority"
          ],
          [
           "X11"
          ],
          [
           "XEVAN"
          ],
          [
           "Scrypt"
          ],
          [
           "VBFT"
          ],
          [
           "Ethash"
          ],
          [
           "CryptoNight"
          ],
          [
           "Scrypt"
          ],
          [
           "IMesh"
          ],
          [
           "NIST5"
          ],
          [
           "Scrypt"
          ],
          [
           "Scrypt"
          ],
          [
           "Equihash"
          ],
          [
           "Scrypt"
          ],
          [
           "Lyra2Z"
          ],
          [
           "Green Protocol"
          ],
          [
           "PoS"
          ],
          [
           "Scrypt"
          ],
          [
           "Semux BFT consensus"
          ],
          [
           "X11"
          ],
          [
           "Quark"
          ],
          [
           "PoS"
          ],
          [
           "CryptoNight"
          ],
          [
           "X16R"
          ],
          [
           "Scrypt"
          ],
          [
           "NIST5"
          ],
          [
           "Lyra2RE"
          ],
          [
           "XEVAN"
          ],
          [
           "Tribus"
          ],
          [
           "Scrypt"
          ],
          [
           "Lyra2Z"
          ],
          [
           "CryptoNight"
          ],
          [
           "CryptoNight Heavy"
          ],
          [
           "CryptoNight"
          ],
          [
           "Scrypt"
          ],
          [
           "Scrypt"
          ],
          [
           "Jump Consistent Hash"
          ],
          [
           "SHA-256D"
          ],
          [
           "CryptoNight"
          ],
          [
           "Scrypt"
          ],
          [
           "X15"
          ],
          [
           "Scrypt"
          ],
          [
           "Quark"
          ],
          [
           "SHA-256"
          ],
          [
           "DPoS"
          ],
          [
           "X16R"
          ],
          [
           "HMQ1725"
          ],
          [
           "X11"
          ],
          [
           "X16R"
          ],
          [
           "Quark"
          ],
          [
           "Quark"
          ],
          [
           "Scrypt"
          ],
          [
           "Lyra2REv2"
          ],
          [
           "Quark"
          ],
          [
           "Scrypt"
          ],
          [
           "Scrypt"
          ],
          [
           "CryptoNight-V7"
          ],
          [
           "Cryptonight-GPU"
          ],
          [
           "XEVAN"
          ],
          [
           "CryptoNight Heavy"
          ],
          [
           "X11"
          ],
          [
           "X11"
          ],
          [
           "Scrypt"
          ],
          [
           "PoS"
          ],
          [
           "SHA-256"
          ],
          [
           "Keccak"
          ],
          [
           "X11"
          ],
          [
           "X11"
          ],
          [
           "Scrypt"
          ],
          [
           "SHA-512"
          ],
          [
           "X16R"
          ],
          [
           "ECC 256K1"
          ],
          [
           "Equihash"
          ],
          [
           "XEVAN"
          ],
          [
           "Lyra2Z"
          ],
          [
           "SHA-256"
          ],
          [
           "XEVAN"
          ],
          [
           "X11"
          ],
          [
           "CryptoNight"
          ],
          [
           "Quark"
          ],
          [
           "Blake"
          ],
          [
           "Blake"
          ],
          [
           "Equihash"
          ],
          [
           "Exosis"
          ],
          [
           "Scrypt"
          ],
          [
           "Scrypt"
          ],
          [
           "Equihash"
          ],
          [
           "Quark"
          ],
          [
           "Equihash"
          ],
          [
           "Quark"
          ],
          [
           "Scrypt"
          ],
          [
           "QuBit"
          ],
          [
           "X11"
          ],
          [
           "Scrypt"
          ],
          [
           "XEVAN"
          ],
          [
           "SHA-256D"
          ],
          [
           "X11"
          ],
          [
           "SHA-256"
          ],
          [
           "X13"
          ],
          [
           "SHA-256"
          ],
          [
           "X11"
          ],
          [
           "DPoS"
          ],
          [
           "Scrypt"
          ],
          [
           "Scrypt"
          ],
          [
           "X11"
          ],
          [
           "NeoScrypt"
          ],
          [
           "Scrypt"
          ],
          [
           "Blake"
          ],
          [
           "Scrypt"
          ],
          [
           "SHA-256"
          ],
          [
           "Scrypt"
          ],
          [
           "X11"
          ],
          [
           "Scrypt"
          ],
          [
           "Scrypt"
          ],
          [
           "SHA-256"
          ],
          [
           "X11"
          ],
          [
           "SHA-256"
          ],
          [
           "Scrypt"
          ],
          [
           "Scrypt"
          ],
          [
           "Scrypt"
          ],
          [
           "Groestl"
          ],
          [
           "X11"
          ],
          [
           "Scrypt"
          ],
          [
           "PoS"
          ],
          [
           "Scrypt"
          ],
          [
           "Scrypt"
          ],
          [
           "X11"
          ],
          [
           "SHA-256"
          ],
          [
           "DPoS"
          ],
          [
           "Scrypt"
          ],
          [
           "Scrypt"
          ],
          [
           "NeoScrypt"
          ],
          [
           "Multiple"
          ],
          [
           "X13"
          ],
          [
           "Equihash+Scrypt"
          ],
          [
           "DPoS"
          ],
          [
           "Ethash"
          ],
          [
           "DPoS"
          ],
          [
           "SHA-256"
          ],
          [
           "Leased POS"
          ],
          [
           "PoS"
          ],
          [
           "TRC10"
          ],
          [
           "PoS"
          ],
          [
           "SHA-256"
          ],
          [
           "Scrypt"
          ],
          [
           "CryptoNight"
          ],
          [
           "Equihash"
          ],
          [
           "Scrypt"
          ]
         ],
         "hovertemplate": "<b>%{hovertext}</b><br><br>PC 1=%{x}<br>PC 2=%{y}<br>PC 3=%{z}<br>Algorithm=%{customdata[0]}<br>Class=%{marker.color}<extra></extra>",
         "hovertext": [
          "42 Coin",
          "404Coin",
          "EliteCoin",
          "Bitcoin",
          "Ethereum",
          "Litecoin",
          "Dash",
          "Monero",
          "Ethereum Classic",
          "ZCash",
          "Bitshares",
          "DigiByte",
          "BitcoinDark",
          "PayCoin",
          "ProsperCoin",
          "KoboCoin",
          "Spreadcoin",
          "Argentum",
          "Aurora Coin",
          "BlueCoin",
          "MyriadCoin",
          "MoonCoin",
          "ZetaCoin",
          "SexCoin",
          "Quatloo",
          "EnergyCoin",
          "QuarkCoin",
          "Riecoin",
          "Digitalcoin ",
          "BitBar",
          "Catcoin",
          "CryptoBullion",
          "CannaCoin",
          "CryptCoin",
          "CasinoCoin",
          "Diamond",
          "Verge",
          "DevCoin",
          "EarthCoin",
          "E-Gulden",
          "Einsteinium",
          "Emerald",
          "Exclusive Coin",
          "FlutterCoin",
          "Franko",
          "FeatherCoin",
          "GrandCoin",
          "GlobalCoin",
          "GoldCoin",
          "HoboNickels",
          "HyperStake",
          "Infinite Coin",
          "IOCoin",
          "IXcoin",
          "KrugerCoin",
          "LuckyCoin",
          "Litebar ",
          "MaxCoin",
          "MegaCoin",
          "MediterraneanCoin",
          "MintCoin",
          "MinCoin",
          "MazaCoin",
          "Nautilus Coin",
          "NavCoin",
          "NobleCoin",
          "Namecoin",
          "NyanCoin",
          "OpalCoin",
          "Orbitcoin",
          "PotCoin",
          "PhoenixCoin",
          "Reddcoin",
          "RonPaulCoin",
          "StableCoin",
          "SmartCoin",
          "SuperCoin",
          "SyncCoin",
          "SysCoin",
          "TeslaCoin",
          "TigerCoin",
          "TittieCoin",
          "TorCoin",
          "TerraCoin",
          "UnbreakableCoin",
          "Unobtanium",
          "UroCoin",
          "UnitaryStatus Dollar",
          "UltraCoin",
          "ViaCoin",
          "VeriCoin",
          "Vertcoin",
          "WorldCoin",
          "X11 Coin",
          "Crypti",
          "JouleCoin",
          "StealthCoin",
          "ZCC Coin",
          "ByteCoin",
          "DigitalNote ",
          "BurstCoin",
          "StorjCoin",
          "MonaCoin",
          "Neutron",
          "FairCoin",
          "Gulden",
          "RubyCoin",
          "PesetaCoin",
          "Kore",
          "Wild Beast Coin",
          "Dnotes",
          "Flo",
          "8BIT Coin",
          "Sativa Coin",
          "ArtByte",
          "Folding Coin",
          "Ucoin",
          "Unitus",
          "CypherPunkCoin",
          "OmniCron",
          "Vtorrent",
          "GreenCoin",
          "Cryptonite",
          "MasterCoin",
          "SoonCoin",
          "1Credit",
          "IslaCoin",
          "Nexus",
          "MarsCoin ",
          "Crypto",
          "Anarchists Prime",
          "Droidz",
          "BowsCoin",
          "Squall Coin",
          "Song Coin",
          "BitZeny",
          "Diggits",
          "Expanse",
          "Paycon",
          "Siacoin",
          "Emercoin",
          "EverGreenCoin",
          "MindCoin",
          "I0coin",
          "Decred",
          "Revolution VR",
          "HOdlcoin",
          "EDRCoin",
          "Hitcoin",
          "Gamecredits",
          "DubaiCoin",
          "CarpeDiemCoin",
          "PWR Coin",
          "BillaryCoin",
          "GPU Coin",
          "Adzcoin",
          "SoilCoin",
          "YoCoin",
          "SibCoin",
          "EuropeCoin",
          "ZeitCoin",
          "SwingCoin",
          "SafeExchangeCoin",
          "Nebuchadnezzar",
          "Francs",
          "BolivarCoin",
          "Ratecoin",
          "Revenu",
          "Clockcoin",
          "VIP Tokens",
          "BitSend",
          "Omni",
          "Let it Ride",
          "PutinCoin",
          "iBankCoin",
          "Frankywillcoin",
          "MudraCoin",
          "PizzaCoin",
          "Lutetium Coin",
          "Komodo",
          "GoldBlocks",
          "CarterCoin",
          "Karbo",
          "BitTokens",
          "ZayedCoin",
          "MustangCoin",
          "ZoneCoin",
          "Circuits of Value",
          "RootCoin",
          "DopeCoin",
          "BitCurrency",
          "DollarCoin",
          "Swiscoin",
          "Shilling",
          "BuzzCoin",
          "Opair",
          "PesoBit",
          "Halloween Coin",
          "ZCoin",
          "CoffeeCoin",
          "RoyalCoin",
          "GanjaCoin V2",
          "TeamUP",
          "LanaCoin",
          "Elementrem",
          "ZClassic",
          "ARK",
          "InsaneCoin",
          "KiloCoin",
          "ArtexCoin",
          "EmberCoin",
          "XenixCoin",
          "FreeCoin",
          "PLNCoin",
          "AquariusCoin",
          "Kurrent",
          "Creatio",
          "Eternity",
          "Eurocoin",
          "BitcoinFast",
          "Stakenet",
          "BitConnect Coin",
          "MoneyCoin",
          "Enigma",
          "Cannabis Industry Coin",
          "Russiacoin",
          "PandaCoin",
          "GameUnits",
          "GAKHcoin",
          "Allsafe",
          "LiteCreed",
          "OsmiumCoin",
          "Bikercoins",
          "HexxCoin",
          "Klingon Empire Darsek",
          "Internet of People",
          "KushCoin",
          "Printerium",
          "PacCoin",
          "Impeach",
          "Citadel",
          "Zilbercoin",
          "FirstCoin",
          "BeaverCoin",
          "FindCoin",
          "VaultCoin",
          "Zero",
          "OpenChat",
          "Canada eCoin",
          "Zoin",
          "RenosCoin",
          "DubaiCoin",
          "VirtacoinPlus",
          "TajCoin",
          "Impact",
          "EB3coin",
          "Atmos",
          "HappyCoin",
          "Coinonat",
          "MacronCoin",
          "Condensate",
          "Independent Money System",
          "ArgusCoin",
          "LomoCoin",
          "ProCurrency",
          "GoldReserve",
          "BenjiRolls",
          "GrowthCoin",
          "ILCoin",
          "Phreak",
          "Degas Coin",
          "HTML5 Coin",
          "Ultimate Secure Cash",
          "EquiTrader",
          "QTUM",
          "Quantum Resistant Ledger",
          "Espers",
          "Dynamic",
          "Nano",
          "ChanCoin",
          "Dinastycoin",
          "Denarius",
          "DigitalPrice",
          "Virta Unique Coin",
          "Bitcoin Planet",
          "Unify",
          "BritCoin",
          "SocialCoin",
          "ArcticCoin",
          "DAS",
          "Linda",
          "LeviarCoin",
          "DeepOnion",
          "Bitcore",
          "gCn Coin",
          "SmartCash",
          "Signatum",
          "Onix",
          "Cream",
          "Bitcoin Cash",
          "Monoeci",
          "Draftcoin",
          "Vechain",
          "Sojourn Coin",
          "Stakecoin",
          "NewYorkCoin",
          "FrazCoin",
          "Kronecoin",
          "AdCoin",
          "Linx",
          "CoinonatX",
          "Ethereum Dark",
          "Sumokoin",
          "Obsidian",
          "Cardano",
          "Regalcoin",
          "BitcoinZ",
          "TrezarCoin",
          "Elements",
          "TerraNovaCoin",
          "VIVO Coin",
          "Rupee",
          "Bitcoin Gold",
          "WomenCoin",
          "Theresa May Coin",
          "NamoCoin",
          "LUXCoin",
          "Pirl",
          "Xios",
          "Bitcloud 2.0",
          "eBoost",
          "KekCoin",
          "BlackholeCoin",
          "Infinity Economics",
          "Pura",
          "Innova",
          "Ellaism",
          "GoByte",
          "Magnet",
          "Lamden Tau",
          "Electra",
          "Bitcoin Diamond",
          "SHIELD",
          "Cash & Back Coin",
          "UltraNote",
          "BitCoal",
          "DaxxCoin",
          "Bulwark",
          "Kalkulus",
          "AC3",
          "Lethean",
          "GermanCoin",
          "LiteCoin Ultra",
          "PopularCoin",
          "PhantomX",
          "Photon",
          "Sucre",
          "SparksPay",
          "Digiwage",
          "GunCoin",
          "IrishCoin",
          "Trollcoin",
          "Litecoin Plus",
          "Monkey Project",
          "Pioneer Coin",
          "UnitedBitcoin",
          "Interzone",
          "TokenPay",
          "1717 Masonic Commemorative Token",
          "My Big Coin",
          "TurtleCoin",
          "MUNcoin",
          "Unified Society USDEX",
          "Niobio Cash",
          "ShareChain",
          "Travelflex",
          "KREDS",
          "Tokyo Coin",
          "BiblePay",
          "LitecoinCash",
          "BitFlip",
          "LottoCoin",
          "Crypto Improvement Fund",
          "Stipend",
          "Poa Network",
          "Pushi",
          "Ellerium",
          "Velox",
          "Ontology",
          "Callisto Network",
          "BitTube",
          "Poseidon",
          "Aidos Kuneen",
          "Bitspace",
          "Briacoin",
          "Ignition",
          "Bitrolium",
          "MedicCoin",
          "Alpenschillling",
          "Bitcoin Green",
          "Deviant Coin",
          "Abjcoin",
          "Semux",
          "FuturoCoin",
          "Carebit",
          "Zealium",
          "Monero Classic",
          "Proton",
          "iDealCash",
          "Jumpcoin",
          "Infinex",
          "Bitcoin Incognito",
          "KEYCO",
          "HollyWoodCoin",
          "GINcoin",
          "PlatinCoin",
          "Loki",
          "Newton Coin",
          "Swisscoin",
          "Xt3ch",
          "MassGrid",
          "TheVig",
          "PluraCoin",
          "EmaratCoin",
          "Dekado",
          "Lynx",
          "Poseidon Quark",
          "BitcoinWSpectrum",
          "Muse",
          "Motion",
          "PlusOneCoin",
          "Axe",
          "Trivechain",
          "Dystem",
          "Giant",
          "Peony Coin",
          "Absolute Coin",
          "Vitae",
          "HexCoin",
          "TPCash",
          "Webchain",
          "Ryo",
          "Urals Coin",
          "Qwertycoin",
          "ARENON",
          "EUNO",
          "MMOCoin",
          "Ketan",
          "Project Pai",
          "XDNA",
          "PAXEX",
          "Azart",
          "ThunderStake",
          "Kcash",
          "Xchange",
          "Acute Angle Cloud",
          "CrypticCoin",
          "Bettex coin",
          "Actinium",
          "Bitcoin SV",
          "BitMoney",
          "Junson Ming Chan Coin",
          "FREDEnergy",
          "HerbCoin",
          "Universal Molecule",
          "Lithium",
          "PirateCash",
          "Exosis",
          "Block-Logic",
          "Oduwa",
          "Beam",
          "Galilel",
          "Bithereum",
          "Crypto Sports",
          "Credit",
          "SLICE",
          "Dash Platinum",
          "Nasdacoin",
          "Beetle Coin",
          "Titan Coin",
          "Award",
          "BLAST",
          "Bitcoin Rhodium",
          "GlobalToken",
          "Insane Coin",
          "ALAX",
          "LiteDoge",
          "SolarCoin",
          "TruckCoin",
          "UFO Coin",
          "OrangeCoin",
          "BlakeCoin",
          "BitstarCoin",
          "NeosCoin",
          "HyperCoin",
          "PinkCoin",
          "Crypto Escudo",
          "AudioCoin",
          "IncaKoin",
          "Piggy Coin",
          "Crown Coin",
          "Genstake",
          "SmileyCoin",
          "XiaoMiCoin",
          "Groestlcoin",
          "CapriCoin",
          " ClubCoin",
          "Radium",
          "Bata",
          "Pakcoin",
          "Creditbit ",
          "OKCash",
          "Lisk",
          "HiCoin",
          "WhiteCoin",
          "FriendshipCoin",
          "JoinCoin",
          "Triangles Coin",
          "Vollar",
          "EOS",
          "Reality Clash",
          "Oxycoin",
          "TigerCash",
          "Waves",
          "Particl",
          "BitTorrent",
          "Nxt",
          "ZEPHYR",
          "Gapcoin",
          "Beldex",
          "Horizen",
          "BitcoinPlus"
         ],
         "legendgroup": "",
         "marker": {
          "color": [
           3,
           3,
           3,
           0,
           0,
           0,
           3,
           0,
           0,
           0,
           3,
           0,
           3,
           3,
           0,
           3,
           0,
           0,
           3,
           3,
           0,
           0,
           0,
           0,
           0,
           3,
           0,
           0,
           0,
           3,
           0,
           3,
           0,
           0,
           3,
           3,
           0,
           0,
           0,
           0,
           0,
           0,
           3,
           3,
           0,
           0,
           0,
           0,
           0,
           3,
           3,
           0,
           3,
           0,
           0,
           0,
           0,
           3,
           0,
           0,
           3,
           0,
           3,
           3,
           3,
           0,
           0,
           0,
           3,
           3,
           3,
           3,
           3,
           0,
           0,
           0,
           3,
           3,
           0,
           3,
           0,
           3,
           3,
           0,
           0,
           0,
           0,
           3,
           3,
           0,
           3,
           0,
           0,
           3,
           3,
           0,
           3,
           3,
           0,
           0,
           3,
           3,
           0,
           3,
           3,
           0,
           3,
           0,
           3,
           0,
           3,
           0,
           3,
           3,
           0,
           0,
           3,
           0,
           0,
           0,
           3,
           0,
           0,
           0,
           0,
           0,
           3,
           3,
           0,
           0,
           0,
           3,
           0,
           3,
           0,
           0,
           3,
           0,
           3,
           0,
           3,
           3,
           0,
           0,
           3,
           0,
           0,
           3,
           3,
           0,
           3,
           0,
           3,
           3,
           3,
           0,
           0,
           0,
           0,
           3,
           3,
           3,
           3,
           3,
           0,
           0,
           3,
           3,
           3,
           3,
           3,
           0,
           3,
           3,
           3,
           3,
           3,
           0,
           3,
           0,
           3,
           3,
           0,
           3,
           0,
           3,
           3,
           0,
           3,
           0,
           3,
           0,
           3,
           0,
           3,
           3,
           3,
           3,
           0,
           3,
           3,
           3,
           3,
           3,
           0,
           0,
           3,
           3,
           0,
           0,
           3,
           3,
           3,
           3,
           3,
           0,
           3,
           3,
           3,
           3,
           3,
           3,
           3,
           3,
           0,
           3,
           3,
           3,
           3,
           3,
           3,
           0,
           0,
           0,
           3,
           3,
           3,
           3,
           0,
           3,
           0,
           3,
           3,
           0,
           3,
           0,
           0,
           3,
           0,
           0,
           3,
           0,
           3,
           3,
           3,
           0,
           3,
           3,
           0,
           3,
           3,
           3,
           3,
           3,
           3,
           3,
           0,
           3,
           0,
           3,
           3,
           3,
           3,
           0,
           3,
           0,
           3,
           0,
           0,
           0,
           0,
           3,
           0,
           3,
           3,
           0,
           3,
           0,
           0,
           0,
           3,
           0,
           3,
           0,
           0,
           0,
           3,
           0,
           3,
           0,
           3,
           3,
           2,
           0,
           3,
           0,
           0,
           0,
           0,
           0,
           3,
           3,
           0,
           3,
           3,
           3,
           0,
           3,
           0,
           3,
           0,
           3,
           0,
           3,
           3,
           3,
           3,
           0,
           3,
           3,
           0,
           3,
           3,
           3,
           0,
           0,
           0,
           0,
           3,
           3,
           3,
           3,
           0,
           3,
           0,
           0,
           0,
           3,
           3,
           0,
           0,
           3,
           3,
           0,
           3,
           0,
           0,
           0,
           3,
           0,
           0,
           3,
           3,
           3,
           0,
           0,
           0,
           3,
           3,
           3,
           0,
           0,
           3,
           0,
           0,
           0,
           0,
           3,
           2,
           2,
           0,
           0,
           0,
           3,
           2,
           3,
           3,
           3,
           3,
           0,
           0,
           0,
           0,
           3,
           3,
           3,
           0,
           3,
           0,
           3,
           3,
           3,
           3,
           0,
           3,
           3,
           0,
           3,
           3,
           0,
           0,
           3,
           0,
           3,
           0,
           0,
           0,
           0,
           3,
           3,
           0,
           3,
           0,
           3,
           3,
           3,
           3,
           3,
           3,
           0,
           0,
           0,
           3,
           3,
           3,
           3,
           3,
           3,
           0,
           3,
           0,
           0,
           0,
           0,
           3,
           3,
           3,
           3,
           0,
           3,
           3,
           0,
           3,
           3,
           0,
           2,
           0,
           3,
           0,
           0,
           3,
           3,
           0,
           3,
           0,
           0,
           3,
           0,
           0,
           3,
           0,
           3,
           0,
           3,
           3,
           0,
           3,
           3,
           3,
           3,
           3,
           0,
           0,
           0,
           3,
           3,
           3,
           0,
           3,
           0,
           3,
           0,
           3,
           3,
           3,
           3,
           0,
           3,
           3,
           3,
           0,
           3,
           0,
           3,
           0,
           3,
           3,
           3,
           0,
           0,
           3,
           3,
           3,
           3,
           3,
           3,
           0,
           3,
           0,
           3,
           0,
           3,
           3,
           2,
           3,
           1,
           3,
           3,
           3,
           0,
           0,
           3
          ],
          "coloraxis": "coloraxis",
          "symbol": "circle"
         },
         "mode": "markers",
         "name": "",
         "scene": "scene",
         "showlegend": false,
         "type": "scatter3d",
         "x": [
          -0.333485679391774,
          -0.31683537720840643,
          2.2939052199001226,
          -0.14886321584799575,
          -0.15151190611567694,
          -0.16278277660734114,
          -0.39658634673964915,
          -0.15827389909779802,
          -0.14995588886472758,
          -0.13234918468973164,
          -0.24455493093244027,
          0.16783859277586036,
          -0.3183977907248008,
          -0.2709597598001016,
          -0.16392807801112433,
          -0.24576740013827725,
          -0.22723614106862175,
          -0.16354505206510248,
          -0.3331455331131905,
          -0.32572706956613745,
          -0.08533171616240837,
          2.554424483347562,
          -0.14595047544522924,
          -0.16080289208190007,
          -0.1633493807066827,
          -0.3319830669736583,
          -0.23065986704826902,
          -0.20699032279521107,
          -0.16339784170850805,
          -0.3334816204939952,
          -0.1639103532118068,
          -0.33346591283522126,
          -0.16399672061313514,
          -0.2273254261678501,
          0.6666784001388099,
          -0.3774571467084312,
          0.19159994737524574,
          0.22867241296192814,
          0.08453065247594786,
          -0.16374319010881316,
          -0.15935231186730792,
          -0.16368257573209807,
          -0.3538264415581057,
          -0.26209252371324543,
          -0.16405368360624492,
          -0.17338089762476766,
          -0.14329452038044166,
          -0.16284973609148493,
          -0.16312705243326425,
          -0.3315461653812431,
          -0.3289828574008577,
          1.5834520573819997,
          -0.39648110003379555,
          -0.14882460528138086,
          -0.16041890898050412,
          -0.1637696125234555,
          -0.16412414006510204,
          -0.448813865697704,
          -0.16338399694583658,
          -0.15165123999645339,
          -0.02610944839307749,
          -0.1640055154805431,
          -0.2817371237232725,
          -0.2857990123005286,
          -0.2869197723531648,
          -0.029062990691273157,
          -0.14890217563665442,
          -0.1576745076184023,
          -0.2875416433876519,
          -0.34758000947923695,
          -0.32779332379169895,
          -0.3318888254432225,
          0.024461307994199197,
          -0.16398502793667968,
          -0.16208160770584878,
          -0.16347220256549622,
          -0.34885866444071073,
          -0.396852350100121,
          -0.13606566959872604,
          -0.24038073965067397,
          -0.14836636422312388,
          -0.31545161447555004,
          -0.3967640923221436,
          -0.1486533929132116,
          -0.1486365953232974,
          -0.14922655787233516,
          -0.22749913166692107,
          -0.3087399404240075,
          -0.3321643401976379,
          -0.16370167513519815,
          -0.2722993995422768,
          -0.190766098991259,
          -0.1608076882850714,
          -0.3967285631001692,
          -0.2408476786488441,
          -0.14843361310919398,
          -0.2873226258145535,
          -0.32459908593404224,
          3.851197966811058,
          0.45288568915847827,
          -0.001374798059448805,
          -0.34548772269621303,
          -0.16257030665818784,
          -0.31761018456554474,
          -0.37687899987609613,
          -0.14718582945702066,
          -0.28577919415375874,
          -0.16129012421123648,
          -0.2876170546884806,
          -0.16412635525098512,
          -0.28043886119284844,
          -0.1611551983975824,
          -0.3334677576674075,
          -0.28756925519169724,
          -0.14739058241480213,
          -0.1417032517442331,
          -0.34930337652143817,
          -0.11930971121213457,
          -0.1981832030552484,
          -0.16399950267426766,
          -0.33320239272315283,
          -0.03705817003391046,
          -0.0997912925874026,
          -0.16413523216004858,
          -0.14892993879396024,
          0.4871783565268211,
          -0.39683388902317146,
          -0.49083146005686407,
          -0.2268868161012763,
          -0.1518672348383782,
          -0.14867011562212487,
          -0.409750554491071,
          -0.22717150162190766,
          -0.36745481422412707,
          -0.16226113708817563,
          -0.16145401516889551,
          -0.2841821456911446,
          -0.1525789053431839,
          -0.28709137066321105,
          0.3712258211940448,
          -0.3109638998528739,
          -0.24820575312393237,
          -0.2272068525898594,
          -0.1488257270523998,
          -0.08258967126743039,
          -0.16009633482436283,
          -0.15298068466913156,
          -0.31836872047459913,
          -0.07462211580961275,
          -0.1626997860797866,
          -0.3184323175139408,
          0.2693228865322283,
          -0.24080754127733273,
          -0.3330784605700617,
          -0.28405192308054983,
          -0.22636838245427582,
          -0.15510387411604226,
          -0.16294754826994787,
          -0.1484737196353073,
          -0.3940067257337716,
          0.8661943637936959,
          -0.3182326501044002,
          -0.06348703780979882,
          -0.3535099965705061,
          -0.16392535902132568,
          -0.2271701645705984,
          -0.3946784667309957,
          -0.31697787492042045,
          -0.3146490269501934,
          -0.3621007522405534,
          -0.39557052787415276,
          -0.1641352906079825,
          -0.3437061480775385,
          -0.3093984867991223,
          -0.33311655030968523,
          -0.33155670548304356,
          -0.23887517141823827,
          -0.22732005818996961,
          -0.3368044478559751,
          -0.17862209429250905,
          -0.396308353898838,
          -0.3323214584514342,
          0.29792550454102845,
          -0.3184133372479989,
          -0.149085615696658,
          -0.39682310288237643,
          -0.3333054821157273,
          -0.09939908339022879,
          -0.333461993898318,
          -0.16130456316192798,
          -0.28404029867055003,
          -0.14904427170168985,
          -0.2428860849809047,
          -0.16379902640660887,
          0.023994335592374103,
          -0.35246793743681964,
          -0.3330763604223089,
          -0.3830011916833716,
          -0.14934049253010603,
          -0.3517967555138927,
          -0.24030391806741086,
          -0.4158794379836125,
          -0.3515472593003834,
          -0.29029240354064145,
          -0.15232124662617852,
          -0.1323707905972388,
          3.7453792597408078,
          -0.3964160149446703,
          -0.09095422022264396,
          -0.21391291624092498,
          0.8439776384405391,
          -0.3967780418516954,
          -0.3529313041548355,
          -0.3330041655924947,
          -0.33315842675898266,
          -0.22515044859992303,
          -0.3535099965705061,
          -0.3963534855422393,
          -0.3182760793475655,
          -0.33300487071873097,
          -0.38979097046448663,
          -0.3331521539188269,
          -0.3287459934281214,
          -0.3968070262408673,
          0.29791981062512535,
          -0.33236392088032907,
          0.3569449304526652,
          -0.3333512396377311,
          -0.33342171947040367,
          -0.35730708032500547,
          -0.366672214877688,
          -0.16411704946088848,
          0.2980504370924157,
          -0.15240709278945877,
          -0.329653252956736,
          -0.3183897637602016,
          -0.3967170505152052,
          -0.3331997430509265,
          0.4870041205522834,
          -0.3333266377702433,
          -0.15704026197221546,
          -0.2856860561494716,
          -0.274973821540479,
          -0.16408535651599102,
          -0.24007196411425274,
          -0.22006324787553952,
          -0.1323831369288491,
          -0.31419593301292315,
          -0.1622201190205208,
          -0.1521256788555175,
          -0.28542721486516986,
          -0.16225004568694334,
          -0.39598369125691646,
          -0.4254250359758264,
          -0.39472280224047035,
          -0.13504610555014615,
          -0.3517579973031036,
          -0.39588163196580495,
          -0.19395314842215589,
          -0.3461625371427381,
          -0.39182701329232794,
          -0.33326995117854213,
          -0.3332691820605678,
          -0.3263999614268536,
          0.26100398548221165,
          -0.39635952213646014,
          -0.16364813714624518,
          -0.2683482495541846,
          -0.11544187379585448,
          -0.3535443269235152,
          -0.3324815274031466,
          0.8850601524397684,
          -0.26965190997606364,
          -0.16347049542937975,
          -0.3424855271326692,
          -0.1568976289317238,
          0.5846463584021133,
          -0.1326281663488231,
          -0.028872750217513034,
          -0.17447765245406882,
          0.3340122582178585,
          -0.36363512876584847,
          -0.22637686013721453,
          -0.3621387732516482,
          -0.41367323751112056,
          -0.16378930070514341,
          -0.2872546299657611,
          -0.1635531114833833,
          -0.22677111551551907,
          -0.2273480425959212,
          0.13093481935608856,
          0.2983144121014445,
          -0.28732530303518145,
          -0.1542210121186517,
          3.2427000651151143,
          -0.11590049169158205,
          -0.34485919868530573,
          -0.2182308541111174,
          -0.4131783920532612,
          -0.14886238049602704,
          -0.39663159137164383,
          -0.2857600120723016,
          4.402740362144384,
          -0.08980531326865612,
          -0.3534108470237159,
          1.5819833444381486,
          -0.16388710181176863,
          -0.16333938157259198,
          -0.1630405994192354,
          -0.16302753708025794,
          -0.33290549370365313,
          -0.33340466326375184,
          0.2984977342735768,
          -0.30256826309097934,
          0.6582929088234285,
          -0.39657254708260525,
          0.07971764411746472,
          -0.34258413905154,
          -0.18176833991245886,
          -0.3333603657563607,
          -0.17806550871939633,
          -0.3134866092847177,
          -0.13222928966695988,
          0.4352012895730817,
          -0.3167373654776049,
          -0.34841676984337383,
          -0.39839191734665225,
          -0.15386430844447985,
          -0.3333107603366487,
          -0.4031253428585613,
          -0.16221832909825476,
          -0.3465523558225554,
          -0.3331811960620811,
          -0.09758699503244059,
          -0.22289659925893018,
          -0.1779110999289606,
          -0.15068869606630364,
          -0.17801118034831925,
          -0.3953664972353593,
          3.750230577276535,
          0.19538896799390607,
          -0.2839990107983075,
          -0.10955021375391734,
          -0.3306439176171584,
          1.1349599738753464,
          0.2979026362282539,
          -0.0756704496021373,
          -0.31602432898950217,
          -0.3571930735128069,
          -0.22263941393544903,
          -0.14602026006178973,
          0.08046507909549556,
          -0.3323209361195261,
          -0.08034568680641799,
          -0.3959468076815027,
          1.0910377362349504,
          -0.22732205958270016,
          -0.1780630354086921,
          -0.3563588115579133,
          -0.17110714543215094,
          -0.16313873235317605,
          -0.3198975612212363,
          -0.33342678163597145,
          -0.3492753267360845,
          -0.22724752318223077,
          -0.14884178389374061,
          -0.20722586321258338,
          -0.34398786481040017,
          -0.2747594720769166,
          -0.27354787517203033,
          8.026217384909115,
          -0.14776889543002789,
          -0.328975705568971,
          0.3017732789711602,
          0.02875029015616933,
          -0.15336746809960317,
          -0.1763372154478629,
          -0.23187647324592559,
          -0.19081137568589052,
          -0.39430166906461356,
          -0.16371202864337586,
          0.14310434542129874,
          -0.22139409385875627,
          -0.37659839160267305,
          -0.3849538142432024,
          -0.396648911750099,
          -0.3235602978818716,
          -0.28492103503673283,
          -0.31507136275491465,
          -0.1037858746415471,
          0.3058162191518726,
          -0.16394881201254463,
          -0.17913976941404328,
          -0.36323452580311594,
          -0.333454116010242,
          -0.33343584788137437,
          -0.13122117182158322,
          -0.2793075732490223,
          -0.14712669070064247,
          -0.33448553966256295,
          -0.3530056694623745,
          -0.33315264953787954,
          3.9414119138824475,
          -0.2264176116263674,
          -0.4017940958640418,
          -0.35319419208681063,
          0.29808502839585177,
          -0.33064135176323683,
          -0.28007929326872544,
          -0.19401242814809674,
          -0.1522525011979012,
          -0.29431483341910014,
          -0.16451064302912044,
          -0.28545443514343255,
          -0.14942476517086467,
          0.3020079966627399,
          0.5749372449098092,
          2.1046197192207887,
          -0.13673025887391424,
          -0.285706454088234,
          -0.15147597170073399,
          -0.35553153023248707,
          0.3116775334040977,
          -0.332627261829945,
          -0.2001756435994948,
          2.2525749269678825,
          -0.35290678307162104,
          -0.26977902189172426,
          1.0320577840670984,
          -0.20879426136505186,
          -0.14398306932096663,
          -0.22730423562401034,
          -0.37735303114046126,
          -0.35730654909711607,
          -0.4048075128811757,
          -0.16659451790193622,
          -0.36078965024475335,
          -0.35602720990613534,
          -0.16397338736596326,
          -0.32634008534381576,
          -0.14590436704878687,
          -0.16117535335509817,
          -0.15298492426845384,
          3.0951745432025217,
          -0.34885314971672915,
          -0.3961226713101257,
          -0.2829546096342073,
          -0.3522951871137404,
          -0.10872231183860667,
          -0.34535188890965557,
          -0.34871484814485565,
          -0.2272756381593754,
          -0.19311045264612614,
          -0.2464469026011179,
          -0.2082227106855316,
          -0.3578189782598818,
          -0.027071663727075708,
          -0.27617877851217487,
          -0.14882323509775075,
          -0.14886241804218725,
          0.5030381582814628,
          -0.13934234584413124,
          0.377759463438254,
          -0.40410279208991773,
          -0.1544749029702492,
          -0.1548662822589752,
          -0.2536440411345523,
          -0.15568562230635344,
          -0.16286679698253387,
          -0.3331565724634515,
          -0.13029173281456569,
          -0.40455847198675,
          -0.13206224925839963,
          -0.3574234205387147,
          0.5724554589195862,
          -0.1973951370375014,
          -0.34932960507179034,
          -0.3326401167984847,
          -0.3180213259614774,
          -0.3103025762133006,
          -0.3936906506715304,
          -0.14813917093277817,
          -0.1183590495348989,
          -0.14700826858733804,
          -0.3963496754906639,
          3.76246289332776,
          0.1013464556248823,
          0.5310413800548045,
          -0.39389050934732456,
          -0.10328915595824027,
          -0.3320265683866343,
          -0.105395897515105,
          -0.33285032563582206,
          -0.2709924176641974,
          -0.33336808196445106,
          -0.3879846286970847,
          -0.14754109123565823,
          -0.24717486117657236,
          -0.09817771538879429,
          -0.38373801333892543,
          -0.14865276368735997,
          -0.3326468779874802,
          0.5510579622071462,
          -0.3257170765837606,
          -0.20655166489233107,
          -0.39292112658358935,
          -0.3310877050690923,
          -0.35378541707034555,
          -0.1640500912833164,
          -0.16200783553670325,
          -0.3714670467874887,
          -0.31691411524322893,
          3.7457706708842964,
          -0.09314810808977292,
          -0.3282847745127772,
          -0.34720637650296776,
          -0.12004423497393277,
          -0.2877241361504062,
          -0.13058313848178926,
          3.755634130988416,
          -0.15235437859833167,
          3.756877583635025,
          -0.2519049724225212,
          -0.3864733860936972,
          -0.35372131678970636,
          34.04900193172523,
          -0.37367937539558127,
          2.478850311579683,
          -0.3315334667083033,
          0.31964087936645647,
          -0.13235024109521762,
          -0.28610247390658416
         ],
         "y": [
          1.0589049289482437,
          1.0589568680980197,
          1.6371828847838312,
          -1.3168531961235763,
          -2.0351094709319857,
          -1.0916783668063073,
          1.1756906690815172,
          -2.2178624310604858,
          -2.0352227286414233,
          -2.03667167180322,
          1.6558257062873099,
          -1.8334392777523316,
          0.8336986162123079,
          0.6230235470212685,
          -1.0916624810285098,
          1.8504704996924703,
          -0.9748653224118041,
          -1.0916839543769334,
          1.0589016420370039,
          1.0591118058275897,
          -1.8261888783302442,
          -1.302131463549413,
          -1.316885176817867,
          -1.0917478991404144,
          -1.0917052651252497,
          1.058944994883834,
          -0.47634136568733104,
          -1.2253073076929184,
          -1.0916683611660316,
          1.0589046687596233,
          -1.0916620084115456,
          1.0589047191445313,
          -1.0916585193441897,
          -0.9748662293376186,
          0.3746082757545193,
          0.9252790553454463,
          -1.8295302100214408,
          -1.3222458101976207,
          -1.0949701224148802,
          -1.0916575511470752,
          -1.091745912363566,
          -1.0916640407425209,
          1.5386119493098669,
          0.4037823055704618,
          -1.091658635032016,
          -1.6278095030612296,
          -1.0921436675103446,
          -1.0916698357177255,
          -1.0916788849677295,
          1.0588682172944222,
          0.9655625061573307,
          -1.1118171149798948,
          1.175693475396996,
          -1.316852166605074,
          -1.0917490240372467,
          -1.0916575187853068,
          -1.0916532289044893,
          1.9778506274512406,
          -1.0916634483224361,
          -2.229744250326027,
          0.8551538942180671,
          -1.0916564400067748,
          0.8329096614614787,
          0.8482175660418516,
          1.799869224934085,
          -1.0991043420648348,
          -1.3168542349537846,
          -1.0917285931064382,
          1.799852643262547,
          0.5228634882737931,
          1.058747215666452,
          1.058875292204485,
          1.068449286319904,
          -1.091663999550691,
          -1.0917819950241128,
          -1.0916725796706601,
          0.9650325343695848,
          1.1756997872415875,
          -1.3171508468041464,
          0.11420304830474642,
          -1.316859116037094,
          1.5964222543740587,
          1.1756947723646105,
          -1.3168630761312636,
          -1.3168906301859171,
          -1.3168475937974782,
          -0.9748575969688149,
          1.0583857240284298,
          1.0588664720470053,
          -1.0916579179717465,
          0.4847999474646366,
          -1.2798978466854427,
          -1.0917593905125633,
          1.1756990357418287,
          0.11426428710427758,
          -1.316859426566557,
          1.799858483183136,
          1.0584049891909422,
          -2.3842512414884354,
          -2.3463004972502755,
          0.5177001626307178,
          1.543687556754952,
          -1.0916882646607862,
          0.8336857199770947,
          0.9252976987406618,
          -1.092438569073228,
          0.8482300174110278,
          -1.0916992761751572,
          1.7998417897626866,
          -1.0916542297203071,
          0.8480039662385223,
          -1.0916909726899615,
          1.0589054068469996,
          1.7998445380830852,
          -1.0919429411429158,
          -2.2126925804834303,
          0.9650059386259707,
          -1.8256210864229234,
          -1.5550203920671424,
          -1.0916513950624513,
          1.0588977447139618,
          -1.0956330599531126,
          -2.221236249497221,
          -1.0916529863491093,
          -1.3168549752351772,
          -1.1420799879648211,
          1.1757002802276724,
          2.13787462782575,
          -0.9748655875673347,
          -2.1992634938015194,
          -1.3168721878944463,
          1.9314657783951417,
          -0.9748643357483439,
          0.7454631556388974,
          -1.0917574831443908,
          -1.0917652607934918,
          0.8481989120361174,
          -2.0351503797868618,
          1.7998278047396383,
          -2.1855100767548303,
          0.8331761529777019,
          1.8506440169075984,
          -0.9748615938854788,
          -1.316852196516161,
          0.8598453907045546,
          -1.0916995836463879,
          -2.1760426624887117,
          0.8336993913462402,
          1.1647272687619665,
          -1.0916761539332405,
          0.8337061698581676,
          -1.3216234008694434,
          1.516902596194083,
          1.0588848376069644,
          0.8481131814303468,
          -0.9748893455295716,
          -2.1949668554833237,
          -1.0917449182193992,
          -2.2949302701972627,
          1.1754926971175388,
          0.8059939854224312,
          0.8336897554681705,
          0.38303229306258435,
          1.5386056491835043,
          -1.0916616716355405,
          -0.9748672476704989,
          1.175702485758829,
          0.8335885641575957,
          0.8334279164971309,
          1.5136020936647137,
          1.1756315385176228,
          -1.0916529856747876,
          1.5168220596397595,
          1.0580734070884874,
          1.0588821025582467,
          1.0588826741189687,
          1.5890559502629238,
          -0.9748712444586177,
          0.9648698110339078,
          -1.3823932481120416,
          1.1756774485137726,
          1.0588696515538234,
          -2.343070816254664,
          0.8336989385706339,
          -1.316850825862707,
          1.1756983571509718,
          1.058894259028066,
          -1.8259744582213888,
          1.0589055605330868,
          -1.091724431111712,
          0.8482763836061762,
          -1.3168503883570473,
          0.4980325501265149,
          -1.091665672015702,
          1.9073220861183229,
          1.5385936425772282,
          1.0589158431275134,
          1.174963777477921,
          -2.233367460819363,
          1.5386365935324116,
          1.5891633902780196,
          1.905138776188377,
          1.5384509168937324,
          1.9081486386788238,
          -2.035150362008615,
          -2.03667224790669,
          2.0085044857688867,
          1.1756893156894952,
          -1.0970701530992537,
          -0.9748637785751285,
          1.8293973001152517,
          1.1756989298548535,
          1.5385989727319174,
          1.0588893682715521,
          1.0588827053753511,
          -0.9749629829873664,
          1.5386056491835043,
          1.1756688761824334,
          0.8337033353312429,
          1.058893431859262,
          0.4627121158966738,
          1.0588931891426812,
          1.058551841823142,
          1.1756973120344294,
          -2.3430790739053284,
          1.0588287270862382,
          0.8414076922344808,
          1.0588989340889956,
          1.0589041910341006,
          1.463578733332142,
          0.5955019430905418,
          -1.0916540451727712,
          -2.3430785384332333,
          -2.1992367780436375,
          1.058638670739088,
          0.8336995671379895,
          1.1756965027282096,
          1.0588978153652582,
          -1.0294953025147726,
          1.0588930071633076,
          -2.217965862432162,
          0.8481919717223166,
          0.43407555918397783,
          -1.0916536759292472,
          1.5891607141943247,
          -0.9753962187181985,
          -2.036669629537796,
          1.058682380571365,
          -1.0916751543059282,
          -2.1992373802041127,
          0.8482140340415391,
          -2.221867505896733,
          1.1756492607029658,
          1.8897620071009915,
          1.1756755123212923,
          -1.0938244661147611,
          1.5385858306549278,
          1.1756519820286893,
          -0.6369566741642168,
          1.5385215435665367,
          1.1754653376967434,
          1.0588950501202588,
          1.058889626549036,
          1.0583569703506244,
          0.5819501236516916,
          1.1756834530892468,
          -1.0916657166258503,
          0.8472210122291264,
          -1.3177888026458988,
          1.538597364859549,
          1.0588543300483042,
          1.814560580220697,
          0.6229201901893239,
          -1.0916878615335588,
          1.5168056030677615,
          -2.2179031077710953,
          1.7814623333110076,
          -2.2500743161500347,
          -2.1964291226871753,
          -2.222656560419228,
          -2.3435750109413607,
          1.5136201322669134,
          -0.9749013618739472,
          1.5135789730648892,
          1.8753955700985157,
          -1.0916575108329307,
          1.7998381894342996,
          -1.0916922751017428,
          -0.9748823986290858,
          -0.9748674955898162,
          1.0344436446515612,
          -2.343092869668132,
          1.7998444858479759,
          -2.2084069330545635,
          -1.1481907887398486,
          -1.2487647266397484,
          1.467968432302687,
          -0.9754210488072758,
          1.8754087647391882,
          -1.3168531738496103,
          1.1756986684804835,
          0.8482177025992461,
          2.9501587287412963,
          -1.0974079651441422,
          1.5385776381846041,
          -1.0450937369614846,
          -1.091660651539013,
          -1.0916932082126503,
          -1.0916970317302184,
          -1.0916966834338637,
          1.058884842566539,
          1.058903994254369,
          -2.3431136909261085,
          1.656864721907438,
          1.4552429318576081,
          1.1756873525709586,
          -2.046476373174042,
          0.5227047197214575,
          -0.9749646316963542,
          1.0588966765736805,
          -1.6277067142481847,
          0.6600002089272058,
          -2.036668474902613,
          1.0609789902971434,
          0.833685412380715,
          1.513149013972587,
          1.8078083268002996,
          -2.19502687809529,
          1.0588941182887153,
          1.6741676675061632,
          -1.0916751065791463,
          1.5638151783250527,
          1.0589021503901275,
          0.6210235577021418,
          -0.9749927869699456,
          -1.627715861147601,
          -2.0352938508696066,
          -1.6277088027157764,
          1.1756332943572423,
          2.0083575070808752,
          1.5064266103237436,
          1.7997923569912186,
          -1.8258472072069196,
          1.0588259545731944,
          -2.383380559675954,
          -2.3430732682525615,
          -2.040456155639644,
          1.3029296144336164,
          1.4635780887616439,
          -0.9751333080137279,
          -2.21827220932426,
          1.033097911196845,
          1.058825451878704,
          -1.093102818530169,
          1.1756870888415727,
          -1.3302387913337388,
          -0.9748674659785185,
          -1.6277022269391557,
          1.4635266443218418,
          -1.6278697258727641,
          -1.0916731202013097,
          1.058604040756884,
          1.0589035518651304,
          0.9650059496566826,
          -0.9748678365864867,
          -1.3168520100893424,
          -1.220422025121073,
          1.516820811492173,
          -0.09527087473881167,
          0.4421480510305984,
          -2.87388837932945,
          -2.1533322828108648,
          1.0588542243992969,
          -2.343208445805581,
          -1.093878332347545,
          -2.194972138204167,
          -1.2802617962333915,
          1.5888004286753825,
          3.2523285275920757,
          3.0538041069731943,
          -1.0916707212268126,
          -1.0970242247817041,
          -0.9750632579255077,
          0.9301375415344042,
          3.5133083811564827,
          1.175686790157661,
          1.434374079585414,
          0.8481615247280216,
          1.4775491039713256,
          -2.0386267031348053,
          -2.343589941386498,
          -1.0916630338833333,
          -2.200405614217774,
          1.5136013382750866,
          1.0589035599102576,
          1.0589025732278943,
          -2.036677702058095,
          0.8480341310863116,
          -2.2335137301383274,
          1.4745913781457043,
          1.5385689878947737,
          1.0588917021406574,
          2.0539672385661643,
          -0.9749024484783563,
          1.6742031640949662,
          1.5385698562435328,
          -2.3430727525887365,
          0.6809314136939792,
          1.0565546337071068,
          -0.6369381729902487,
          -2.199244652612942,
          1.0041621312303877,
          -2.2205945123694932,
          0.8482195176108692,
          -2.233361675741099,
          -2.3433967274878804,
          -2.2297577068945182,
          -2.4304778371476563,
          1.056634935418081,
          0.848199533655478,
          -2.2397477189105324,
          1.9118665242307191,
          -2.3434336543393064,
          1.0588659189225118,
          1.639930792928682,
          0.3150506114351397,
          1.4632281362869368,
          0.6229903590233664,
          1.7505326264023238,
          -1.25892882456288,
          -2.258206582758155,
          -0.9748678749896059,
          0.8916051831148584,
          1.4635743261366234,
          1.6742663967857818,
          0.838969217004081,
          0.8706648765386868,
          1.4635502240703753,
          -1.0916645036255836,
          1.05835856689635,
          -2.2188221712346206,
          -2.3148762376484564,
          -0.7162612516218159,
          -2.298381872469237,
          0.9649921522793169,
          1.1756823995848564,
          0.8481137403189883,
          1.5384980313208836,
          -1.3173148737896612,
          0.9036049544968762,
          0.9649626797731772,
          -0.9748700600356165,
          1.0493838363126249,
          2.0038368833533724,
          -1.2589710065421966,
          3.1390583546866893,
          -2.0394494495797875,
          1.223697872007668,
          -2.233399798107563,
          -1.316853174850747,
          1.0196004742523497,
          0.970619111946335,
          -2.3468888400031345,
          1.6742491910722517,
          -2.160311147600737,
          -2.1602627121051783,
          -0.09684171496827529,
          -2.2489084330542393,
          -1.0917071353010164,
          1.0588982295795246,
          -2.0367949923867785,
          1.6742628054893363,
          -2.0366713058376202,
          1.463576832353756,
          1.027941467831127,
          -1.5550730682830098,
          0.9650054603316044,
          1.0588655761555161,
          1.4341975385574564,
          1.9094617389483253,
          1.1754745968333828,
          -1.316865576486117,
          -0.35071083872271686,
          -1.3169120588312697,
          1.1756910845756072,
          2.008315224878965,
          1.0447080963207156,
          -1.1454054666957478,
          1.1757787629874268,
          -1.6286405426699169,
          1.0587964562794596,
          -2.164083288338746,
          1.0588818891814427,
          0.6230164126328986,
          1.0589080646163371,
          1.1755677916715213,
          -1.0919469543348679,
          1.053468954364911,
          0.8394468024316727,
          1.1753125774329802,
          -1.316863059353482,
          1.0589162415171243,
          -1.1094271697886722,
          1.0588173149310252,
          -1.2253110860073855,
          1.1756513369462998,
          1.058850966020476,
          1.5386064111531557,
          -1.0916539441164224,
          -1.0917299192011765,
          0.45821162431504125,
          0.833677015029007,
          2.0084891912822678,
          0.845990919672362,
          1.058822538748927,
          0.5228318914653548,
          -1.8256427351867688,
          1.799847688818302,
          -2.227134185681161,
          2.0088700350145947,
          -2.035149979760588,
          2.0089031906404666,
          0.6228039447952091,
          3.0340550329860245,
          1.538608389933392,
          1.5643060783302516,
          1.6470487953050785,
          0.8805825560256538,
          1.0587727597548215,
          -2.3435162397638147,
          -2.0366716999713885,
          0.8482206605331527
         ],
         "z": [
          -0.5542662626556298,
          -0.5545632569381737,
          -0.6559606497203467,
          0.16560135545595697,
          0.39728681952751965,
          -0.029914735228928794,
          -0.435055742679094,
          0.5522182682186093,
          0.39728133668318255,
          0.43894136736754485,
          -0.30586243020967,
          0.34981818922748315,
          -0.35876438762293505,
          -0.14060175131167632,
          -0.029897975538635376,
          -0.5344676540307667,
          0.08931396863146035,
          -0.029900533140001687,
          -0.5542715100138883,
          -0.5544391009438988,
          0.35281791513013,
          -0.0370989143950857,
          0.16555714429301271,
          -0.029935774558975652,
          -0.02989988973297696,
          -0.5542997363062717,
          0.006591589321367845,
          0.32796010560841066,
          -0.029906012749574152,
          -0.5542662836040119,
          -0.029898370393376075,
          -0.5542665640456063,
          -0.02989753857412426,
          0.08931567972301874,
          -0.47892548775739346,
          -0.1963960723231516,
          0.34867120447761735,
          0.1601061390846096,
          -0.03355991096150232,
          -0.029902094280033195,
          -0.029961170185495403,
          -0.02990191608212363,
          -0.1740669128306858,
          -0.9935031039387436,
          -0.029896534207333094,
          0.28237543712738045,
          -0.0301631461795795,
          -0.029915188941353026,
          -0.029908699124121287,
          -0.5542927945775811,
          -0.21734406852108668,
          -0.056237919755657284,
          -0.4350580872563166,
          0.16560049532970395,
          -0.02994218574377755,
          -0.02990164462356991,
          -0.029896338331940296,
          -0.5101281521991294,
          -0.029907177963878484,
          0.4461527057434424,
          -0.3418929405624724,
          -0.029897778969091324,
          -0.3592479736988923,
          -0.3361055968514247,
          -0.6421216237909019,
          -0.030820957176756085,
          0.16560222336182223,
          -0.029993376407851408,
          -0.6421077703913997,
          -0.24193269811505444,
          -0.5543347100738844,
          -0.5542882181558074,
          -0.5622402353051773,
          -0.029896706867115815,
          -0.0299072886552977,
          -0.02990393462661784,
          -0.21690129585588008,
          -0.43505287379705093,
          0.16543673873197418,
          0.04708605669317781,
          0.1655939015960997,
          -0.20476500118393492,
          -0.43505345050394173,
          0.1655995992875153,
          0.16560450536879315,
          0.16560656630253356,
          0.08931704816885652,
          -0.5545951950271139,
          -0.554281802613658,
          -0.029902741198157386,
          -0.43956241592690415,
          0.10741130361040016,
          -0.029933524920671608,
          -0.4350548672835772,
          0.04708256320179096,
          0.16559512012468985,
          -0.6421126494382917,
          -0.5543252742434086,
          0.3719482342061813,
          0.4234092390455906,
          -0.5398023799763786,
          -0.1320062781302556,
          -0.029916533690244614,
          -0.35877554117944477,
          -0.19640956030193388,
          -0.030040416095054586,
          -0.33610828662749415,
          -0.029936539068402383,
          -0.6421044229994287,
          -0.0298961114001471,
          -0.3361577756635474,
          -0.02994043217113257,
          -0.554266661903096,
          -0.6421057657366689,
          -0.03013034405241107,
          0.5135152079934859,
          -0.2168886099252004,
          0.35329693224372005,
          0.07221184232672967,
          -0.029898834000397168,
          -0.5542697943337145,
          -0.03133762260740465,
          0.5974448330367146,
          -0.02989619274322923,
          0.16560284184071605,
          -0.03162173182738672,
          -0.4350532851927778,
          -0.28349597499183493,
          0.08930799314304529,
          0.35176148005943364,
          0.16560160592661569,
          -0.5509827500192493,
          0.089312667615497,
          0.040881317248482665,
          -0.029908814126435587,
          -0.02992126951251229,
          -0.33612996854551597,
          0.3973129382565769,
          -0.6421108533636506,
          0.5155516253309413,
          -0.35879409440424054,
          -0.5344583148571279,
          0.08931276035402196,
          0.16560052031935793,
          -0.34290553005975766,
          -0.029957072700648648,
          0.40715463004597,
          -0.35876503521989284,
          -0.4385419370207776,
          -0.02991658400603231,
          -0.35876521645050663,
          0.1592875944750351,
          -0.44209740350941806,
          -0.554269498161436,
          -0.33611604867154726,
          0.08930353070703521,
          0.4967983307027813,
          -0.029899343602260736,
          0.37650435711150176,
          -0.4350629071864051,
          -0.348014241161958,
          -0.3587655652692679,
          -0.46791940463180837,
          -0.17407118316966022,
          -0.02989817506422976,
          0.0893131936490626,
          -0.43509087985408623,
          -0.3587681273453872,
          -0.358778004463077,
          -0.43938285292094026,
          -0.43506211433470954,
          -0.02989619186221944,
          -0.06817648867335398,
          -0.5545249427111962,
          -0.5542683254099152,
          -0.5542953388711542,
          -0.42394338899804523,
          0.08931653282403097,
          -0.21707853394875606,
          0.6676755164485512,
          -0.4350580447829051,
          -0.5542796920432861,
          0.4254731237321388,
          -0.35876418024832973,
          0.16560474466335162,
          -0.43505310861100416,
          -0.5542673588601329,
          0.3530201295805234,
          -0.5542667903023806,
          -0.029931546587337054,
          -0.33614702394196283,
          0.1656039490232028,
          -0.23076705660118965,
          -0.029899599823985473,
          -0.5625995069003858,
          -0.17408689352824808,
          -0.5542753810459725,
          -0.43515300358323794,
          0.4411559873572471,
          -0.17410656990047363,
          -0.4239390044048619,
          -0.5636906440689051,
          -0.17407586071432718,
          -0.5573342527767633,
          0.3973084905622375,
          0.43894184868159525,
          -0.46086427261606944,
          -0.43505842551657115,
          -0.030136982163556564,
          0.08908386589465053,
          -0.6671964747127814,
          -0.43505399386021315,
          -0.17407990603798237,
          -0.5542716340115234,
          -0.554267716757414,
          0.08929640832113797,
          -0.17407118316966022,
          -0.4350556498393196,
          -0.35876737689257765,
          -0.5542723881127812,
          -0.2799379172747156,
          -0.5542698018637966,
          -0.5542814362053039,
          -0.4350531888402848,
          0.42547477907758713,
          -0.5542712425525763,
          -0.345908127456341,
          -0.5542674511594223,
          -0.5542672267497757,
          -0.299541198730546,
          -0.4521663771531483,
          -0.029896306715060997,
          0.4254724249353097,
          0.3517657542955779,
          -0.5542821601160522,
          -0.3587647053941011,
          -0.4350545882174163,
          -0.5542698533603712,
          0.087295559240046,
          -0.5542667578852936,
          0.5522164931563482,
          -0.3361027189481865,
          -0.5336554098175499,
          -0.02989692301266783,
          -0.4239425007420103,
          0.08929035399591556,
          0.43894156790138567,
          -0.5545570249208127,
          -0.02992504625645761,
          0.351761013749535,
          -0.3361113439428205,
          0.26068354520421444,
          -0.4350583295436969,
          -0.58840627627679,
          -0.43508502877712874,
          -0.02998847727767073,
          -0.17409766616787628,
          -0.43506060311499134,
          0.08500812553592987,
          -0.17418205946285345,
          -0.43509534581366294,
          -0.5542681209063696,
          -0.5542671114590835,
          -0.5542851562024124,
          -0.14203241971959857,
          -0.43505829445737526,
          -0.02990219409299645,
          -0.3362186856711654,
          0.16520129820851495,
          -0.1740690288460472,
          -0.5542740418714992,
          -0.547201766674541,
          -0.14060482052077986,
          -0.02990108239757163,
          -0.0681944399128164,
          0.5522021993448195,
          -0.7310425839410617,
          0.40582104157071675,
          0.5245118912046415,
          0.1535360071483365,
          0.42494574032810245,
          -0.43935978804844,
          0.08930594284012948,
          -0.4393778372856087,
          -0.5167422454885456,
          -0.029901306522705402,
          -0.6421099955368769,
          -0.02989882509833894,
          0.08930916746342812,
          0.08931630860768122,
          -0.5576644043907981,
          0.42547057406100514,
          -0.6421099638049517,
          0.15111196841641877,
          -0.0779992802139267,
          0.2456536193473938,
          -0.05581561454182887,
          0.08926342929875448,
          -0.5167532691436761,
          0.16560133684685224,
          -0.4350564706900643,
          -0.3361062953147501,
          8.378405397262231,
          -0.03009309894758644,
          -0.1740676114078281,
          -0.06879450189236444,
          -0.029899027318762306,
          -0.029902335759385692,
          -0.02990676844302557,
          -0.029907059432298586,
          -0.5542724825932153,
          -0.5542674838449797,
          0.4254713381761323,
          -0.30505768667360755,
          -0.22998357064091232,
          -0.4350553553198127,
          0.43713229372432505,
          -0.24198893290588122,
          0.08854842345946652,
          -0.5542668680475821,
          0.28243685902790955,
          -0.19878505925042383,
          0.4389386964702711,
          -0.567916406832398,
          -0.35879053838795466,
          -0.43953345074736727,
          -0.42244933332878076,
          0.49678826786205876,
          -0.5542672412773884,
          -0.5177155320070517,
          -0.029925086130494036,
          -0.20731310818364182,
          -0.5542709907248207,
          -0.14321511454836316,
          0.08926315187725263,
          0.2824359204541818,
          0.3973073882365353,
          0.2824363157394815,
          -0.4350659647444212,
          -0.4609202372165316,
          -0.44764589545855993,
          -0.6421575089968362,
          0.35317123039362724,
          -0.5543003879920281,
          0.4186363002828274,
          0.4254739805556326,
          0.39698684955489827,
          -0.2211972186935408,
          -0.2995430436825899,
          0.08928521351926784,
          0.5520841770330887,
          -0.5565400917345792,
          -0.5542713663940878,
          -0.031068081859300826,
          -0.4350660989354695,
          0.17159522041184913,
          0.08931585484427301,
          0.2824359702015359,
          -0.2995477330319912,
          0.2823475734079766,
          -0.029909584710154983,
          -0.554443905421921,
          -0.5542670189057184,
          -0.21688909583454447,
          0.08931463905466955,
          0.16560076212879263,
          0.26929928131232694,
          -0.06817139399484987,
          0.09111075998609669,
          -0.26386426975952687,
          0.3922635963703762,
          0.5399458074337559,
          -0.5543344936895004,
          0.4254327062438063,
          -0.03280363539637337,
          0.49676937567877455,
          0.10723104990016841,
          -0.42401592590320997,
          13.528048938435537,
          15.568793999002205,
          -0.02990014832261655,
          -0.03418290692038676,
          0.08925052382939944,
          -0.2550707191171502,
          6.11456026070073,
          -0.43505393205626464,
          -0.3953305973198795,
          -0.3361101734190818,
          -0.44489471861704527,
          0.39712683427015977,
          0.4254349077612533,
          -0.02989751364800365,
          0.2147840737965854,
          -0.4393631540766575,
          -0.554266548933562,
          -0.5542666779825306,
          0.43892304744682453,
          -0.33618297732590025,
          0.4411453833646783,
          -0.2546299068597718,
          -0.17407296912399556,
          -0.5542695129134023,
          -0.50112799760014,
          0.08930685065964221,
          -0.5177451881502527,
          -0.17406988105004062,
          0.4254707372446725,
          -0.1389390320539357,
          -0.5547442754102224,
          0.0850056593134086,
          0.35176457264756017,
          0.08060156231885642,
          0.3769952461163052,
          -0.3361119084491492,
          0.4411563500891416,
          0.42546416157263717,
          0.47776065636206316,
          0.4107917442388954,
          -0.5572320378728723,
          -0.33610379304629173,
          0.44104306476715305,
          -0.5569100219096922,
          0.4253043354666106,
          -0.5542737134005288,
          -0.31629869649451897,
          -0.39158260047926224,
          -0.2995509877320643,
          -0.14061585959367554,
          -0.3378133184669931,
          0.16726526522604435,
          0.3729438432263241,
          0.0893156245262658,
          -0.3571139520701001,
          -0.29954037683617446,
          -0.5177051335583343,
          -0.33641780330612137,
          -0.4169480625881489,
          -0.29955789920556175,
          -0.029896812602159546,
          -0.5542864900598412,
          0.5521858833988704,
          0.4278364753248664,
          0.12903294208927288,
          0.4472295573707637,
          -0.21689377619579114,
          -0.4350621812275045,
          -0.336135081563303,
          -0.17407184403483203,
          0.16499602485834322,
          -0.27802141403413555,
          -0.21689060417124278,
          0.08931554328054742,
          -0.5548922111765551,
          -0.4192877336460736,
          0.1672633607631913,
          14.95425222007041,
          0.4376492417499061,
          -0.17716677158004154,
          0.44115316299886276,
          0.16560133768326687,
          -0.20870911548968699,
          -0.22156868363053767,
          0.424816030249252,
          -0.5177140447982794,
          0.3655467505784878,
          0.36554436805920354,
          0.13273325474970032,
          0.3100846939006061,
          -0.02990786113883364,
          -0.5542706761153008,
          0.4389291328425885,
          -0.517708752047112,
          0.43893634902356016,
          -0.2995388335198805,
          -0.5640540665206913,
          0.07220818208262066,
          -0.21688806731911844,
          -0.5542734270308394,
          -0.39539284871432406,
          -0.5572367074635358,
          -0.4350649460085213,
          0.16559120098682434,
          -0.11773375548368625,
          0.1655804592087256,
          -0.43505990335829087,
          -0.4611232587212438,
          -0.5590895867285552,
          -0.031751242891608765,
          -0.4351188547598991,
          0.2813231360395503,
          -0.5542709762762402,
          0.36541149561919267,
          -0.5542728772694807,
          -0.1405998426781697,
          -0.5542688823752794,
          -0.4351809424822447,
          -0.030126991172620455,
          -0.5547299808657934,
          -0.3636468782173777,
          -0.4352060668091328,
          0.1655995852702728,
          -0.5542828642900101,
          -0.03888087520902561,
          -0.5543837416560993,
          0.327953251691306,
          -0.4351115470775775,
          -0.5542974494919684,
          -0.17406657613900237,
          -0.02989748072924043,
          -0.02991838099854608,
          -0.29032734892181117,
          -0.3587859061657821,
          -0.4608681399909203,
          -0.3390087473801679,
          -0.5543404366135244,
          -0.24193318473363226,
          0.35331368427743604,
          -0.6421036883318724,
          0.26227946919099077,
          -0.4611100893718685,
          0.3973089899740454,
          -0.46113778972342145,
          -0.14088901633190057,
          15.422504594218024,
          -0.1740680549367214,
          -0.993426793718822,
          0.10818951209627907,
          -0.26420424486385846,
          -0.554275013347614,
          0.4251825491181857,
          0.43894139090105033,
          -0.33610094598088164
         ]
        }
       ],
       "layout": {
        "coloraxis": {
         "colorbar": {
          "title": {
           "text": "Class"
          }
         },
         "colorscale": [
          [
           0,
           "#0d0887"
          ],
          [
           0.1111111111111111,
           "#46039f"
          ],
          [
           0.2222222222222222,
           "#7201a8"
          ],
          [
           0.3333333333333333,
           "#9c179e"
          ],
          [
           0.4444444444444444,
           "#bd3786"
          ],
          [
           0.5555555555555556,
           "#d8576b"
          ],
          [
           0.6666666666666666,
           "#ed7953"
          ],
          [
           0.7777777777777778,
           "#fb9f3a"
          ],
          [
           0.8888888888888888,
           "#fdca26"
          ],
          [
           1,
           "#f0f921"
          ]
         ]
        },
        "legend": {
         "tracegroupgap": 0,
         "x": 0,
         "y": 1
        },
        "margin": {
         "t": 60
        },
        "scene": {
         "domain": {
          "x": [
           0,
           1
          ],
          "y": [
           0,
           1
          ]
         },
         "xaxis": {
          "title": {
           "text": "PC 1"
          }
         },
         "yaxis": {
          "title": {
           "text": "PC 2"
          }
         },
         "zaxis": {
          "title": {
           "text": "PC 3"
          }
         }
        },
        "template": {
         "data": {
          "bar": [
           {
            "error_x": {
             "color": "#2a3f5f"
            },
            "error_y": {
             "color": "#2a3f5f"
            },
            "marker": {
             "line": {
              "color": "#E5ECF6",
              "width": 0.5
             },
             "pattern": {
              "fillmode": "overlay",
              "size": 10,
              "solidity": 0.2
             }
            },
            "type": "bar"
           }
          ],
          "barpolar": [
           {
            "marker": {
             "line": {
              "color": "#E5ECF6",
              "width": 0.5
             },
             "pattern": {
              "fillmode": "overlay",
              "size": 10,
              "solidity": 0.2
             }
            },
            "type": "barpolar"
           }
          ],
          "carpet": [
           {
            "aaxis": {
             "endlinecolor": "#2a3f5f",
             "gridcolor": "white",
             "linecolor": "white",
             "minorgridcolor": "white",
             "startlinecolor": "#2a3f5f"
            },
            "baxis": {
             "endlinecolor": "#2a3f5f",
             "gridcolor": "white",
             "linecolor": "white",
             "minorgridcolor": "white",
             "startlinecolor": "#2a3f5f"
            },
            "type": "carpet"
           }
          ],
          "choropleth": [
           {
            "colorbar": {
             "outlinewidth": 0,
             "ticks": ""
            },
            "type": "choropleth"
           }
          ],
          "contour": [
           {
            "colorbar": {
             "outlinewidth": 0,
             "ticks": ""
            },
            "colorscale": [
             [
              0,
              "#0d0887"
             ],
             [
              0.1111111111111111,
              "#46039f"
             ],
             [
              0.2222222222222222,
              "#7201a8"
             ],
             [
              0.3333333333333333,
              "#9c179e"
             ],
             [
              0.4444444444444444,
              "#bd3786"
             ],
             [
              0.5555555555555556,
              "#d8576b"
             ],
             [
              0.6666666666666666,
              "#ed7953"
             ],
             [
              0.7777777777777778,
              "#fb9f3a"
             ],
             [
              0.8888888888888888,
              "#fdca26"
             ],
             [
              1,
              "#f0f921"
             ]
            ],
            "type": "contour"
           }
          ],
          "contourcarpet": [
           {
            "colorbar": {
             "outlinewidth": 0,
             "ticks": ""
            },
            "type": "contourcarpet"
           }
          ],
          "heatmap": [
           {
            "colorbar": {
             "outlinewidth": 0,
             "ticks": ""
            },
            "colorscale": [
             [
              0,
              "#0d0887"
             ],
             [
              0.1111111111111111,
              "#46039f"
             ],
             [
              0.2222222222222222,
              "#7201a8"
             ],
             [
              0.3333333333333333,
              "#9c179e"
             ],
             [
              0.4444444444444444,
              "#bd3786"
             ],
             [
              0.5555555555555556,
              "#d8576b"
             ],
             [
              0.6666666666666666,
              "#ed7953"
             ],
             [
              0.7777777777777778,
              "#fb9f3a"
             ],
             [
              0.8888888888888888,
              "#fdca26"
             ],
             [
              1,
              "#f0f921"
             ]
            ],
            "type": "heatmap"
           }
          ],
          "heatmapgl": [
           {
            "colorbar": {
             "outlinewidth": 0,
             "ticks": ""
            },
            "colorscale": [
             [
              0,
              "#0d0887"
             ],
             [
              0.1111111111111111,
              "#46039f"
             ],
             [
              0.2222222222222222,
              "#7201a8"
             ],
             [
              0.3333333333333333,
              "#9c179e"
             ],
             [
              0.4444444444444444,
              "#bd3786"
             ],
             [
              0.5555555555555556,
              "#d8576b"
             ],
             [
              0.6666666666666666,
              "#ed7953"
             ],
             [
              0.7777777777777778,
              "#fb9f3a"
             ],
             [
              0.8888888888888888,
              "#fdca26"
             ],
             [
              1,
              "#f0f921"
             ]
            ],
            "type": "heatmapgl"
           }
          ],
          "histogram": [
           {
            "marker": {
             "pattern": {
              "fillmode": "overlay",
              "size": 10,
              "solidity": 0.2
             }
            },
            "type": "histogram"
           }
          ],
          "histogram2d": [
           {
            "colorbar": {
             "outlinewidth": 0,
             "ticks": ""
            },
            "colorscale": [
             [
              0,
              "#0d0887"
             ],
             [
              0.1111111111111111,
              "#46039f"
             ],
             [
              0.2222222222222222,
              "#7201a8"
             ],
             [
              0.3333333333333333,
              "#9c179e"
             ],
             [
              0.4444444444444444,
              "#bd3786"
             ],
             [
              0.5555555555555556,
              "#d8576b"
             ],
             [
              0.6666666666666666,
              "#ed7953"
             ],
             [
              0.7777777777777778,
              "#fb9f3a"
             ],
             [
              0.8888888888888888,
              "#fdca26"
             ],
             [
              1,
              "#f0f921"
             ]
            ],
            "type": "histogram2d"
           }
          ],
          "histogram2dcontour": [
           {
            "colorbar": {
             "outlinewidth": 0,
             "ticks": ""
            },
            "colorscale": [
             [
              0,
              "#0d0887"
             ],
             [
              0.1111111111111111,
              "#46039f"
             ],
             [
              0.2222222222222222,
              "#7201a8"
             ],
             [
              0.3333333333333333,
              "#9c179e"
             ],
             [
              0.4444444444444444,
              "#bd3786"
             ],
             [
              0.5555555555555556,
              "#d8576b"
             ],
             [
              0.6666666666666666,
              "#ed7953"
             ],
             [
              0.7777777777777778,
              "#fb9f3a"
             ],
             [
              0.8888888888888888,
              "#fdca26"
             ],
             [
              1,
              "#f0f921"
             ]
            ],
            "type": "histogram2dcontour"
           }
          ],
          "mesh3d": [
           {
            "colorbar": {
             "outlinewidth": 0,
             "ticks": ""
            },
            "type": "mesh3d"
           }
          ],
          "parcoords": [
           {
            "line": {
             "colorbar": {
              "outlinewidth": 0,
              "ticks": ""
             }
            },
            "type": "parcoords"
           }
          ],
          "pie": [
           {
            "automargin": true,
            "type": "pie"
           }
          ],
          "scatter": [
           {
            "fillpattern": {
             "fillmode": "overlay",
             "size": 10,
             "solidity": 0.2
            },
            "type": "scatter"
           }
          ],
          "scatter3d": [
           {
            "line": {
             "colorbar": {
              "outlinewidth": 0,
              "ticks": ""
             }
            },
            "marker": {
             "colorbar": {
              "outlinewidth": 0,
              "ticks": ""
             }
            },
            "type": "scatter3d"
           }
          ],
          "scattercarpet": [
           {
            "marker": {
             "colorbar": {
              "outlinewidth": 0,
              "ticks": ""
             }
            },
            "type": "scattercarpet"
           }
          ],
          "scattergeo": [
           {
            "marker": {
             "colorbar": {
              "outlinewidth": 0,
              "ticks": ""
             }
            },
            "type": "scattergeo"
           }
          ],
          "scattergl": [
           {
            "marker": {
             "colorbar": {
              "outlinewidth": 0,
              "ticks": ""
             }
            },
            "type": "scattergl"
           }
          ],
          "scattermapbox": [
           {
            "marker": {
             "colorbar": {
              "outlinewidth": 0,
              "ticks": ""
             }
            },
            "type": "scattermapbox"
           }
          ],
          "scatterpolar": [
           {
            "marker": {
             "colorbar": {
              "outlinewidth": 0,
              "ticks": ""
             }
            },
            "type": "scatterpolar"
           }
          ],
          "scatterpolargl": [
           {
            "marker": {
             "colorbar": {
              "outlinewidth": 0,
              "ticks": ""
             }
            },
            "type": "scatterpolargl"
           }
          ],
          "scatterternary": [
           {
            "marker": {
             "colorbar": {
              "outlinewidth": 0,
              "ticks": ""
             }
            },
            "type": "scatterternary"
           }
          ],
          "surface": [
           {
            "colorbar": {
             "outlinewidth": 0,
             "ticks": ""
            },
            "colorscale": [
             [
              0,
              "#0d0887"
             ],
             [
              0.1111111111111111,
              "#46039f"
             ],
             [
              0.2222222222222222,
              "#7201a8"
             ],
             [
              0.3333333333333333,
              "#9c179e"
             ],
             [
              0.4444444444444444,
              "#bd3786"
             ],
             [
              0.5555555555555556,
              "#d8576b"
             ],
             [
              0.6666666666666666,
              "#ed7953"
             ],
             [
              0.7777777777777778,
              "#fb9f3a"
             ],
             [
              0.8888888888888888,
              "#fdca26"
             ],
             [
              1,
              "#f0f921"
             ]
            ],
            "type": "surface"
           }
          ],
          "table": [
           {
            "cells": {
             "fill": {
              "color": "#EBF0F8"
             },
             "line": {
              "color": "white"
             }
            },
            "header": {
             "fill": {
              "color": "#C8D4E3"
             },
             "line": {
              "color": "white"
             }
            },
            "type": "table"
           }
          ]
         },
         "layout": {
          "annotationdefaults": {
           "arrowcolor": "#2a3f5f",
           "arrowhead": 0,
           "arrowwidth": 1
          },
          "autotypenumbers": "strict",
          "coloraxis": {
           "colorbar": {
            "outlinewidth": 0,
            "ticks": ""
           }
          },
          "colorscale": {
           "diverging": [
            [
             0,
             "#8e0152"
            ],
            [
             0.1,
             "#c51b7d"
            ],
            [
             0.2,
             "#de77ae"
            ],
            [
             0.3,
             "#f1b6da"
            ],
            [
             0.4,
             "#fde0ef"
            ],
            [
             0.5,
             "#f7f7f7"
            ],
            [
             0.6,
             "#e6f5d0"
            ],
            [
             0.7,
             "#b8e186"
            ],
            [
             0.8,
             "#7fbc41"
            ],
            [
             0.9,
             "#4d9221"
            ],
            [
             1,
             "#276419"
            ]
           ],
           "sequential": [
            [
             0,
             "#0d0887"
            ],
            [
             0.1111111111111111,
             "#46039f"
            ],
            [
             0.2222222222222222,
             "#7201a8"
            ],
            [
             0.3333333333333333,
             "#9c179e"
            ],
            [
             0.4444444444444444,
             "#bd3786"
            ],
            [
             0.5555555555555556,
             "#d8576b"
            ],
            [
             0.6666666666666666,
             "#ed7953"
            ],
            [
             0.7777777777777778,
             "#fb9f3a"
            ],
            [
             0.8888888888888888,
             "#fdca26"
            ],
            [
             1,
             "#f0f921"
            ]
           ],
           "sequentialminus": [
            [
             0,
             "#0d0887"
            ],
            [
             0.1111111111111111,
             "#46039f"
            ],
            [
             0.2222222222222222,
             "#7201a8"
            ],
            [
             0.3333333333333333,
             "#9c179e"
            ],
            [
             0.4444444444444444,
             "#bd3786"
            ],
            [
             0.5555555555555556,
             "#d8576b"
            ],
            [
             0.6666666666666666,
             "#ed7953"
            ],
            [
             0.7777777777777778,
             "#fb9f3a"
            ],
            [
             0.8888888888888888,
             "#fdca26"
            ],
            [
             1,
             "#f0f921"
            ]
           ]
          },
          "colorway": [
           "#636efa",
           "#EF553B",
           "#00cc96",
           "#ab63fa",
           "#FFA15A",
           "#19d3f3",
           "#FF6692",
           "#B6E880",
           "#FF97FF",
           "#FECB52"
          ],
          "font": {
           "color": "#2a3f5f"
          },
          "geo": {
           "bgcolor": "white",
           "lakecolor": "white",
           "landcolor": "#E5ECF6",
           "showlakes": true,
           "showland": true,
           "subunitcolor": "white"
          },
          "hoverlabel": {
           "align": "left"
          },
          "hovermode": "closest",
          "mapbox": {
           "style": "light"
          },
          "paper_bgcolor": "white",
          "plot_bgcolor": "#E5ECF6",
          "polar": {
           "angularaxis": {
            "gridcolor": "white",
            "linecolor": "white",
            "ticks": ""
           },
           "bgcolor": "#E5ECF6",
           "radialaxis": {
            "gridcolor": "white",
            "linecolor": "white",
            "ticks": ""
           }
          },
          "scene": {
           "xaxis": {
            "backgroundcolor": "#E5ECF6",
            "gridcolor": "white",
            "gridwidth": 2,
            "linecolor": "white",
            "showbackground": true,
            "ticks": "",
            "zerolinecolor": "white"
           },
           "yaxis": {
            "backgroundcolor": "#E5ECF6",
            "gridcolor": "white",
            "gridwidth": 2,
            "linecolor": "white",
            "showbackground": true,
            "ticks": "",
            "zerolinecolor": "white"
           },
           "zaxis": {
            "backgroundcolor": "#E5ECF6",
            "gridcolor": "white",
            "gridwidth": 2,
            "linecolor": "white",
            "showbackground": true,
            "ticks": "",
            "zerolinecolor": "white"
           }
          },
          "shapedefaults": {
           "line": {
            "color": "#2a3f5f"
           }
          },
          "ternary": {
           "aaxis": {
            "gridcolor": "white",
            "linecolor": "white",
            "ticks": ""
           },
           "baxis": {
            "gridcolor": "white",
            "linecolor": "white",
            "ticks": ""
           },
           "bgcolor": "#E5ECF6",
           "caxis": {
            "gridcolor": "white",
            "linecolor": "white",
            "ticks": ""
           }
          },
          "title": {
           "x": 0.05
          },
          "xaxis": {
           "automargin": true,
           "gridcolor": "white",
           "linecolor": "white",
           "ticks": "",
           "title": {
            "standoff": 15
           },
           "zerolinecolor": "white",
           "zerolinewidth": 2
          },
          "yaxis": {
           "automargin": true,
           "gridcolor": "white",
           "linecolor": "white",
           "ticks": "",
           "title": {
            "standoff": 15
           },
           "zerolinecolor": "white",
           "zerolinewidth": 2
          }
         }
        },
        "width": 800
       }
      },
      "text/html": [
       "<div>                            <div id=\"3c8d0016-ed74-4d17-b8c8-91eafa35abf4\" class=\"plotly-graph-div\" style=\"height:525px; width:800px;\"></div>            <script type=\"text/javascript\">                require([\"plotly\"], function(Plotly) {                    window.PLOTLYENV=window.PLOTLYENV || {};                                    if (document.getElementById(\"3c8d0016-ed74-4d17-b8c8-91eafa35abf4\")) {                    Plotly.newPlot(                        \"3c8d0016-ed74-4d17-b8c8-91eafa35abf4\",                        [{\"customdata\":[[\"Scrypt\"],[\"Scrypt\"],[\"X13\"],[\"SHA-256\"],[\"Ethash\"],[\"Scrypt\"],[\"X11\"],[\"CryptoNight-V7\"],[\"Ethash\"],[\"Equihash\"],[\"SHA-512\"],[\"Multiple\"],[\"SHA-256\"],[\"SHA-256\"],[\"Scrypt\"],[\"X15\"],[\"X11\"],[\"Scrypt\"],[\"Scrypt\"],[\"Scrypt\"],[\"Multiple\"],[\"Scrypt\"],[\"SHA-256\"],[\"Scrypt\"],[\"Scrypt\"],[\"Scrypt\"],[\"Quark\"],[\"Groestl\"],[\"Scrypt\"],[\"Scrypt\"],[\"Scrypt\"],[\"Scrypt\"],[\"Scrypt\"],[\"X11\"],[\"Scrypt\"],[\"Groestl\"],[\"Multiple\"],[\"SHA-256\"],[\"Scrypt\"],[\"Scrypt\"],[\"Scrypt\"],[\"Scrypt\"],[\"PoS\"],[\"Scrypt\"],[\"Scrypt\"],[\"NeoScrypt\"],[\"Scrypt\"],[\"Scrypt\"],[\"Scrypt\"],[\"Scrypt\"],[\"X11\"],[\"Scrypt\"],[\"X11\"],[\"SHA-256\"],[\"Scrypt\"],[\"Scrypt\"],[\"Scrypt\"],[\"SHA3\"],[\"Scrypt\"],[\"HybridScryptHash256\"],[\"Scrypt\"],[\"Scrypt\"],[\"SHA-256\"],[\"Scrypt\"],[\"X13\"],[\"Scrypt\"],[\"SHA-256\"],[\"Scrypt\"],[\"X13\"],[\"NeoScrypt\"],[\"Scrypt\"],[\"Scrypt\"],[\"Scrypt\"],[\"Scrypt\"],[\"Scrypt\"],[\"Scrypt\"],[\"X11\"],[\"X11\"],[\"SHA-256\"],[\"Multiple\"],[\"SHA-256\"],[\"PHI1612\"],[\"X11\"],[\"SHA-256\"],[\"SHA-256\"],[\"SHA-256\"],[\"X11\"],[\"Scrypt\"],[\"Scrypt\"],[\"Scrypt\"],[\"Scrypt\"],[\"Lyra2REv2\"],[\"Scrypt\"],[\"X11\"],[\"Multiple\"],[\"SHA-256\"],[\"X13\"],[\"Scrypt\"],[\"CryptoNight\"],[\"CryptoNight\"],[\"Shabal256\"],[\"Counterparty\"],[\"Scrypt\"],[\"SHA-256\"],[\"Groestl\"],[\"Scrypt\"],[\"Scrypt\"],[\"Scrypt\"],[\"X13\"],[\"Scrypt\"],[\"Scrypt\"],[\"Scrypt\"],[\"Scrypt\"],[\"X13\"],[\"Scrypt\"],[\"Stanford Folding\"],[\"X11\"],[\"Multiple\"],[\"QuBit\"],[\"Scrypt\"],[\"Scrypt\"],[\"Scrypt\"],[\"M7 POW\"],[\"Scrypt\"],[\"SHA-256\"],[\"Scrypt\"],[\"X11\"],[\"SHA3\"],[\"X11\"],[\"Lyra2RE\"],[\"SHA-256\"],[\"QUAIT\"],[\"X11\"],[\"X11\"],[\"Scrypt\"],[\"Scrypt\"],[\"Scrypt\"],[\"Ethash\"],[\"X13\"],[\"Blake2b\"],[\"SHA-256\"],[\"X15\"],[\"X11\"],[\"SHA-256\"],[\"BLAKE256\"],[\"Scrypt\"],[\"1GB AES Pattern Search\"],[\"SHA-256\"],[\"X11\"],[\"Scrypt\"],[\"SHA-256\"],[\"SHA-256\"],[\"NIST5\"],[\"Scrypt\"],[\"Scrypt\"],[\"X11\"],[\"Dagger\"],[\"Scrypt\"],[\"X11GOST\"],[\"X11\"],[\"Scrypt\"],[\"SHA-256\"],[\"Scrypt\"],[\"PoS\"],[\"Scrypt\"],[\"X11\"],[\"X11\"],[\"SHA-256\"],[\"SHA-256\"],[\"NIST5\"],[\"X11\"],[\"Scrypt\"],[\"POS 3.0\"],[\"Scrypt\"],[\"Scrypt\"],[\"Scrypt\"],[\"X13\"],[\"X11\"],[\"X11\"],[\"Equihash\"],[\"X11\"],[\"Scrypt\"],[\"CryptoNight\"],[\"SHA-256\"],[\"SHA-256\"],[\"X11\"],[\"Scrypt\"],[\"Multiple\"],[\"Scrypt\"],[\"Scrypt\"],[\"Scrypt\"],[\"SHA-256\"],[\"Scrypt\"],[\"Scrypt\"],[\"SHA-256D\"],[\"PoS\"],[\"Scrypt\"],[\"X11\"],[\"Lyra2Z\"],[\"PoS\"],[\"X13\"],[\"X14\"],[\"PoS\"],[\"SHA-256D\"],[\"Ethash\"],[\"Equihash\"],[\"DPoS\"],[\"X11\"],[\"Scrypt\"],[\"X11\"],[\"X13\"],[\"X11\"],[\"PoS\"],[\"Scrypt\"],[\"Scrypt\"],[\"X11\"],[\"PoS\"],[\"X11\"],[\"SHA-256\"],[\"Scrypt\"],[\"X11\"],[\"Scrypt\"],[\"Scrypt\"],[\"X11\"],[\"CryptoNight\"],[\"Scrypt\"],[\"Scrypt\"],[\"Scrypt\"],[\"Scrypt\"],[\"Quark\"],[\"QuBit\"],[\"Scrypt\"],[\"CryptoNight\"],[\"Lyra2RE\"],[\"Scrypt\"],[\"SHA-256\"],[\"X11\"],[\"Scrypt\"],[\"X11\"],[\"Scrypt\"],[\"CryptoNight-V7\"],[\"Scrypt\"],[\"Scrypt\"],[\"Scrypt\"],[\"X13\"],[\"X11\"],[\"Equihash\"],[\"Scrypt\"],[\"Scrypt\"],[\"Lyra2RE\"],[\"Scrypt\"],[\"Dagger-Hashimoto\"],[\"X11\"],[\"Blake2S\"],[\"X11\"],[\"Scrypt\"],[\"PoS\"],[\"X11\"],[\"NIST5\"],[\"PoS\"],[\"X11\"],[\"Scrypt\"],[\"Scrypt\"],[\"Scrypt\"],[\"SHA-256\"],[\"X11\"],[\"Scrypt\"],[\"Scrypt\"],[\"SHA-256\"],[\"PoS\"],[\"Scrypt\"],[\"X15\"],[\"SHA-256\"],[\"Scrypt\"],[\"POS 3.0\"],[\"CryptoNight-V7\"],[\"536\"],[\"Argon2d\"],[\"Blake2b\"],[\"Cloverhash\"],[\"CryptoNight\"],[\"NIST5\"],[\"X11\"],[\"NIST5\"],[\"Skein\"],[\"Scrypt\"],[\"X13\"],[\"Scrypt\"],[\"X11\"],[\"X11\"],[\"Scrypt\"],[\"CryptoNight\"],[\"X13\"],[\"Time Travel\"],[\"Scrypt\"],[\"Keccak\"],[\"SkunkHash v2 Raptor\"],[\"X11\"],[\"Skein\"],[\"SHA-256\"],[\"X11\"],[\"Scrypt\"],[\"VeChainThor Authority\"],[\"Scrypt\"],[\"PoS\"],[\"Scrypt\"],[\"Scrypt\"],[\"Scrypt\"],[\"Scrypt\"],[\"Scrypt\"],[\"Scrypt\"],[\"Scrypt\"],[\"CryptoNight\"],[\"SHA-512\"],[\"Ouroboros\"],[\"X11\"],[\"Equihash\"],[\"NeoScrypt\"],[\"X11\"],[\"Scrypt\"],[\"NeoScrypt\"],[\"Lyra2REv2\"],[\"Equihash\"],[\"Scrypt\"],[\"SHA-256\"],[\"NIST5\"],[\"PHI1612\"],[\"Dagger\"],[\"Scrypt\"],[\"Quark\"],[\"Scrypt\"],[\"POS 2.0\"],[\"Scrypt\"],[\"SHA-256\"],[\"X11\"],[\"NeoScrypt\"],[\"Ethash\"],[\"NeoScrypt\"],[\"X11\"],[\"DPoS\"],[\"NIST5\"],[\"X13\"],[\"Multiple\"],[\"Scrypt\"],[\"CryptoNight\"],[\"CryptoNight\"],[\"Ethash\"],[\"NIST5\"],[\"Quark\"],[\"X11\"],[\"CryptoNight-V7\"],[\"Scrypt\"],[\"Scrypt\"],[\"Scrypt\"],[\"X11\"],[\"BLAKE256\"],[\"X11\"],[\"NeoScrypt\"],[\"Quark\"],[\"NeoScrypt\"],[\"Scrypt\"],[\"Scrypt\"],[\"Scrypt\"],[\"X11\"],[\"X11\"],[\"SHA-256\"],[\"C11\"],[\"POS 3.0\"],[\"Ethash\"],[\"Scrypt\"],[\"CryptoNight\"],[\"SkunkHash\"],[\"Scrypt\"],[\"CryptoNight\"],[\"Scrypt\"],[\"Dagger\"],[\"Lyra2REv2\"],[\"X13\"],[\"Proof-of-BibleHash\"],[\"SHA-256 + Hive\"],[\"Scrypt\"],[\"Scrypt\"],[\"X11\"],[\"C11\"],[\"Proof-of-Authority\"],[\"X11\"],[\"XEVAN\"],[\"Scrypt\"],[\"VBFT\"],[\"Ethash\"],[\"CryptoNight\"],[\"Scrypt\"],[\"IMesh\"],[\"NIST5\"],[\"Scrypt\"],[\"Scrypt\"],[\"Equihash\"],[\"Scrypt\"],[\"Lyra2Z\"],[\"Green Protocol\"],[\"PoS\"],[\"Scrypt\"],[\"Semux BFT consensus\"],[\"X11\"],[\"Quark\"],[\"PoS\"],[\"CryptoNight\"],[\"X16R\"],[\"Scrypt\"],[\"NIST5\"],[\"Lyra2RE\"],[\"XEVAN\"],[\"Tribus\"],[\"Scrypt\"],[\"Lyra2Z\"],[\"CryptoNight\"],[\"CryptoNight Heavy\"],[\"CryptoNight\"],[\"Scrypt\"],[\"Scrypt\"],[\"Jump Consistent Hash\"],[\"SHA-256D\"],[\"CryptoNight\"],[\"Scrypt\"],[\"X15\"],[\"Scrypt\"],[\"Quark\"],[\"SHA-256\"],[\"DPoS\"],[\"X16R\"],[\"HMQ1725\"],[\"X11\"],[\"X16R\"],[\"Quark\"],[\"Quark\"],[\"Scrypt\"],[\"Lyra2REv2\"],[\"Quark\"],[\"Scrypt\"],[\"Scrypt\"],[\"CryptoNight-V7\"],[\"Cryptonight-GPU\"],[\"XEVAN\"],[\"CryptoNight Heavy\"],[\"X11\"],[\"X11\"],[\"Scrypt\"],[\"PoS\"],[\"SHA-256\"],[\"Keccak\"],[\"X11\"],[\"X11\"],[\"Scrypt\"],[\"SHA-512\"],[\"X16R\"],[\"ECC 256K1\"],[\"Equihash\"],[\"XEVAN\"],[\"Lyra2Z\"],[\"SHA-256\"],[\"XEVAN\"],[\"X11\"],[\"CryptoNight\"],[\"Quark\"],[\"Blake\"],[\"Blake\"],[\"Equihash\"],[\"Exosis\"],[\"Scrypt\"],[\"Scrypt\"],[\"Equihash\"],[\"Quark\"],[\"Equihash\"],[\"Quark\"],[\"Scrypt\"],[\"QuBit\"],[\"X11\"],[\"Scrypt\"],[\"XEVAN\"],[\"SHA-256D\"],[\"X11\"],[\"SHA-256\"],[\"X13\"],[\"SHA-256\"],[\"X11\"],[\"DPoS\"],[\"Scrypt\"],[\"Scrypt\"],[\"X11\"],[\"NeoScrypt\"],[\"Scrypt\"],[\"Blake\"],[\"Scrypt\"],[\"SHA-256\"],[\"Scrypt\"],[\"X11\"],[\"Scrypt\"],[\"Scrypt\"],[\"SHA-256\"],[\"X11\"],[\"SHA-256\"],[\"Scrypt\"],[\"Scrypt\"],[\"Scrypt\"],[\"Groestl\"],[\"X11\"],[\"Scrypt\"],[\"PoS\"],[\"Scrypt\"],[\"Scrypt\"],[\"X11\"],[\"SHA-256\"],[\"DPoS\"],[\"Scrypt\"],[\"Scrypt\"],[\"NeoScrypt\"],[\"Multiple\"],[\"X13\"],[\"Equihash+Scrypt\"],[\"DPoS\"],[\"Ethash\"],[\"DPoS\"],[\"SHA-256\"],[\"Leased POS\"],[\"PoS\"],[\"TRC10\"],[\"PoS\"],[\"SHA-256\"],[\"Scrypt\"],[\"CryptoNight\"],[\"Equihash\"],[\"Scrypt\"]],\"hovertemplate\":\"<b>%{hovertext}</b><br><br>PC 1=%{x}<br>PC 2=%{y}<br>PC 3=%{z}<br>Algorithm=%{customdata[0]}<br>Class=%{marker.color}<extra></extra>\",\"hovertext\":[\"42 Coin\",\"404Coin\",\"EliteCoin\",\"Bitcoin\",\"Ethereum\",\"Litecoin\",\"Dash\",\"Monero\",\"Ethereum Classic\",\"ZCash\",\"Bitshares\",\"DigiByte\",\"BitcoinDark\",\"PayCoin\",\"ProsperCoin\",\"KoboCoin\",\"Spreadcoin\",\"Argentum\",\"Aurora Coin\",\"BlueCoin\",\"MyriadCoin\",\"MoonCoin\",\"ZetaCoin\",\"SexCoin\",\"Quatloo\",\"EnergyCoin\",\"QuarkCoin\",\"Riecoin\",\"Digitalcoin \",\"BitBar\",\"Catcoin\",\"CryptoBullion\",\"CannaCoin\",\"CryptCoin\",\"CasinoCoin\",\"Diamond\",\"Verge\",\"DevCoin\",\"EarthCoin\",\"E-Gulden\",\"Einsteinium\",\"Emerald\",\"Exclusive Coin\",\"FlutterCoin\",\"Franko\",\"FeatherCoin\",\"GrandCoin\",\"GlobalCoin\",\"GoldCoin\",\"HoboNickels\",\"HyperStake\",\"Infinite Coin\",\"IOCoin\",\"IXcoin\",\"KrugerCoin\",\"LuckyCoin\",\"Litebar \",\"MaxCoin\",\"MegaCoin\",\"MediterraneanCoin\",\"MintCoin\",\"MinCoin\",\"MazaCoin\",\"Nautilus Coin\",\"NavCoin\",\"NobleCoin\",\"Namecoin\",\"NyanCoin\",\"OpalCoin\",\"Orbitcoin\",\"PotCoin\",\"PhoenixCoin\",\"Reddcoin\",\"RonPaulCoin\",\"StableCoin\",\"SmartCoin\",\"SuperCoin\",\"SyncCoin\",\"SysCoin\",\"TeslaCoin\",\"TigerCoin\",\"TittieCoin\",\"TorCoin\",\"TerraCoin\",\"UnbreakableCoin\",\"Unobtanium\",\"UroCoin\",\"UnitaryStatus Dollar\",\"UltraCoin\",\"ViaCoin\",\"VeriCoin\",\"Vertcoin\",\"WorldCoin\",\"X11 Coin\",\"Crypti\",\"JouleCoin\",\"StealthCoin\",\"ZCC Coin\",\"ByteCoin\",\"DigitalNote \",\"BurstCoin\",\"StorjCoin\",\"MonaCoin\",\"Neutron\",\"FairCoin\",\"Gulden\",\"RubyCoin\",\"PesetaCoin\",\"Kore\",\"Wild Beast Coin\",\"Dnotes\",\"Flo\",\"8BIT Coin\",\"Sativa Coin\",\"ArtByte\",\"Folding Coin\",\"Ucoin\",\"Unitus\",\"CypherPunkCoin\",\"OmniCron\",\"Vtorrent\",\"GreenCoin\",\"Cryptonite\",\"MasterCoin\",\"SoonCoin\",\"1Credit\",\"IslaCoin\",\"Nexus\",\"MarsCoin \",\"Crypto\",\"Anarchists Prime\",\"Droidz\",\"BowsCoin\",\"Squall Coin\",\"Song Coin\",\"BitZeny\",\"Diggits\",\"Expanse\",\"Paycon\",\"Siacoin\",\"Emercoin\",\"EverGreenCoin\",\"MindCoin\",\"I0coin\",\"Decred\",\"Revolution VR\",\"HOdlcoin\",\"EDRCoin\",\"Hitcoin\",\"Gamecredits\",\"DubaiCoin\",\"CarpeDiemCoin\",\"PWR Coin\",\"BillaryCoin\",\"GPU Coin\",\"Adzcoin\",\"SoilCoin\",\"YoCoin\",\"SibCoin\",\"EuropeCoin\",\"ZeitCoin\",\"SwingCoin\",\"SafeExchangeCoin\",\"Nebuchadnezzar\",\"Francs\",\"BolivarCoin\",\"Ratecoin\",\"Revenu\",\"Clockcoin\",\"VIP Tokens\",\"BitSend\",\"Omni\",\"Let it Ride\",\"PutinCoin\",\"iBankCoin\",\"Frankywillcoin\",\"MudraCoin\",\"PizzaCoin\",\"Lutetium Coin\",\"Komodo\",\"GoldBlocks\",\"CarterCoin\",\"Karbo\",\"BitTokens\",\"ZayedCoin\",\"MustangCoin\",\"ZoneCoin\",\"Circuits of Value\",\"RootCoin\",\"DopeCoin\",\"BitCurrency\",\"DollarCoin\",\"Swiscoin\",\"Shilling\",\"BuzzCoin\",\"Opair\",\"PesoBit\",\"Halloween Coin\",\"ZCoin\",\"CoffeeCoin\",\"RoyalCoin\",\"GanjaCoin V2\",\"TeamUP\",\"LanaCoin\",\"Elementrem\",\"ZClassic\",\"ARK\",\"InsaneCoin\",\"KiloCoin\",\"ArtexCoin\",\"EmberCoin\",\"XenixCoin\",\"FreeCoin\",\"PLNCoin\",\"AquariusCoin\",\"Kurrent\",\"Creatio\",\"Eternity\",\"Eurocoin\",\"BitcoinFast\",\"Stakenet\",\"BitConnect Coin\",\"MoneyCoin\",\"Enigma\",\"Cannabis Industry Coin\",\"Russiacoin\",\"PandaCoin\",\"GameUnits\",\"GAKHcoin\",\"Allsafe\",\"LiteCreed\",\"OsmiumCoin\",\"Bikercoins\",\"HexxCoin\",\"Klingon Empire Darsek\",\"Internet of People\",\"KushCoin\",\"Printerium\",\"PacCoin\",\"Impeach\",\"Citadel\",\"Zilbercoin\",\"FirstCoin\",\"BeaverCoin\",\"FindCoin\",\"VaultCoin\",\"Zero\",\"OpenChat\",\"Canada eCoin\",\"Zoin\",\"RenosCoin\",\"DubaiCoin\",\"VirtacoinPlus\",\"TajCoin\",\"Impact\",\"EB3coin\",\"Atmos\",\"HappyCoin\",\"Coinonat\",\"MacronCoin\",\"Condensate\",\"Independent Money System\",\"ArgusCoin\",\"LomoCoin\",\"ProCurrency\",\"GoldReserve\",\"BenjiRolls\",\"GrowthCoin\",\"ILCoin\",\"Phreak\",\"Degas Coin\",\"HTML5 Coin\",\"Ultimate Secure Cash\",\"EquiTrader\",\"QTUM\",\"Quantum Resistant Ledger\",\"Espers\",\"Dynamic\",\"Nano\",\"ChanCoin\",\"Dinastycoin\",\"Denarius\",\"DigitalPrice\",\"Virta Unique Coin\",\"Bitcoin Planet\",\"Unify\",\"BritCoin\",\"SocialCoin\",\"ArcticCoin\",\"DAS\",\"Linda\",\"LeviarCoin\",\"DeepOnion\",\"Bitcore\",\"gCn Coin\",\"SmartCash\",\"Signatum\",\"Onix\",\"Cream\",\"Bitcoin Cash\",\"Monoeci\",\"Draftcoin\",\"Vechain\",\"Sojourn Coin\",\"Stakecoin\",\"NewYorkCoin\",\"FrazCoin\",\"Kronecoin\",\"AdCoin\",\"Linx\",\"CoinonatX\",\"Ethereum Dark\",\"Sumokoin\",\"Obsidian\",\"Cardano\",\"Regalcoin\",\"BitcoinZ\",\"TrezarCoin\",\"Elements\",\"TerraNovaCoin\",\"VIVO Coin\",\"Rupee\",\"Bitcoin Gold\",\"WomenCoin\",\"Theresa May Coin\",\"NamoCoin\",\"LUXCoin\",\"Pirl\",\"Xios\",\"Bitcloud 2.0\",\"eBoost\",\"KekCoin\",\"BlackholeCoin\",\"Infinity Economics\",\"Pura\",\"Innova\",\"Ellaism\",\"GoByte\",\"Magnet\",\"Lamden Tau\",\"Electra\",\"Bitcoin Diamond\",\"SHIELD\",\"Cash & Back Coin\",\"UltraNote\",\"BitCoal\",\"DaxxCoin\",\"Bulwark\",\"Kalkulus\",\"AC3\",\"Lethean\",\"GermanCoin\",\"LiteCoin Ultra\",\"PopularCoin\",\"PhantomX\",\"Photon\",\"Sucre\",\"SparksPay\",\"Digiwage\",\"GunCoin\",\"IrishCoin\",\"Trollcoin\",\"Litecoin Plus\",\"Monkey Project\",\"Pioneer Coin\",\"UnitedBitcoin\",\"Interzone\",\"TokenPay\",\"1717 Masonic Commemorative Token\",\"My Big Coin\",\"TurtleCoin\",\"MUNcoin\",\"Unified Society USDEX\",\"Niobio Cash\",\"ShareChain\",\"Travelflex\",\"KREDS\",\"Tokyo Coin\",\"BiblePay\",\"LitecoinCash\",\"BitFlip\",\"LottoCoin\",\"Crypto Improvement Fund\",\"Stipend\",\"Poa Network\",\"Pushi\",\"Ellerium\",\"Velox\",\"Ontology\",\"Callisto Network\",\"BitTube\",\"Poseidon\",\"Aidos Kuneen\",\"Bitspace\",\"Briacoin\",\"Ignition\",\"Bitrolium\",\"MedicCoin\",\"Alpenschillling\",\"Bitcoin Green\",\"Deviant Coin\",\"Abjcoin\",\"Semux\",\"FuturoCoin\",\"Carebit\",\"Zealium\",\"Monero Classic\",\"Proton\",\"iDealCash\",\"Jumpcoin\",\"Infinex\",\"Bitcoin Incognito\",\"KEYCO\",\"HollyWoodCoin\",\"GINcoin\",\"PlatinCoin\",\"Loki\",\"Newton Coin\",\"Swisscoin\",\"Xt3ch\",\"MassGrid\",\"TheVig\",\"PluraCoin\",\"EmaratCoin\",\"Dekado\",\"Lynx\",\"Poseidon Quark\",\"BitcoinWSpectrum\",\"Muse\",\"Motion\",\"PlusOneCoin\",\"Axe\",\"Trivechain\",\"Dystem\",\"Giant\",\"Peony Coin\",\"Absolute Coin\",\"Vitae\",\"HexCoin\",\"TPCash\",\"Webchain\",\"Ryo\",\"Urals Coin\",\"Qwertycoin\",\"ARENON\",\"EUNO\",\"MMOCoin\",\"Ketan\",\"Project Pai\",\"XDNA\",\"PAXEX\",\"Azart\",\"ThunderStake\",\"Kcash\",\"Xchange\",\"Acute Angle Cloud\",\"CrypticCoin\",\"Bettex coin\",\"Actinium\",\"Bitcoin SV\",\"BitMoney\",\"Junson Ming Chan Coin\",\"FREDEnergy\",\"HerbCoin\",\"Universal Molecule\",\"Lithium\",\"PirateCash\",\"Exosis\",\"Block-Logic\",\"Oduwa\",\"Beam\",\"Galilel\",\"Bithereum\",\"Crypto Sports\",\"Credit\",\"SLICE\",\"Dash Platinum\",\"Nasdacoin\",\"Beetle Coin\",\"Titan Coin\",\"Award\",\"BLAST\",\"Bitcoin Rhodium\",\"GlobalToken\",\"Insane Coin\",\"ALAX\",\"LiteDoge\",\"SolarCoin\",\"TruckCoin\",\"UFO Coin\",\"OrangeCoin\",\"BlakeCoin\",\"BitstarCoin\",\"NeosCoin\",\"HyperCoin\",\"PinkCoin\",\"Crypto Escudo\",\"AudioCoin\",\"IncaKoin\",\"Piggy Coin\",\"Crown Coin\",\"Genstake\",\"SmileyCoin\",\"XiaoMiCoin\",\"Groestlcoin\",\"CapriCoin\",\" ClubCoin\",\"Radium\",\"Bata\",\"Pakcoin\",\"Creditbit \",\"OKCash\",\"Lisk\",\"HiCoin\",\"WhiteCoin\",\"FriendshipCoin\",\"JoinCoin\",\"Triangles Coin\",\"Vollar\",\"EOS\",\"Reality Clash\",\"Oxycoin\",\"TigerCash\",\"Waves\",\"Particl\",\"BitTorrent\",\"Nxt\",\"ZEPHYR\",\"Gapcoin\",\"Beldex\",\"Horizen\",\"BitcoinPlus\"],\"legendgroup\":\"\",\"marker\":{\"color\":[3,3,3,0,0,0,3,0,0,0,3,0,3,3,0,3,0,0,3,3,0,0,0,0,0,3,0,0,0,3,0,3,0,0,3,3,0,0,0,0,0,0,3,3,0,0,0,0,0,3,3,0,3,0,0,0,0,3,0,0,3,0,3,3,3,0,0,0,3,3,3,3,3,0,0,0,3,3,0,3,0,3,3,0,0,0,0,3,3,0,3,0,0,3,3,0,3,3,0,0,3,3,0,3,3,0,3,0,3,0,3,0,3,3,0,0,3,0,0,0,3,0,0,0,0,0,3,3,0,0,0,3,0,3,0,0,3,0,3,0,3,3,0,0,3,0,0,3,3,0,3,0,3,3,3,0,0,0,0,3,3,3,3,3,0,0,3,3,3,3,3,0,3,3,3,3,3,0,3,0,3,3,0,3,0,3,3,0,3,0,3,0,3,0,3,3,3,3,0,3,3,3,3,3,0,0,3,3,0,0,3,3,3,3,3,0,3,3,3,3,3,3,3,3,0,3,3,3,3,3,3,0,0,0,3,3,3,3,0,3,0,3,3,0,3,0,0,3,0,0,3,0,3,3,3,0,3,3,0,3,3,3,3,3,3,3,0,3,0,3,3,3,3,0,3,0,3,0,0,0,0,3,0,3,3,0,3,0,0,0,3,0,3,0,0,0,3,0,3,0,3,3,2,0,3,0,0,0,0,0,3,3,0,3,3,3,0,3,0,3,0,3,0,3,3,3,3,0,3,3,0,3,3,3,0,0,0,0,3,3,3,3,0,3,0,0,0,3,3,0,0,3,3,0,3,0,0,0,3,0,0,3,3,3,0,0,0,3,3,3,0,0,3,0,0,0,0,3,2,2,0,0,0,3,2,3,3,3,3,0,0,0,0,3,3,3,0,3,0,3,3,3,3,0,3,3,0,3,3,0,0,3,0,3,0,0,0,0,3,3,0,3,0,3,3,3,3,3,3,0,0,0,3,3,3,3,3,3,0,3,0,0,0,0,3,3,3,3,0,3,3,0,3,3,0,2,0,3,0,0,3,3,0,3,0,0,3,0,0,3,0,3,0,3,3,0,3,3,3,3,3,0,0,0,3,3,3,0,3,0,3,0,3,3,3,3,0,3,3,3,0,3,0,3,0,3,3,3,0,0,3,3,3,3,3,3,0,3,0,3,0,3,3,2,3,1,3,3,3,0,0,3],\"coloraxis\":\"coloraxis\",\"symbol\":\"circle\"},\"mode\":\"markers\",\"name\":\"\",\"scene\":\"scene\",\"showlegend\":false,\"x\":[-0.333485679391774,-0.31683537720840643,2.2939052199001226,-0.14886321584799575,-0.15151190611567694,-0.16278277660734114,-0.39658634673964915,-0.15827389909779802,-0.14995588886472758,-0.13234918468973164,-0.24455493093244027,0.16783859277586036,-0.3183977907248008,-0.2709597598001016,-0.16392807801112433,-0.24576740013827725,-0.22723614106862175,-0.16354505206510248,-0.3331455331131905,-0.32572706956613745,-0.08533171616240837,2.554424483347562,-0.14595047544522924,-0.16080289208190007,-0.1633493807066827,-0.3319830669736583,-0.23065986704826902,-0.20699032279521107,-0.16339784170850805,-0.3334816204939952,-0.1639103532118068,-0.33346591283522126,-0.16399672061313514,-0.2273254261678501,0.6666784001388099,-0.3774571467084312,0.19159994737524574,0.22867241296192814,0.08453065247594786,-0.16374319010881316,-0.15935231186730792,-0.16368257573209807,-0.3538264415581057,-0.26209252371324543,-0.16405368360624492,-0.17338089762476766,-0.14329452038044166,-0.16284973609148493,-0.16312705243326425,-0.3315461653812431,-0.3289828574008577,1.5834520573819997,-0.39648110003379555,-0.14882460528138086,-0.16041890898050412,-0.1637696125234555,-0.16412414006510204,-0.448813865697704,-0.16338399694583658,-0.15165123999645339,-0.02610944839307749,-0.1640055154805431,-0.2817371237232725,-0.2857990123005286,-0.2869197723531648,-0.029062990691273157,-0.14890217563665442,-0.1576745076184023,-0.2875416433876519,-0.34758000947923695,-0.32779332379169895,-0.3318888254432225,0.024461307994199197,-0.16398502793667968,-0.16208160770584878,-0.16347220256549622,-0.34885866444071073,-0.396852350100121,-0.13606566959872604,-0.24038073965067397,-0.14836636422312388,-0.31545161447555004,-0.3967640923221436,-0.1486533929132116,-0.1486365953232974,-0.14922655787233516,-0.22749913166692107,-0.3087399404240075,-0.3321643401976379,-0.16370167513519815,-0.2722993995422768,-0.190766098991259,-0.1608076882850714,-0.3967285631001692,-0.2408476786488441,-0.14843361310919398,-0.2873226258145535,-0.32459908593404224,3.851197966811058,0.45288568915847827,-0.001374798059448805,-0.34548772269621303,-0.16257030665818784,-0.31761018456554474,-0.37687899987609613,-0.14718582945702066,-0.28577919415375874,-0.16129012421123648,-0.2876170546884806,-0.16412635525098512,-0.28043886119284844,-0.1611551983975824,-0.3334677576674075,-0.28756925519169724,-0.14739058241480213,-0.1417032517442331,-0.34930337652143817,-0.11930971121213457,-0.1981832030552484,-0.16399950267426766,-0.33320239272315283,-0.03705817003391046,-0.0997912925874026,-0.16413523216004858,-0.14892993879396024,0.4871783565268211,-0.39683388902317146,-0.49083146005686407,-0.2268868161012763,-0.1518672348383782,-0.14867011562212487,-0.409750554491071,-0.22717150162190766,-0.36745481422412707,-0.16226113708817563,-0.16145401516889551,-0.2841821456911446,-0.1525789053431839,-0.28709137066321105,0.3712258211940448,-0.3109638998528739,-0.24820575312393237,-0.2272068525898594,-0.1488257270523998,-0.08258967126743039,-0.16009633482436283,-0.15298068466913156,-0.31836872047459913,-0.07462211580961275,-0.1626997860797866,-0.3184323175139408,0.2693228865322283,-0.24080754127733273,-0.3330784605700617,-0.28405192308054983,-0.22636838245427582,-0.15510387411604226,-0.16294754826994787,-0.1484737196353073,-0.3940067257337716,0.8661943637936959,-0.3182326501044002,-0.06348703780979882,-0.3535099965705061,-0.16392535902132568,-0.2271701645705984,-0.3946784667309957,-0.31697787492042045,-0.3146490269501934,-0.3621007522405534,-0.39557052787415276,-0.1641352906079825,-0.3437061480775385,-0.3093984867991223,-0.33311655030968523,-0.33155670548304356,-0.23887517141823827,-0.22732005818996961,-0.3368044478559751,-0.17862209429250905,-0.396308353898838,-0.3323214584514342,0.29792550454102845,-0.3184133372479989,-0.149085615696658,-0.39682310288237643,-0.3333054821157273,-0.09939908339022879,-0.333461993898318,-0.16130456316192798,-0.28404029867055003,-0.14904427170168985,-0.2428860849809047,-0.16379902640660887,0.023994335592374103,-0.35246793743681964,-0.3330763604223089,-0.3830011916833716,-0.14934049253010603,-0.3517967555138927,-0.24030391806741086,-0.4158794379836125,-0.3515472593003834,-0.29029240354064145,-0.15232124662617852,-0.1323707905972388,3.7453792597408078,-0.3964160149446703,-0.09095422022264396,-0.21391291624092498,0.8439776384405391,-0.3967780418516954,-0.3529313041548355,-0.3330041655924947,-0.33315842675898266,-0.22515044859992303,-0.3535099965705061,-0.3963534855422393,-0.3182760793475655,-0.33300487071873097,-0.38979097046448663,-0.3331521539188269,-0.3287459934281214,-0.3968070262408673,0.29791981062512535,-0.33236392088032907,0.3569449304526652,-0.3333512396377311,-0.33342171947040367,-0.35730708032500547,-0.366672214877688,-0.16411704946088848,0.2980504370924157,-0.15240709278945877,-0.329653252956736,-0.3183897637602016,-0.3967170505152052,-0.3331997430509265,0.4870041205522834,-0.3333266377702433,-0.15704026197221546,-0.2856860561494716,-0.274973821540479,-0.16408535651599102,-0.24007196411425274,-0.22006324787553952,-0.1323831369288491,-0.31419593301292315,-0.1622201190205208,-0.1521256788555175,-0.28542721486516986,-0.16225004568694334,-0.39598369125691646,-0.4254250359758264,-0.39472280224047035,-0.13504610555014615,-0.3517579973031036,-0.39588163196580495,-0.19395314842215589,-0.3461625371427381,-0.39182701329232794,-0.33326995117854213,-0.3332691820605678,-0.3263999614268536,0.26100398548221165,-0.39635952213646014,-0.16364813714624518,-0.2683482495541846,-0.11544187379585448,-0.3535443269235152,-0.3324815274031466,0.8850601524397684,-0.26965190997606364,-0.16347049542937975,-0.3424855271326692,-0.1568976289317238,0.5846463584021133,-0.1326281663488231,-0.028872750217513034,-0.17447765245406882,0.3340122582178585,-0.36363512876584847,-0.22637686013721453,-0.3621387732516482,-0.41367323751112056,-0.16378930070514341,-0.2872546299657611,-0.1635531114833833,-0.22677111551551907,-0.2273480425959212,0.13093481935608856,0.2983144121014445,-0.28732530303518145,-0.1542210121186517,3.2427000651151143,-0.11590049169158205,-0.34485919868530573,-0.2182308541111174,-0.4131783920532612,-0.14886238049602704,-0.39663159137164383,-0.2857600120723016,4.402740362144384,-0.08980531326865612,-0.3534108470237159,1.5819833444381486,-0.16388710181176863,-0.16333938157259198,-0.1630405994192354,-0.16302753708025794,-0.33290549370365313,-0.33340466326375184,0.2984977342735768,-0.30256826309097934,0.6582929088234285,-0.39657254708260525,0.07971764411746472,-0.34258413905154,-0.18176833991245886,-0.3333603657563607,-0.17806550871939633,-0.3134866092847177,-0.13222928966695988,0.4352012895730817,-0.3167373654776049,-0.34841676984337383,-0.39839191734665225,-0.15386430844447985,-0.3333107603366487,-0.4031253428585613,-0.16221832909825476,-0.3465523558225554,-0.3331811960620811,-0.09758699503244059,-0.22289659925893018,-0.1779110999289606,-0.15068869606630364,-0.17801118034831925,-0.3953664972353593,3.750230577276535,0.19538896799390607,-0.2839990107983075,-0.10955021375391734,-0.3306439176171584,1.1349599738753464,0.2979026362282539,-0.0756704496021373,-0.31602432898950217,-0.3571930735128069,-0.22263941393544903,-0.14602026006178973,0.08046507909549556,-0.3323209361195261,-0.08034568680641799,-0.3959468076815027,1.0910377362349504,-0.22732205958270016,-0.1780630354086921,-0.3563588115579133,-0.17110714543215094,-0.16313873235317605,-0.3198975612212363,-0.33342678163597145,-0.3492753267360845,-0.22724752318223077,-0.14884178389374061,-0.20722586321258338,-0.34398786481040017,-0.2747594720769166,-0.27354787517203033,8.026217384909115,-0.14776889543002789,-0.328975705568971,0.3017732789711602,0.02875029015616933,-0.15336746809960317,-0.1763372154478629,-0.23187647324592559,-0.19081137568589052,-0.39430166906461356,-0.16371202864337586,0.14310434542129874,-0.22139409385875627,-0.37659839160267305,-0.3849538142432024,-0.396648911750099,-0.3235602978818716,-0.28492103503673283,-0.31507136275491465,-0.1037858746415471,0.3058162191518726,-0.16394881201254463,-0.17913976941404328,-0.36323452580311594,-0.333454116010242,-0.33343584788137437,-0.13122117182158322,-0.2793075732490223,-0.14712669070064247,-0.33448553966256295,-0.3530056694623745,-0.33315264953787954,3.9414119138824475,-0.2264176116263674,-0.4017940958640418,-0.35319419208681063,0.29808502839585177,-0.33064135176323683,-0.28007929326872544,-0.19401242814809674,-0.1522525011979012,-0.29431483341910014,-0.16451064302912044,-0.28545443514343255,-0.14942476517086467,0.3020079966627399,0.5749372449098092,2.1046197192207887,-0.13673025887391424,-0.285706454088234,-0.15147597170073399,-0.35553153023248707,0.3116775334040977,-0.332627261829945,-0.2001756435994948,2.2525749269678825,-0.35290678307162104,-0.26977902189172426,1.0320577840670984,-0.20879426136505186,-0.14398306932096663,-0.22730423562401034,-0.37735303114046126,-0.35730654909711607,-0.4048075128811757,-0.16659451790193622,-0.36078965024475335,-0.35602720990613534,-0.16397338736596326,-0.32634008534381576,-0.14590436704878687,-0.16117535335509817,-0.15298492426845384,3.0951745432025217,-0.34885314971672915,-0.3961226713101257,-0.2829546096342073,-0.3522951871137404,-0.10872231183860667,-0.34535188890965557,-0.34871484814485565,-0.2272756381593754,-0.19311045264612614,-0.2464469026011179,-0.2082227106855316,-0.3578189782598818,-0.027071663727075708,-0.27617877851217487,-0.14882323509775075,-0.14886241804218725,0.5030381582814628,-0.13934234584413124,0.377759463438254,-0.40410279208991773,-0.1544749029702492,-0.1548662822589752,-0.2536440411345523,-0.15568562230635344,-0.16286679698253387,-0.3331565724634515,-0.13029173281456569,-0.40455847198675,-0.13206224925839963,-0.3574234205387147,0.5724554589195862,-0.1973951370375014,-0.34932960507179034,-0.3326401167984847,-0.3180213259614774,-0.3103025762133006,-0.3936906506715304,-0.14813917093277817,-0.1183590495348989,-0.14700826858733804,-0.3963496754906639,3.76246289332776,0.1013464556248823,0.5310413800548045,-0.39389050934732456,-0.10328915595824027,-0.3320265683866343,-0.105395897515105,-0.33285032563582206,-0.2709924176641974,-0.33336808196445106,-0.3879846286970847,-0.14754109123565823,-0.24717486117657236,-0.09817771538879429,-0.38373801333892543,-0.14865276368735997,-0.3326468779874802,0.5510579622071462,-0.3257170765837606,-0.20655166489233107,-0.39292112658358935,-0.3310877050690923,-0.35378541707034555,-0.1640500912833164,-0.16200783553670325,-0.3714670467874887,-0.31691411524322893,3.7457706708842964,-0.09314810808977292,-0.3282847745127772,-0.34720637650296776,-0.12004423497393277,-0.2877241361504062,-0.13058313848178926,3.755634130988416,-0.15235437859833167,3.756877583635025,-0.2519049724225212,-0.3864733860936972,-0.35372131678970636,34.04900193172523,-0.37367937539558127,2.478850311579683,-0.3315334667083033,0.31964087936645647,-0.13235024109521762,-0.28610247390658416],\"y\":[1.0589049289482437,1.0589568680980197,1.6371828847838312,-1.3168531961235763,-2.0351094709319857,-1.0916783668063073,1.1756906690815172,-2.2178624310604858,-2.0352227286414233,-2.03667167180322,1.6558257062873099,-1.8334392777523316,0.8336986162123079,0.6230235470212685,-1.0916624810285098,1.8504704996924703,-0.9748653224118041,-1.0916839543769334,1.0589016420370039,1.0591118058275897,-1.8261888783302442,-1.302131463549413,-1.316885176817867,-1.0917478991404144,-1.0917052651252497,1.058944994883834,-0.47634136568733104,-1.2253073076929184,-1.0916683611660316,1.0589046687596233,-1.0916620084115456,1.0589047191445313,-1.0916585193441897,-0.9748662293376186,0.3746082757545193,0.9252790553454463,-1.8295302100214408,-1.3222458101976207,-1.0949701224148802,-1.0916575511470752,-1.091745912363566,-1.0916640407425209,1.5386119493098669,0.4037823055704618,-1.091658635032016,-1.6278095030612296,-1.0921436675103446,-1.0916698357177255,-1.0916788849677295,1.0588682172944222,0.9655625061573307,-1.1118171149798948,1.175693475396996,-1.316852166605074,-1.0917490240372467,-1.0916575187853068,-1.0916532289044893,1.9778506274512406,-1.0916634483224361,-2.229744250326027,0.8551538942180671,-1.0916564400067748,0.8329096614614787,0.8482175660418516,1.799869224934085,-1.0991043420648348,-1.3168542349537846,-1.0917285931064382,1.799852643262547,0.5228634882737931,1.058747215666452,1.058875292204485,1.068449286319904,-1.091663999550691,-1.0917819950241128,-1.0916725796706601,0.9650325343695848,1.1756997872415875,-1.3171508468041464,0.11420304830474642,-1.316859116037094,1.5964222543740587,1.1756947723646105,-1.3168630761312636,-1.3168906301859171,-1.3168475937974782,-0.9748575969688149,1.0583857240284298,1.0588664720470053,-1.0916579179717465,0.4847999474646366,-1.2798978466854427,-1.0917593905125633,1.1756990357418287,0.11426428710427758,-1.316859426566557,1.799858483183136,1.0584049891909422,-2.3842512414884354,-2.3463004972502755,0.5177001626307178,1.543687556754952,-1.0916882646607862,0.8336857199770947,0.9252976987406618,-1.092438569073228,0.8482300174110278,-1.0916992761751572,1.7998417897626866,-1.0916542297203071,0.8480039662385223,-1.0916909726899615,1.0589054068469996,1.7998445380830852,-1.0919429411429158,-2.2126925804834303,0.9650059386259707,-1.8256210864229234,-1.5550203920671424,-1.0916513950624513,1.0588977447139618,-1.0956330599531126,-2.221236249497221,-1.0916529863491093,-1.3168549752351772,-1.1420799879648211,1.1757002802276724,2.13787462782575,-0.9748655875673347,-2.1992634938015194,-1.3168721878944463,1.9314657783951417,-0.9748643357483439,0.7454631556388974,-1.0917574831443908,-1.0917652607934918,0.8481989120361174,-2.0351503797868618,1.7998278047396383,-2.1855100767548303,0.8331761529777019,1.8506440169075984,-0.9748615938854788,-1.316852196516161,0.8598453907045546,-1.0916995836463879,-2.1760426624887117,0.8336993913462402,1.1647272687619665,-1.0916761539332405,0.8337061698581676,-1.3216234008694434,1.516902596194083,1.0588848376069644,0.8481131814303468,-0.9748893455295716,-2.1949668554833237,-1.0917449182193992,-2.2949302701972627,1.1754926971175388,0.8059939854224312,0.8336897554681705,0.38303229306258435,1.5386056491835043,-1.0916616716355405,-0.9748672476704989,1.175702485758829,0.8335885641575957,0.8334279164971309,1.5136020936647137,1.1756315385176228,-1.0916529856747876,1.5168220596397595,1.0580734070884874,1.0588821025582467,1.0588826741189687,1.5890559502629238,-0.9748712444586177,0.9648698110339078,-1.3823932481120416,1.1756774485137726,1.0588696515538234,-2.343070816254664,0.8336989385706339,-1.316850825862707,1.1756983571509718,1.058894259028066,-1.8259744582213888,1.0589055605330868,-1.091724431111712,0.8482763836061762,-1.3168503883570473,0.4980325501265149,-1.091665672015702,1.9073220861183229,1.5385936425772282,1.0589158431275134,1.174963777477921,-2.233367460819363,1.5386365935324116,1.5891633902780196,1.905138776188377,1.5384509168937324,1.9081486386788238,-2.035150362008615,-2.03667224790669,2.0085044857688867,1.1756893156894952,-1.0970701530992537,-0.9748637785751285,1.8293973001152517,1.1756989298548535,1.5385989727319174,1.0588893682715521,1.0588827053753511,-0.9749629829873664,1.5386056491835043,1.1756688761824334,0.8337033353312429,1.058893431859262,0.4627121158966738,1.0588931891426812,1.058551841823142,1.1756973120344294,-2.3430790739053284,1.0588287270862382,0.8414076922344808,1.0588989340889956,1.0589041910341006,1.463578733332142,0.5955019430905418,-1.0916540451727712,-2.3430785384332333,-2.1992367780436375,1.058638670739088,0.8336995671379895,1.1756965027282096,1.0588978153652582,-1.0294953025147726,1.0588930071633076,-2.217965862432162,0.8481919717223166,0.43407555918397783,-1.0916536759292472,1.5891607141943247,-0.9753962187181985,-2.036669629537796,1.058682380571365,-1.0916751543059282,-2.1992373802041127,0.8482140340415391,-2.221867505896733,1.1756492607029658,1.8897620071009915,1.1756755123212923,-1.0938244661147611,1.5385858306549278,1.1756519820286893,-0.6369566741642168,1.5385215435665367,1.1754653376967434,1.0588950501202588,1.058889626549036,1.0583569703506244,0.5819501236516916,1.1756834530892468,-1.0916657166258503,0.8472210122291264,-1.3177888026458988,1.538597364859549,1.0588543300483042,1.814560580220697,0.6229201901893239,-1.0916878615335588,1.5168056030677615,-2.2179031077710953,1.7814623333110076,-2.2500743161500347,-2.1964291226871753,-2.222656560419228,-2.3435750109413607,1.5136201322669134,-0.9749013618739472,1.5135789730648892,1.8753955700985157,-1.0916575108329307,1.7998381894342996,-1.0916922751017428,-0.9748823986290858,-0.9748674955898162,1.0344436446515612,-2.343092869668132,1.7998444858479759,-2.2084069330545635,-1.1481907887398486,-1.2487647266397484,1.467968432302687,-0.9754210488072758,1.8754087647391882,-1.3168531738496103,1.1756986684804835,0.8482177025992461,2.9501587287412963,-1.0974079651441422,1.5385776381846041,-1.0450937369614846,-1.091660651539013,-1.0916932082126503,-1.0916970317302184,-1.0916966834338637,1.058884842566539,1.058903994254369,-2.3431136909261085,1.656864721907438,1.4552429318576081,1.1756873525709586,-2.046476373174042,0.5227047197214575,-0.9749646316963542,1.0588966765736805,-1.6277067142481847,0.6600002089272058,-2.036668474902613,1.0609789902971434,0.833685412380715,1.513149013972587,1.8078083268002996,-2.19502687809529,1.0588941182887153,1.6741676675061632,-1.0916751065791463,1.5638151783250527,1.0589021503901275,0.6210235577021418,-0.9749927869699456,-1.627715861147601,-2.0352938508696066,-1.6277088027157764,1.1756332943572423,2.0083575070808752,1.5064266103237436,1.7997923569912186,-1.8258472072069196,1.0588259545731944,-2.383380559675954,-2.3430732682525615,-2.040456155639644,1.3029296144336164,1.4635780887616439,-0.9751333080137279,-2.21827220932426,1.033097911196845,1.058825451878704,-1.093102818530169,1.1756870888415727,-1.3302387913337388,-0.9748674659785185,-1.6277022269391557,1.4635266443218418,-1.6278697258727641,-1.0916731202013097,1.058604040756884,1.0589035518651304,0.9650059496566826,-0.9748678365864867,-1.3168520100893424,-1.220422025121073,1.516820811492173,-0.09527087473881167,0.4421480510305984,-2.87388837932945,-2.1533322828108648,1.0588542243992969,-2.343208445805581,-1.093878332347545,-2.194972138204167,-1.2802617962333915,1.5888004286753825,3.2523285275920757,3.0538041069731943,-1.0916707212268126,-1.0970242247817041,-0.9750632579255077,0.9301375415344042,3.5133083811564827,1.175686790157661,1.434374079585414,0.8481615247280216,1.4775491039713256,-2.0386267031348053,-2.343589941386498,-1.0916630338833333,-2.200405614217774,1.5136013382750866,1.0589035599102576,1.0589025732278943,-2.036677702058095,0.8480341310863116,-2.2335137301383274,1.4745913781457043,1.5385689878947737,1.0588917021406574,2.0539672385661643,-0.9749024484783563,1.6742031640949662,1.5385698562435328,-2.3430727525887365,0.6809314136939792,1.0565546337071068,-0.6369381729902487,-2.199244652612942,1.0041621312303877,-2.2205945123694932,0.8482195176108692,-2.233361675741099,-2.3433967274878804,-2.2297577068945182,-2.4304778371476563,1.056634935418081,0.848199533655478,-2.2397477189105324,1.9118665242307191,-2.3434336543393064,1.0588659189225118,1.639930792928682,0.3150506114351397,1.4632281362869368,0.6229903590233664,1.7505326264023238,-1.25892882456288,-2.258206582758155,-0.9748678749896059,0.8916051831148584,1.4635743261366234,1.6742663967857818,0.838969217004081,0.8706648765386868,1.4635502240703753,-1.0916645036255836,1.05835856689635,-2.2188221712346206,-2.3148762376484564,-0.7162612516218159,-2.298381872469237,0.9649921522793169,1.1756823995848564,0.8481137403189883,1.5384980313208836,-1.3173148737896612,0.9036049544968762,0.9649626797731772,-0.9748700600356165,1.0493838363126249,2.0038368833533724,-1.2589710065421966,3.1390583546866893,-2.0394494495797875,1.223697872007668,-2.233399798107563,-1.316853174850747,1.0196004742523497,0.970619111946335,-2.3468888400031345,1.6742491910722517,-2.160311147600737,-2.1602627121051783,-0.09684171496827529,-2.2489084330542393,-1.0917071353010164,1.0588982295795246,-2.0367949923867785,1.6742628054893363,-2.0366713058376202,1.463576832353756,1.027941467831127,-1.5550730682830098,0.9650054603316044,1.0588655761555161,1.4341975385574564,1.9094617389483253,1.1754745968333828,-1.316865576486117,-0.35071083872271686,-1.3169120588312697,1.1756910845756072,2.008315224878965,1.0447080963207156,-1.1454054666957478,1.1757787629874268,-1.6286405426699169,1.0587964562794596,-2.164083288338746,1.0588818891814427,0.6230164126328986,1.0589080646163371,1.1755677916715213,-1.0919469543348679,1.053468954364911,0.8394468024316727,1.1753125774329802,-1.316863059353482,1.0589162415171243,-1.1094271697886722,1.0588173149310252,-1.2253110860073855,1.1756513369462998,1.058850966020476,1.5386064111531557,-1.0916539441164224,-1.0917299192011765,0.45821162431504125,0.833677015029007,2.0084891912822678,0.845990919672362,1.058822538748927,0.5228318914653548,-1.8256427351867688,1.799847688818302,-2.227134185681161,2.0088700350145947,-2.035149979760588,2.0089031906404666,0.6228039447952091,3.0340550329860245,1.538608389933392,1.5643060783302516,1.6470487953050785,0.8805825560256538,1.0587727597548215,-2.3435162397638147,-2.0366716999713885,0.8482206605331527],\"z\":[-0.5542662626556298,-0.5545632569381737,-0.6559606497203467,0.16560135545595697,0.39728681952751965,-0.029914735228928794,-0.435055742679094,0.5522182682186093,0.39728133668318255,0.43894136736754485,-0.30586243020967,0.34981818922748315,-0.35876438762293505,-0.14060175131167632,-0.029897975538635376,-0.5344676540307667,0.08931396863146035,-0.029900533140001687,-0.5542715100138883,-0.5544391009438988,0.35281791513013,-0.0370989143950857,0.16555714429301271,-0.029935774558975652,-0.02989988973297696,-0.5542997363062717,0.006591589321367845,0.32796010560841066,-0.029906012749574152,-0.5542662836040119,-0.029898370393376075,-0.5542665640456063,-0.02989753857412426,0.08931567972301874,-0.47892548775739346,-0.1963960723231516,0.34867120447761735,0.1601061390846096,-0.03355991096150232,-0.029902094280033195,-0.029961170185495403,-0.02990191608212363,-0.1740669128306858,-0.9935031039387436,-0.029896534207333094,0.28237543712738045,-0.0301631461795795,-0.029915188941353026,-0.029908699124121287,-0.5542927945775811,-0.21734406852108668,-0.056237919755657284,-0.4350580872563166,0.16560049532970395,-0.02994218574377755,-0.02990164462356991,-0.029896338331940296,-0.5101281521991294,-0.029907177963878484,0.4461527057434424,-0.3418929405624724,-0.029897778969091324,-0.3592479736988923,-0.3361055968514247,-0.6421216237909019,-0.030820957176756085,0.16560222336182223,-0.029993376407851408,-0.6421077703913997,-0.24193269811505444,-0.5543347100738844,-0.5542882181558074,-0.5622402353051773,-0.029896706867115815,-0.0299072886552977,-0.02990393462661784,-0.21690129585588008,-0.43505287379705093,0.16543673873197418,0.04708605669317781,0.1655939015960997,-0.20476500118393492,-0.43505345050394173,0.1655995992875153,0.16560450536879315,0.16560656630253356,0.08931704816885652,-0.5545951950271139,-0.554281802613658,-0.029902741198157386,-0.43956241592690415,0.10741130361040016,-0.029933524920671608,-0.4350548672835772,0.04708256320179096,0.16559512012468985,-0.6421126494382917,-0.5543252742434086,0.3719482342061813,0.4234092390455906,-0.5398023799763786,-0.1320062781302556,-0.029916533690244614,-0.35877554117944477,-0.19640956030193388,-0.030040416095054586,-0.33610828662749415,-0.029936539068402383,-0.6421044229994287,-0.0298961114001471,-0.3361577756635474,-0.02994043217113257,-0.554266661903096,-0.6421057657366689,-0.03013034405241107,0.5135152079934859,-0.2168886099252004,0.35329693224372005,0.07221184232672967,-0.029898834000397168,-0.5542697943337145,-0.03133762260740465,0.5974448330367146,-0.02989619274322923,0.16560284184071605,-0.03162173182738672,-0.4350532851927778,-0.28349597499183493,0.08930799314304529,0.35176148005943364,0.16560160592661569,-0.5509827500192493,0.089312667615497,0.040881317248482665,-0.029908814126435587,-0.02992126951251229,-0.33612996854551597,0.3973129382565769,-0.6421108533636506,0.5155516253309413,-0.35879409440424054,-0.5344583148571279,0.08931276035402196,0.16560052031935793,-0.34290553005975766,-0.029957072700648648,0.40715463004597,-0.35876503521989284,-0.4385419370207776,-0.02991658400603231,-0.35876521645050663,0.1592875944750351,-0.44209740350941806,-0.554269498161436,-0.33611604867154726,0.08930353070703521,0.4967983307027813,-0.029899343602260736,0.37650435711150176,-0.4350629071864051,-0.348014241161958,-0.3587655652692679,-0.46791940463180837,-0.17407118316966022,-0.02989817506422976,0.0893131936490626,-0.43509087985408623,-0.3587681273453872,-0.358778004463077,-0.43938285292094026,-0.43506211433470954,-0.02989619186221944,-0.06817648867335398,-0.5545249427111962,-0.5542683254099152,-0.5542953388711542,-0.42394338899804523,0.08931653282403097,-0.21707853394875606,0.6676755164485512,-0.4350580447829051,-0.5542796920432861,0.4254731237321388,-0.35876418024832973,0.16560474466335162,-0.43505310861100416,-0.5542673588601329,0.3530201295805234,-0.5542667903023806,-0.029931546587337054,-0.33614702394196283,0.1656039490232028,-0.23076705660118965,-0.029899599823985473,-0.5625995069003858,-0.17408689352824808,-0.5542753810459725,-0.43515300358323794,0.4411559873572471,-0.17410656990047363,-0.4239390044048619,-0.5636906440689051,-0.17407586071432718,-0.5573342527767633,0.3973084905622375,0.43894184868159525,-0.46086427261606944,-0.43505842551657115,-0.030136982163556564,0.08908386589465053,-0.6671964747127814,-0.43505399386021315,-0.17407990603798237,-0.5542716340115234,-0.554267716757414,0.08929640832113797,-0.17407118316966022,-0.4350556498393196,-0.35876737689257765,-0.5542723881127812,-0.2799379172747156,-0.5542698018637966,-0.5542814362053039,-0.4350531888402848,0.42547477907758713,-0.5542712425525763,-0.345908127456341,-0.5542674511594223,-0.5542672267497757,-0.299541198730546,-0.4521663771531483,-0.029896306715060997,0.4254724249353097,0.3517657542955779,-0.5542821601160522,-0.3587647053941011,-0.4350545882174163,-0.5542698533603712,0.087295559240046,-0.5542667578852936,0.5522164931563482,-0.3361027189481865,-0.5336554098175499,-0.02989692301266783,-0.4239425007420103,0.08929035399591556,0.43894156790138567,-0.5545570249208127,-0.02992504625645761,0.351761013749535,-0.3361113439428205,0.26068354520421444,-0.4350583295436969,-0.58840627627679,-0.43508502877712874,-0.02998847727767073,-0.17409766616787628,-0.43506060311499134,0.08500812553592987,-0.17418205946285345,-0.43509534581366294,-0.5542681209063696,-0.5542671114590835,-0.5542851562024124,-0.14203241971959857,-0.43505829445737526,-0.02990219409299645,-0.3362186856711654,0.16520129820851495,-0.1740690288460472,-0.5542740418714992,-0.547201766674541,-0.14060482052077986,-0.02990108239757163,-0.0681944399128164,0.5522021993448195,-0.7310425839410617,0.40582104157071675,0.5245118912046415,0.1535360071483365,0.42494574032810245,-0.43935978804844,0.08930594284012948,-0.4393778372856087,-0.5167422454885456,-0.029901306522705402,-0.6421099955368769,-0.02989882509833894,0.08930916746342812,0.08931630860768122,-0.5576644043907981,0.42547057406100514,-0.6421099638049517,0.15111196841641877,-0.0779992802139267,0.2456536193473938,-0.05581561454182887,0.08926342929875448,-0.5167532691436761,0.16560133684685224,-0.4350564706900643,-0.3361062953147501,8.378405397262231,-0.03009309894758644,-0.1740676114078281,-0.06879450189236444,-0.029899027318762306,-0.029902335759385692,-0.02990676844302557,-0.029907059432298586,-0.5542724825932153,-0.5542674838449797,0.4254713381761323,-0.30505768667360755,-0.22998357064091232,-0.4350553553198127,0.43713229372432505,-0.24198893290588122,0.08854842345946652,-0.5542668680475821,0.28243685902790955,-0.19878505925042383,0.4389386964702711,-0.567916406832398,-0.35879053838795466,-0.43953345074736727,-0.42244933332878076,0.49678826786205876,-0.5542672412773884,-0.5177155320070517,-0.029925086130494036,-0.20731310818364182,-0.5542709907248207,-0.14321511454836316,0.08926315187725263,0.2824359204541818,0.3973073882365353,0.2824363157394815,-0.4350659647444212,-0.4609202372165316,-0.44764589545855993,-0.6421575089968362,0.35317123039362724,-0.5543003879920281,0.4186363002828274,0.4254739805556326,0.39698684955489827,-0.2211972186935408,-0.2995430436825899,0.08928521351926784,0.5520841770330887,-0.5565400917345792,-0.5542713663940878,-0.031068081859300826,-0.4350660989354695,0.17159522041184913,0.08931585484427301,0.2824359702015359,-0.2995477330319912,0.2823475734079766,-0.029909584710154983,-0.554443905421921,-0.5542670189057184,-0.21688909583454447,0.08931463905466955,0.16560076212879263,0.26929928131232694,-0.06817139399484987,0.09111075998609669,-0.26386426975952687,0.3922635963703762,0.5399458074337559,-0.5543344936895004,0.4254327062438063,-0.03280363539637337,0.49676937567877455,0.10723104990016841,-0.42401592590320997,13.528048938435537,15.568793999002205,-0.02990014832261655,-0.03418290692038676,0.08925052382939944,-0.2550707191171502,6.11456026070073,-0.43505393205626464,-0.3953305973198795,-0.3361101734190818,-0.44489471861704527,0.39712683427015977,0.4254349077612533,-0.02989751364800365,0.2147840737965854,-0.4393631540766575,-0.554266548933562,-0.5542666779825306,0.43892304744682453,-0.33618297732590025,0.4411453833646783,-0.2546299068597718,-0.17407296912399556,-0.5542695129134023,-0.50112799760014,0.08930685065964221,-0.5177451881502527,-0.17406988105004062,0.4254707372446725,-0.1389390320539357,-0.5547442754102224,0.0850056593134086,0.35176457264756017,0.08060156231885642,0.3769952461163052,-0.3361119084491492,0.4411563500891416,0.42546416157263717,0.47776065636206316,0.4107917442388954,-0.5572320378728723,-0.33610379304629173,0.44104306476715305,-0.5569100219096922,0.4253043354666106,-0.5542737134005288,-0.31629869649451897,-0.39158260047926224,-0.2995509877320643,-0.14061585959367554,-0.3378133184669931,0.16726526522604435,0.3729438432263241,0.0893156245262658,-0.3571139520701001,-0.29954037683617446,-0.5177051335583343,-0.33641780330612137,-0.4169480625881489,-0.29955789920556175,-0.029896812602159546,-0.5542864900598412,0.5521858833988704,0.4278364753248664,0.12903294208927288,0.4472295573707637,-0.21689377619579114,-0.4350621812275045,-0.336135081563303,-0.17407184403483203,0.16499602485834322,-0.27802141403413555,-0.21689060417124278,0.08931554328054742,-0.5548922111765551,-0.4192877336460736,0.1672633607631913,14.95425222007041,0.4376492417499061,-0.17716677158004154,0.44115316299886276,0.16560133768326687,-0.20870911548968699,-0.22156868363053767,0.424816030249252,-0.5177140447982794,0.3655467505784878,0.36554436805920354,0.13273325474970032,0.3100846939006061,-0.02990786113883364,-0.5542706761153008,0.4389291328425885,-0.517708752047112,0.43893634902356016,-0.2995388335198805,-0.5640540665206913,0.07220818208262066,-0.21688806731911844,-0.5542734270308394,-0.39539284871432406,-0.5572367074635358,-0.4350649460085213,0.16559120098682434,-0.11773375548368625,0.1655804592087256,-0.43505990335829087,-0.4611232587212438,-0.5590895867285552,-0.031751242891608765,-0.4351188547598991,0.2813231360395503,-0.5542709762762402,0.36541149561919267,-0.5542728772694807,-0.1405998426781697,-0.5542688823752794,-0.4351809424822447,-0.030126991172620455,-0.5547299808657934,-0.3636468782173777,-0.4352060668091328,0.1655995852702728,-0.5542828642900101,-0.03888087520902561,-0.5543837416560993,0.327953251691306,-0.4351115470775775,-0.5542974494919684,-0.17406657613900237,-0.02989748072924043,-0.02991838099854608,-0.29032734892181117,-0.3587859061657821,-0.4608681399909203,-0.3390087473801679,-0.5543404366135244,-0.24193318473363226,0.35331368427743604,-0.6421036883318724,0.26227946919099077,-0.4611100893718685,0.3973089899740454,-0.46113778972342145,-0.14088901633190057,15.422504594218024,-0.1740680549367214,-0.993426793718822,0.10818951209627907,-0.26420424486385846,-0.554275013347614,0.4251825491181857,0.43894139090105033,-0.33610094598088164],\"type\":\"scatter3d\"}],                        {\"template\":{\"data\":{\"histogram2dcontour\":[{\"type\":\"histogram2dcontour\",\"colorbar\":{\"outlinewidth\":0,\"ticks\":\"\"},\"colorscale\":[[0.0,\"#0d0887\"],[0.1111111111111111,\"#46039f\"],[0.2222222222222222,\"#7201a8\"],[0.3333333333333333,\"#9c179e\"],[0.4444444444444444,\"#bd3786\"],[0.5555555555555556,\"#d8576b\"],[0.6666666666666666,\"#ed7953\"],[0.7777777777777778,\"#fb9f3a\"],[0.8888888888888888,\"#fdca26\"],[1.0,\"#f0f921\"]]}],\"choropleth\":[{\"type\":\"choropleth\",\"colorbar\":{\"outlinewidth\":0,\"ticks\":\"\"}}],\"histogram2d\":[{\"type\":\"histogram2d\",\"colorbar\":{\"outlinewidth\":0,\"ticks\":\"\"},\"colorscale\":[[0.0,\"#0d0887\"],[0.1111111111111111,\"#46039f\"],[0.2222222222222222,\"#7201a8\"],[0.3333333333333333,\"#9c179e\"],[0.4444444444444444,\"#bd3786\"],[0.5555555555555556,\"#d8576b\"],[0.6666666666666666,\"#ed7953\"],[0.7777777777777778,\"#fb9f3a\"],[0.8888888888888888,\"#fdca26\"],[1.0,\"#f0f921\"]]}],\"heatmap\":[{\"type\":\"heatmap\",\"colorbar\":{\"outlinewidth\":0,\"ticks\":\"\"},\"colorscale\":[[0.0,\"#0d0887\"],[0.1111111111111111,\"#46039f\"],[0.2222222222222222,\"#7201a8\"],[0.3333333333333333,\"#9c179e\"],[0.4444444444444444,\"#bd3786\"],[0.5555555555555556,\"#d8576b\"],[0.6666666666666666,\"#ed7953\"],[0.7777777777777778,\"#fb9f3a\"],[0.8888888888888888,\"#fdca26\"],[1.0,\"#f0f921\"]]}],\"heatmapgl\":[{\"type\":\"heatmapgl\",\"colorbar\":{\"outlinewidth\":0,\"ticks\":\"\"},\"colorscale\":[[0.0,\"#0d0887\"],[0.1111111111111111,\"#46039f\"],[0.2222222222222222,\"#7201a8\"],[0.3333333333333333,\"#9c179e\"],[0.4444444444444444,\"#bd3786\"],[0.5555555555555556,\"#d8576b\"],[0.6666666666666666,\"#ed7953\"],[0.7777777777777778,\"#fb9f3a\"],[0.8888888888888888,\"#fdca26\"],[1.0,\"#f0f921\"]]}],\"contourcarpet\":[{\"type\":\"contourcarpet\",\"colorbar\":{\"outlinewidth\":0,\"ticks\":\"\"}}],\"contour\":[{\"type\":\"contour\",\"colorbar\":{\"outlinewidth\":0,\"ticks\":\"\"},\"colorscale\":[[0.0,\"#0d0887\"],[0.1111111111111111,\"#46039f\"],[0.2222222222222222,\"#7201a8\"],[0.3333333333333333,\"#9c179e\"],[0.4444444444444444,\"#bd3786\"],[0.5555555555555556,\"#d8576b\"],[0.6666666666666666,\"#ed7953\"],[0.7777777777777778,\"#fb9f3a\"],[0.8888888888888888,\"#fdca26\"],[1.0,\"#f0f921\"]]}],\"surface\":[{\"type\":\"surface\",\"colorbar\":{\"outlinewidth\":0,\"ticks\":\"\"},\"colorscale\":[[0.0,\"#0d0887\"],[0.1111111111111111,\"#46039f\"],[0.2222222222222222,\"#7201a8\"],[0.3333333333333333,\"#9c179e\"],[0.4444444444444444,\"#bd3786\"],[0.5555555555555556,\"#d8576b\"],[0.6666666666666666,\"#ed7953\"],[0.7777777777777778,\"#fb9f3a\"],[0.8888888888888888,\"#fdca26\"],[1.0,\"#f0f921\"]]}],\"mesh3d\":[{\"type\":\"mesh3d\",\"colorbar\":{\"outlinewidth\":0,\"ticks\":\"\"}}],\"scatter\":[{\"fillpattern\":{\"fillmode\":\"overlay\",\"size\":10,\"solidity\":0.2},\"type\":\"scatter\"}],\"parcoords\":[{\"type\":\"parcoords\",\"line\":{\"colorbar\":{\"outlinewidth\":0,\"ticks\":\"\"}}}],\"scatterpolargl\":[{\"type\":\"scatterpolargl\",\"marker\":{\"colorbar\":{\"outlinewidth\":0,\"ticks\":\"\"}}}],\"bar\":[{\"error_x\":{\"color\":\"#2a3f5f\"},\"error_y\":{\"color\":\"#2a3f5f\"},\"marker\":{\"line\":{\"color\":\"#E5ECF6\",\"width\":0.5},\"pattern\":{\"fillmode\":\"overlay\",\"size\":10,\"solidity\":0.2}},\"type\":\"bar\"}],\"scattergeo\":[{\"type\":\"scattergeo\",\"marker\":{\"colorbar\":{\"outlinewidth\":0,\"ticks\":\"\"}}}],\"scatterpolar\":[{\"type\":\"scatterpolar\",\"marker\":{\"colorbar\":{\"outlinewidth\":0,\"ticks\":\"\"}}}],\"histogram\":[{\"marker\":{\"pattern\":{\"fillmode\":\"overlay\",\"size\":10,\"solidity\":0.2}},\"type\":\"histogram\"}],\"scattergl\":[{\"type\":\"scattergl\",\"marker\":{\"colorbar\":{\"outlinewidth\":0,\"ticks\":\"\"}}}],\"scatter3d\":[{\"type\":\"scatter3d\",\"line\":{\"colorbar\":{\"outlinewidth\":0,\"ticks\":\"\"}},\"marker\":{\"colorbar\":{\"outlinewidth\":0,\"ticks\":\"\"}}}],\"scattermapbox\":[{\"type\":\"scattermapbox\",\"marker\":{\"colorbar\":{\"outlinewidth\":0,\"ticks\":\"\"}}}],\"scatterternary\":[{\"type\":\"scatterternary\",\"marker\":{\"colorbar\":{\"outlinewidth\":0,\"ticks\":\"\"}}}],\"scattercarpet\":[{\"type\":\"scattercarpet\",\"marker\":{\"colorbar\":{\"outlinewidth\":0,\"ticks\":\"\"}}}],\"carpet\":[{\"aaxis\":{\"endlinecolor\":\"#2a3f5f\",\"gridcolor\":\"white\",\"linecolor\":\"white\",\"minorgridcolor\":\"white\",\"startlinecolor\":\"#2a3f5f\"},\"baxis\":{\"endlinecolor\":\"#2a3f5f\",\"gridcolor\":\"white\",\"linecolor\":\"white\",\"minorgridcolor\":\"white\",\"startlinecolor\":\"#2a3f5f\"},\"type\":\"carpet\"}],\"table\":[{\"cells\":{\"fill\":{\"color\":\"#EBF0F8\"},\"line\":{\"color\":\"white\"}},\"header\":{\"fill\":{\"color\":\"#C8D4E3\"},\"line\":{\"color\":\"white\"}},\"type\":\"table\"}],\"barpolar\":[{\"marker\":{\"line\":{\"color\":\"#E5ECF6\",\"width\":0.5},\"pattern\":{\"fillmode\":\"overlay\",\"size\":10,\"solidity\":0.2}},\"type\":\"barpolar\"}],\"pie\":[{\"automargin\":true,\"type\":\"pie\"}]},\"layout\":{\"autotypenumbers\":\"strict\",\"colorway\":[\"#636efa\",\"#EF553B\",\"#00cc96\",\"#ab63fa\",\"#FFA15A\",\"#19d3f3\",\"#FF6692\",\"#B6E880\",\"#FF97FF\",\"#FECB52\"],\"font\":{\"color\":\"#2a3f5f\"},\"hovermode\":\"closest\",\"hoverlabel\":{\"align\":\"left\"},\"paper_bgcolor\":\"white\",\"plot_bgcolor\":\"#E5ECF6\",\"polar\":{\"bgcolor\":\"#E5ECF6\",\"angularaxis\":{\"gridcolor\":\"white\",\"linecolor\":\"white\",\"ticks\":\"\"},\"radialaxis\":{\"gridcolor\":\"white\",\"linecolor\":\"white\",\"ticks\":\"\"}},\"ternary\":{\"bgcolor\":\"#E5ECF6\",\"aaxis\":{\"gridcolor\":\"white\",\"linecolor\":\"white\",\"ticks\":\"\"},\"baxis\":{\"gridcolor\":\"white\",\"linecolor\":\"white\",\"ticks\":\"\"},\"caxis\":{\"gridcolor\":\"white\",\"linecolor\":\"white\",\"ticks\":\"\"}},\"coloraxis\":{\"colorbar\":{\"outlinewidth\":0,\"ticks\":\"\"}},\"colorscale\":{\"sequential\":[[0.0,\"#0d0887\"],[0.1111111111111111,\"#46039f\"],[0.2222222222222222,\"#7201a8\"],[0.3333333333333333,\"#9c179e\"],[0.4444444444444444,\"#bd3786\"],[0.5555555555555556,\"#d8576b\"],[0.6666666666666666,\"#ed7953\"],[0.7777777777777778,\"#fb9f3a\"],[0.8888888888888888,\"#fdca26\"],[1.0,\"#f0f921\"]],\"sequentialminus\":[[0.0,\"#0d0887\"],[0.1111111111111111,\"#46039f\"],[0.2222222222222222,\"#7201a8\"],[0.3333333333333333,\"#9c179e\"],[0.4444444444444444,\"#bd3786\"],[0.5555555555555556,\"#d8576b\"],[0.6666666666666666,\"#ed7953\"],[0.7777777777777778,\"#fb9f3a\"],[0.8888888888888888,\"#fdca26\"],[1.0,\"#f0f921\"]],\"diverging\":[[0,\"#8e0152\"],[0.1,\"#c51b7d\"],[0.2,\"#de77ae\"],[0.3,\"#f1b6da\"],[0.4,\"#fde0ef\"],[0.5,\"#f7f7f7\"],[0.6,\"#e6f5d0\"],[0.7,\"#b8e186\"],[0.8,\"#7fbc41\"],[0.9,\"#4d9221\"],[1,\"#276419\"]]},\"xaxis\":{\"gridcolor\":\"white\",\"linecolor\":\"white\",\"ticks\":\"\",\"title\":{\"standoff\":15},\"zerolinecolor\":\"white\",\"automargin\":true,\"zerolinewidth\":2},\"yaxis\":{\"gridcolor\":\"white\",\"linecolor\":\"white\",\"ticks\":\"\",\"title\":{\"standoff\":15},\"zerolinecolor\":\"white\",\"automargin\":true,\"zerolinewidth\":2},\"scene\":{\"xaxis\":{\"backgroundcolor\":\"#E5ECF6\",\"gridcolor\":\"white\",\"linecolor\":\"white\",\"showbackground\":true,\"ticks\":\"\",\"zerolinecolor\":\"white\",\"gridwidth\":2},\"yaxis\":{\"backgroundcolor\":\"#E5ECF6\",\"gridcolor\":\"white\",\"linecolor\":\"white\",\"showbackground\":true,\"ticks\":\"\",\"zerolinecolor\":\"white\",\"gridwidth\":2},\"zaxis\":{\"backgroundcolor\":\"#E5ECF6\",\"gridcolor\":\"white\",\"linecolor\":\"white\",\"showbackground\":true,\"ticks\":\"\",\"zerolinecolor\":\"white\",\"gridwidth\":2}},\"shapedefaults\":{\"line\":{\"color\":\"#2a3f5f\"}},\"annotationdefaults\":{\"arrowcolor\":\"#2a3f5f\",\"arrowhead\":0,\"arrowwidth\":1},\"geo\":{\"bgcolor\":\"white\",\"landcolor\":\"#E5ECF6\",\"subunitcolor\":\"white\",\"showland\":true,\"showlakes\":true,\"lakecolor\":\"white\"},\"title\":{\"x\":0.05},\"mapbox\":{\"style\":\"light\"}}},\"scene\":{\"domain\":{\"x\":[0.0,1.0],\"y\":[0.0,1.0]},\"xaxis\":{\"title\":{\"text\":\"PC 1\"}},\"yaxis\":{\"title\":{\"text\":\"PC 2\"}},\"zaxis\":{\"title\":{\"text\":\"PC 3\"}}},\"coloraxis\":{\"colorbar\":{\"title\":{\"text\":\"Class\"}},\"colorscale\":[[0.0,\"#0d0887\"],[0.1111111111111111,\"#46039f\"],[0.2222222222222222,\"#7201a8\"],[0.3333333333333333,\"#9c179e\"],[0.4444444444444444,\"#bd3786\"],[0.5555555555555556,\"#d8576b\"],[0.6666666666666666,\"#ed7953\"],[0.7777777777777778,\"#fb9f3a\"],[0.8888888888888888,\"#fdca26\"],[1.0,\"#f0f921\"]]},\"legend\":{\"tracegroupgap\":0,\"x\":0,\"y\":1},\"margin\":{\"t\":60},\"width\":800},                        {\"responsive\": true}                    ).then(function(){\n",
       "                            \n",
       "var gd = document.getElementById('3c8d0016-ed74-4d17-b8c8-91eafa35abf4');\n",
       "var x = new MutationObserver(function (mutations, observer) {{\n",
       "        var display = window.getComputedStyle(gd).display;\n",
       "        if (!display || display === 'none') {{\n",
       "            console.log([gd, 'removed!']);\n",
       "            Plotly.purge(gd);\n",
       "            observer.disconnect();\n",
       "        }}\n",
       "}});\n",
       "\n",
       "// Listen for the removal of the full notebook cells\n",
       "var notebookContainer = gd.closest('#notebook-container');\n",
       "if (notebookContainer) {{\n",
       "    x.observe(notebookContainer, {childList: true});\n",
       "}}\n",
       "\n",
       "// Listen for the clearing of the current output cell\n",
       "var outputEl = gd.closest('.output');\n",
       "if (outputEl) {{\n",
       "    x.observe(outputEl, {childList: true});\n",
       "}}\n",
       "\n",
       "                        })                };                });            </script>        </div>"
      ]
     },
     "metadata": {},
     "output_type": "display_data"
    }
   ],
   "source": [
    "# Creating a 3D-Scatter with the PCA data and the clusters\n",
    "fig = px.scatter_3d(\n",
    "    clustered_df,\n",
    "    x = \"PC 1\",\n",
    "    y = \"PC 2\",\n",
    "    z = \"PC 3\",\n",
    "    color=\"Class\",\n",
    "    hover_name=\"CoinName\",\n",
    "    hover_data=[\"Algorithm\"],\n",
    "    width=800,\n",
    ")\n",
    "fig.update_layout(legend=dict(x=0, y=1))\n",
    "fig.show()"
   ]
  },
  {
   "cell_type": "code",
   "execution_count": 45,
   "metadata": {},
   "outputs": [
    {
     "data": {},
     "metadata": {},
     "output_type": "display_data"
    },
    {
     "data": {
      "application/vnd.holoviews_exec.v0+json": "",
      "text/html": [
       "<div id='1220'>\n",
       "  <div class=\"bk-root\" id=\"1b9d7e73-f133-43ac-8131-0281a2bbc9c1\" data-root-id=\"1220\"></div>\n",
       "</div>\n",
       "<script type=\"application/javascript\">(function(root) {\n",
       "  function embed_document(root) {\n",
       "    var docs_json = {\"adc7f34a-18e9-44a9-a249-0589f0fcfea7\":{\"defs\":[{\"extends\":null,\"module\":null,\"name\":\"ReactiveHTML1\",\"overrides\":[],\"properties\":[]},{\"extends\":null,\"module\":null,\"name\":\"FlexBox1\",\"overrides\":[],\"properties\":[{\"default\":\"flex-start\",\"kind\":null,\"name\":\"align_content\"},{\"default\":\"flex-start\",\"kind\":null,\"name\":\"align_items\"},{\"default\":\"row\",\"kind\":null,\"name\":\"flex_direction\"},{\"default\":\"wrap\",\"kind\":null,\"name\":\"flex_wrap\"},{\"default\":\"flex-start\",\"kind\":null,\"name\":\"justify_content\"}]},{\"extends\":null,\"module\":null,\"name\":\"GridStack1\",\"overrides\":[],\"properties\":[{\"default\":\"warn\",\"kind\":null,\"name\":\"mode\"},{\"default\":null,\"kind\":null,\"name\":\"ncols\"},{\"default\":null,\"kind\":null,\"name\":\"nrows\"},{\"default\":true,\"kind\":null,\"name\":\"allow_resize\"},{\"default\":true,\"kind\":null,\"name\":\"allow_drag\"},{\"default\":[],\"kind\":null,\"name\":\"state\"}]},{\"extends\":null,\"module\":null,\"name\":\"click1\",\"overrides\":[],\"properties\":[{\"default\":\"\",\"kind\":null,\"name\":\"terminal_output\"},{\"default\":\"\",\"kind\":null,\"name\":\"debug_name\"},{\"default\":0,\"kind\":null,\"name\":\"clears\"}]},{\"extends\":null,\"module\":null,\"name\":\"NotificationAreaBase1\",\"overrides\":[],\"properties\":[{\"default\":\"bottom-right\",\"kind\":null,\"name\":\"position\"},{\"default\":0,\"kind\":null,\"name\":\"_clear\"}]},{\"extends\":null,\"module\":null,\"name\":\"NotificationArea1\",\"overrides\":[],\"properties\":[{\"default\":[],\"kind\":null,\"name\":\"notifications\"},{\"default\":\"bottom-right\",\"kind\":null,\"name\":\"position\"},{\"default\":0,\"kind\":null,\"name\":\"_clear\"},{\"default\":[{\"background\":\"#ffc107\",\"icon\":{\"className\":\"fas fa-exclamation-triangle\",\"color\":\"white\",\"tagName\":\"i\"},\"type\":\"warning\"},{\"background\":\"#007bff\",\"icon\":{\"className\":\"fas fa-info-circle\",\"color\":\"white\",\"tagName\":\"i\"},\"type\":\"info\"}],\"kind\":null,\"name\":\"types\"}]},{\"extends\":null,\"module\":null,\"name\":\"Notification\",\"overrides\":[],\"properties\":[{\"default\":null,\"kind\":null,\"name\":\"background\"},{\"default\":3000,\"kind\":null,\"name\":\"duration\"},{\"default\":null,\"kind\":null,\"name\":\"icon\"},{\"default\":\"\",\"kind\":null,\"name\":\"message\"},{\"default\":null,\"kind\":null,\"name\":\"notification_type\"},{\"default\":false,\"kind\":null,\"name\":\"_destroyed\"}]},{\"extends\":null,\"module\":null,\"name\":\"TemplateActions1\",\"overrides\":[],\"properties\":[{\"default\":0,\"kind\":null,\"name\":\"open_modal\"},{\"default\":0,\"kind\":null,\"name\":\"close_modal\"}]},{\"extends\":null,\"module\":null,\"name\":\"MaterialTemplateActions1\",\"overrides\":[],\"properties\":[{\"default\":0,\"kind\":null,\"name\":\"open_modal\"},{\"default\":0,\"kind\":null,\"name\":\"close_modal\"}]}],\"roots\":{\"references\":[{\"attributes\":{\"editor\":{\"id\":\"1230\"},\"field\":\"Algorithm\",\"formatter\":{\"id\":\"1229\"},\"title\":\"Algorithm\"},\"id\":\"1231\",\"type\":\"TableColumn\"},{\"attributes\":{},\"id\":\"1224\",\"type\":\"StringFormatter\"},{\"attributes\":{\"margin\":[5,5,5,5],\"name\":\"HSpacer01045\",\"sizing_mode\":\"stretch_width\"},\"id\":\"1221\",\"type\":\"Spacer\"},{\"attributes\":{},\"id\":\"1250\",\"type\":\"IntEditor\"},{\"attributes\":{},\"id\":\"1257\",\"type\":\"UnionRenderers\"},{\"attributes\":{},\"id\":\"1223\",\"type\":\"Selection\"},{\"attributes\":{\"editor\":{\"id\":\"1250\"},\"field\":\"Class\",\"formatter\":{\"id\":\"1249\"},\"title\":\"Class\"},\"id\":\"1251\",\"type\":\"TableColumn\"},{\"attributes\":{\"margin\":[5,5,5,5],\"name\":\"HSpacer01046\",\"sizing_mode\":\"stretch_width\"},\"id\":\"1259\",\"type\":\"Spacer\"},{\"attributes\":{},\"id\":\"1234\",\"type\":\"StringFormatter\"},{\"attributes\":{\"columns\":[{\"id\":\"1226\"},{\"id\":\"1231\"},{\"id\":\"1236\"},{\"id\":\"1241\"},{\"id\":\"1246\"},{\"id\":\"1251\"}],\"height\":300,\"reorderable\":false,\"source\":{\"id\":\"1222\"},\"view\":{\"id\":\"1256\"},\"width\":700},\"id\":\"1254\",\"type\":\"DataTable\"},{\"attributes\":{\"editor\":{\"id\":\"1225\"},\"field\":\"CoinName\",\"formatter\":{\"id\":\"1224\"},\"title\":\"CoinName\"},\"id\":\"1226\",\"type\":\"TableColumn\"},{\"attributes\":{\"data\":{\"Algorithm\":[\"Scrypt\",\"Scrypt\",\"X13\",\"SHA-256\",\"Ethash\",\"Scrypt\",\"X11\",\"CryptoNight-V7\",\"Ethash\",\"Equihash\",\"SHA-512\",\"Multiple\",\"SHA-256\",\"SHA-256\",\"Scrypt\",\"X15\",\"X11\",\"Scrypt\",\"Scrypt\",\"Scrypt\",\"Multiple\",\"Scrypt\",\"SHA-256\",\"Scrypt\",\"Scrypt\",\"Scrypt\",\"Quark\",\"Groestl\",\"Scrypt\",\"Scrypt\",\"Scrypt\",\"Scrypt\",\"Scrypt\",\"X11\",\"Scrypt\",\"Groestl\",\"Multiple\",\"SHA-256\",\"Scrypt\",\"Scrypt\",\"Scrypt\",\"Scrypt\",\"PoS\",\"Scrypt\",\"Scrypt\",\"NeoScrypt\",\"Scrypt\",\"Scrypt\",\"Scrypt\",\"Scrypt\",\"X11\",\"Scrypt\",\"X11\",\"SHA-256\",\"Scrypt\",\"Scrypt\",\"Scrypt\",\"SHA3\",\"Scrypt\",\"HybridScryptHash256\",\"Scrypt\",\"Scrypt\",\"SHA-256\",\"Scrypt\",\"X13\",\"Scrypt\",\"SHA-256\",\"Scrypt\",\"X13\",\"NeoScrypt\",\"Scrypt\",\"Scrypt\",\"Scrypt\",\"Scrypt\",\"Scrypt\",\"Scrypt\",\"X11\",\"X11\",\"SHA-256\",\"Multiple\",\"SHA-256\",\"PHI1612\",\"X11\",\"SHA-256\",\"SHA-256\",\"SHA-256\",\"X11\",\"Scrypt\",\"Scrypt\",\"Scrypt\",\"Scrypt\",\"Lyra2REv2\",\"Scrypt\",\"X11\",\"Multiple\",\"SHA-256\",\"X13\",\"Scrypt\",\"CryptoNight\",\"CryptoNight\",\"Shabal256\",\"Counterparty\",\"Scrypt\",\"SHA-256\",\"Groestl\",\"Scrypt\",\"Scrypt\",\"Scrypt\",\"X13\",\"Scrypt\",\"Scrypt\",\"Scrypt\",\"Scrypt\",\"X13\",\"Scrypt\",\"Stanford Folding\",\"X11\",\"Multiple\",\"QuBit\",\"Scrypt\",\"Scrypt\",\"Scrypt\",\"M7 POW\",\"Scrypt\",\"SHA-256\",\"Scrypt\",\"X11\",\"SHA3\",\"X11\",\"Lyra2RE\",\"SHA-256\",\"QUAIT\",\"X11\",\"X11\",\"Scrypt\",\"Scrypt\",\"Scrypt\",\"Ethash\",\"X13\",\"Blake2b\",\"SHA-256\",\"X15\",\"X11\",\"SHA-256\",\"BLAKE256\",\"Scrypt\",\"1GB AES Pattern Search\",\"SHA-256\",\"X11\",\"Scrypt\",\"SHA-256\",\"SHA-256\",\"NIST5\",\"Scrypt\",\"Scrypt\",\"X11\",\"Dagger\",\"Scrypt\",\"X11GOST\",\"X11\",\"Scrypt\",\"SHA-256\",\"Scrypt\",\"PoS\",\"Scrypt\",\"X11\",\"X11\",\"SHA-256\",\"SHA-256\",\"NIST5\",\"X11\",\"Scrypt\",\"POS 3.0\",\"Scrypt\",\"Scrypt\",\"Scrypt\",\"X13\",\"X11\",\"X11\",\"Equihash\",\"X11\",\"Scrypt\",\"CryptoNight\",\"SHA-256\",\"SHA-256\",\"X11\",\"Scrypt\",\"Multiple\",\"Scrypt\",\"Scrypt\",\"Scrypt\",\"SHA-256\",\"Scrypt\",\"Scrypt\",\"SHA-256D\",\"PoS\",\"Scrypt\",\"X11\",\"Lyra2Z\",\"PoS\",\"X13\",\"X14\",\"PoS\",\"SHA-256D\",\"Ethash\",\"Equihash\",\"DPoS\",\"X11\",\"Scrypt\",\"X11\",\"X13\",\"X11\",\"PoS\",\"Scrypt\",\"Scrypt\",\"X11\",\"PoS\",\"X11\",\"SHA-256\",\"Scrypt\",\"X11\",\"Scrypt\",\"Scrypt\",\"X11\",\"CryptoNight\",\"Scrypt\",\"Scrypt\",\"Scrypt\",\"Scrypt\",\"Quark\",\"QuBit\",\"Scrypt\",\"CryptoNight\",\"Lyra2RE\",\"Scrypt\",\"SHA-256\",\"X11\",\"Scrypt\",\"X11\",\"Scrypt\",\"CryptoNight-V7\",\"Scrypt\",\"Scrypt\",\"Scrypt\",\"X13\",\"X11\",\"Equihash\",\"Scrypt\",\"Scrypt\",\"Lyra2RE\",\"Scrypt\",\"Dagger-Hashimoto\",\"X11\",\"Blake2S\",\"X11\",\"Scrypt\",\"PoS\",\"X11\",\"NIST5\",\"PoS\",\"X11\",\"Scrypt\",\"Scrypt\",\"Scrypt\",\"SHA-256\",\"X11\",\"Scrypt\",\"Scrypt\",\"SHA-256\",\"PoS\",\"Scrypt\",\"X15\",\"SHA-256\",\"Scrypt\",\"POS 3.0\",\"CryptoNight-V7\",\"536\",\"Argon2d\",\"Blake2b\",\"Cloverhash\",\"CryptoNight\",\"NIST5\",\"X11\",\"NIST5\",\"Skein\",\"Scrypt\",\"X13\",\"Scrypt\",\"X11\",\"X11\",\"Scrypt\",\"CryptoNight\",\"X13\",\"Time Travel\",\"Scrypt\",\"Keccak\",\"SkunkHash v2 Raptor\",\"X11\",\"Skein\",\"SHA-256\",\"X11\",\"Scrypt\",\"VeChainThor Authority\",\"Scrypt\",\"PoS\",\"Scrypt\",\"Scrypt\",\"Scrypt\",\"Scrypt\",\"Scrypt\",\"Scrypt\",\"Scrypt\",\"CryptoNight\",\"SHA-512\",\"Ouroboros\",\"X11\",\"Equihash\",\"NeoScrypt\",\"X11\",\"Scrypt\",\"NeoScrypt\",\"Lyra2REv2\",\"Equihash\",\"Scrypt\",\"SHA-256\",\"NIST5\",\"PHI1612\",\"Dagger\",\"Scrypt\",\"Quark\",\"Scrypt\",\"POS 2.0\",\"Scrypt\",\"SHA-256\",\"X11\",\"NeoScrypt\",\"Ethash\",\"NeoScrypt\",\"X11\",\"DPoS\",\"NIST5\",\"X13\",\"Multiple\",\"Scrypt\",\"CryptoNight\",\"CryptoNight\",\"Ethash\",\"NIST5\",\"Quark\",\"X11\",\"CryptoNight-V7\",\"Scrypt\",\"Scrypt\",\"Scrypt\",\"X11\",\"BLAKE256\",\"X11\",\"NeoScrypt\",\"Quark\",\"NeoScrypt\",\"Scrypt\",\"Scrypt\",\"Scrypt\",\"X11\",\"X11\",\"SHA-256\",\"C11\",\"POS 3.0\",\"Ethash\",\"Scrypt\",\"CryptoNight\",\"SkunkHash\",\"Scrypt\",\"CryptoNight\",\"Scrypt\",\"Dagger\",\"Lyra2REv2\",\"X13\",\"Proof-of-BibleHash\",\"SHA-256 + Hive\",\"Scrypt\",\"Scrypt\",\"X11\",\"C11\",\"Proof-of-Authority\",\"X11\",\"XEVAN\",\"Scrypt\",\"VBFT\",\"Ethash\",\"CryptoNight\",\"Scrypt\",\"IMesh\",\"NIST5\",\"Scrypt\",\"Scrypt\",\"Equihash\",\"Scrypt\",\"Lyra2Z\",\"Green Protocol\",\"PoS\",\"Scrypt\",\"Semux BFT consensus\",\"X11\",\"Quark\",\"PoS\",\"CryptoNight\",\"X16R\",\"Scrypt\",\"NIST5\",\"Lyra2RE\",\"XEVAN\",\"Tribus\",\"Scrypt\",\"Lyra2Z\",\"CryptoNight\",\"CryptoNight Heavy\",\"CryptoNight\",\"Scrypt\",\"Scrypt\",\"Jump Consistent Hash\",\"SHA-256D\",\"CryptoNight\",\"Scrypt\",\"X15\",\"Scrypt\",\"Quark\",\"SHA-256\",\"DPoS\",\"X16R\",\"HMQ1725\",\"X11\",\"X16R\",\"Quark\",\"Quark\",\"Scrypt\",\"Lyra2REv2\",\"Quark\",\"Scrypt\",\"Scrypt\",\"CryptoNight-V7\",\"Cryptonight-GPU\",\"XEVAN\",\"CryptoNight Heavy\",\"X11\",\"X11\",\"Scrypt\",\"PoS\",\"SHA-256\",\"Keccak\",\"X11\",\"X11\",\"Scrypt\",\"SHA-512\",\"X16R\",\"ECC 256K1\",\"Equihash\",\"XEVAN\",\"Lyra2Z\",\"SHA-256\",\"XEVAN\",\"X11\",\"CryptoNight\",\"Quark\",\"Blake\",\"Blake\",\"Equihash\",\"Exosis\",\"Scrypt\",\"Scrypt\",\"Equihash\",\"Quark\",\"Equihash\",\"Quark\",\"Scrypt\",\"QuBit\",\"X11\",\"Scrypt\",\"XEVAN\",\"SHA-256D\",\"X11\",\"SHA-256\",\"X13\",\"SHA-256\",\"X11\",\"DPoS\",\"Scrypt\",\"Scrypt\",\"X11\",\"NeoScrypt\",\"Scrypt\",\"Blake\",\"Scrypt\",\"SHA-256\",\"Scrypt\",\"X11\",\"Scrypt\",\"Scrypt\",\"SHA-256\",\"X11\",\"SHA-256\",\"Scrypt\",\"Scrypt\",\"Scrypt\",\"Groestl\",\"X11\",\"Scrypt\",\"PoS\",\"Scrypt\",\"Scrypt\",\"X11\",\"SHA-256\",\"DPoS\",\"Scrypt\",\"Scrypt\",\"NeoScrypt\",\"Multiple\",\"X13\",\"Equihash+Scrypt\",\"DPoS\",\"Ethash\",\"DPoS\",\"SHA-256\",\"Leased POS\",\"PoS\",\"TRC10\",\"PoS\",\"SHA-256\",\"Scrypt\",\"CryptoNight\",\"Equihash\",\"Scrypt\"],\"Class\":{\"__ndarray__\":\"AwAAAAMAAAADAAAAAAAAAAAAAAAAAAAAAwAAAAAAAAAAAAAAAAAAAAMAAAAAAAAAAwAAAAMAAAAAAAAAAwAAAAAAAAAAAAAAAwAAAAMAAAAAAAAAAAAAAAAAAAAAAAAAAAAAAAMAAAAAAAAAAAAAAAAAAAADAAAAAAAAAAMAAAAAAAAAAAAAAAMAAAADAAAAAAAAAAAAAAAAAAAAAAAAAAAAAAAAAAAAAwAAAAMAAAAAAAAAAAAAAAAAAAAAAAAAAAAAAAMAAAADAAAAAAAAAAMAAAAAAAAAAAAAAAAAAAAAAAAAAwAAAAAAAAAAAAAAAwAAAAAAAAADAAAAAwAAAAMAAAAAAAAAAAAAAAAAAAADAAAAAwAAAAMAAAADAAAAAwAAAAAAAAAAAAAAAAAAAAMAAAADAAAAAAAAAAMAAAAAAAAAAwAAAAMAAAAAAAAAAAAAAAAAAAAAAAAAAwAAAAMAAAAAAAAAAwAAAAAAAAAAAAAAAwAAAAMAAAAAAAAAAwAAAAMAAAAAAAAAAAAAAAMAAAADAAAAAAAAAAMAAAADAAAAAAAAAAMAAAAAAAAAAwAAAAAAAAADAAAAAAAAAAMAAAADAAAAAAAAAAAAAAADAAAAAAAAAAAAAAAAAAAAAwAAAAAAAAAAAAAAAAAAAAAAAAAAAAAAAwAAAAMAAAAAAAAAAAAAAAAAAAADAAAAAAAAAAMAAAAAAAAAAAAAAAMAAAAAAAAAAwAAAAAAAAADAAAAAwAAAAAAAAAAAAAAAwAAAAAAAAAAAAAAAwAAAAMAAAAAAAAAAwAAAAAAAAADAAAAAwAAAAMAAAAAAAAAAAAAAAAAAAAAAAAAAwAAAAMAAAADAAAAAwAAAAMAAAAAAAAAAAAAAAMAAAADAAAAAwAAAAMAAAADAAAAAAAAAAMAAAADAAAAAwAAAAMAAAADAAAAAAAAAAMAAAAAAAAAAwAAAAMAAAAAAAAAAwAAAAAAAAADAAAAAwAAAAAAAAADAAAAAAAAAAMAAAAAAAAAAwAAAAAAAAADAAAAAwAAAAMAAAADAAAAAAAAAAMAAAADAAAAAwAAAAMAAAADAAAAAAAAAAAAAAADAAAAAwAAAAAAAAAAAAAAAwAAAAMAAAADAAAAAwAAAAMAAAAAAAAAAwAAAAMAAAADAAAAAwAAAAMAAAADAAAAAwAAAAMAAAAAAAAAAwAAAAMAAAADAAAAAwAAAAMAAAADAAAAAAAAAAAAAAAAAAAAAwAAAAMAAAADAAAAAwAAAAAAAAADAAAAAAAAAAMAAAADAAAAAAAAAAMAAAAAAAAAAAAAAAMAAAAAAAAAAAAAAAMAAAAAAAAAAwAAAAMAAAADAAAAAAAAAAMAAAADAAAAAAAAAAMAAAADAAAAAwAAAAMAAAADAAAAAwAAAAMAAAAAAAAAAwAAAAAAAAADAAAAAwAAAAMAAAADAAAAAAAAAAMAAAAAAAAAAwAAAAAAAAAAAAAAAAAAAAAAAAADAAAAAAAAAAMAAAADAAAAAAAAAAMAAAAAAAAAAAAAAAAAAAADAAAAAAAAAAMAAAAAAAAAAAAAAAAAAAADAAAAAAAAAAMAAAAAAAAAAwAAAAMAAAACAAAAAAAAAAMAAAAAAAAAAAAAAAAAAAAAAAAAAAAAAAMAAAADAAAAAAAAAAMAAAADAAAAAwAAAAAAAAADAAAAAAAAAAMAAAAAAAAAAwAAAAAAAAADAAAAAwAAAAMAAAADAAAAAAAAAAMAAAADAAAAAAAAAAMAAAADAAAAAwAAAAAAAAAAAAAAAAAAAAAAAAADAAAAAwAAAAMAAAADAAAAAAAAAAMAAAAAAAAAAAAAAAAAAAADAAAAAwAAAAAAAAAAAAAAAwAAAAMAAAAAAAAAAwAAAAAAAAAAAAAAAAAAAAMAAAAAAAAAAAAAAAMAAAADAAAAAwAAAAAAAAAAAAAAAAAAAAMAAAADAAAAAwAAAAAAAAAAAAAAAwAAAAAAAAAAAAAAAAAAAAAAAAADAAAAAgAAAAIAAAAAAAAAAAAAAAAAAAADAAAAAgAAAAMAAAADAAAAAwAAAAMAAAAAAAAAAAAAAAAAAAAAAAAAAwAAAAMAAAADAAAAAAAAAAMAAAAAAAAAAwAAAAMAAAADAAAAAwAAAAAAAAADAAAAAwAAAAAAAAADAAAAAwAAAAAAAAAAAAAAAwAAAAAAAAADAAAAAAAAAAAAAAAAAAAAAAAAAAMAAAADAAAAAAAAAAMAAAAAAAAAAwAAAAMAAAADAAAAAwAAAAMAAAADAAAAAAAAAAAAAAAAAAAAAwAAAAMAAAADAAAAAwAAAAMAAAADAAAAAAAAAAMAAAAAAAAAAAAAAAAAAAAAAAAAAwAAAAMAAAADAAAAAwAAAAAAAAADAAAAAwAAAAAAAAADAAAAAwAAAAAAAAACAAAAAAAAAAMAAAAAAAAAAAAAAAMAAAADAAAAAAAAAAMAAAAAAAAAAAAAAAMAAAAAAAAAAAAAAAMAAAAAAAAAAwAAAAAAAAADAAAAAwAAAAAAAAADAAAAAwAAAAMAAAADAAAAAwAAAAAAAAAAAAAAAAAAAAMAAAADAAAAAwAAAAAAAAADAAAAAAAAAAMAAAAAAAAAAwAAAAMAAAADAAAAAwAAAAAAAAADAAAAAwAAAAMAAAAAAAAAAwAAAAAAAAADAAAAAAAAAAMAAAADAAAAAwAAAAAAAAAAAAAAAwAAAAMAAAADAAAAAwAAAAMAAAADAAAAAAAAAAMAAAAAAAAAAwAAAAAAAAADAAAAAwAAAAIAAAADAAAAAQAAAAMAAAADAAAAAwAAAAAAAAAAAAAAAwAAAA==\",\"dtype\":\"int32\",\"order\":\"little\",\"shape\":[532]},\"CoinName\":[\"42 Coin\",\"404Coin\",\"EliteCoin\",\"Bitcoin\",\"Ethereum\",\"Litecoin\",\"Dash\",\"Monero\",\"Ethereum Classic\",\"ZCash\",\"Bitshares\",\"DigiByte\",\"BitcoinDark\",\"PayCoin\",\"ProsperCoin\",\"KoboCoin\",\"Spreadcoin\",\"Argentum\",\"Aurora Coin\",\"BlueCoin\",\"MyriadCoin\",\"MoonCoin\",\"ZetaCoin\",\"SexCoin\",\"Quatloo\",\"EnergyCoin\",\"QuarkCoin\",\"Riecoin\",\"Digitalcoin \",\"BitBar\",\"Catcoin\",\"CryptoBullion\",\"CannaCoin\",\"CryptCoin\",\"CasinoCoin\",\"Diamond\",\"Verge\",\"DevCoin\",\"EarthCoin\",\"E-Gulden\",\"Einsteinium\",\"Emerald\",\"Exclusive Coin\",\"FlutterCoin\",\"Franko\",\"FeatherCoin\",\"GrandCoin\",\"GlobalCoin\",\"GoldCoin\",\"HoboNickels\",\"HyperStake\",\"Infinite Coin\",\"IOCoin\",\"IXcoin\",\"KrugerCoin\",\"LuckyCoin\",\"Litebar \",\"MaxCoin\",\"MegaCoin\",\"MediterraneanCoin\",\"MintCoin\",\"MinCoin\",\"MazaCoin\",\"Nautilus Coin\",\"NavCoin\",\"NobleCoin\",\"Namecoin\",\"NyanCoin\",\"OpalCoin\",\"Orbitcoin\",\"PotCoin\",\"PhoenixCoin\",\"Reddcoin\",\"RonPaulCoin\",\"StableCoin\",\"SmartCoin\",\"SuperCoin\",\"SyncCoin\",\"SysCoin\",\"TeslaCoin\",\"TigerCoin\",\"TittieCoin\",\"TorCoin\",\"TerraCoin\",\"UnbreakableCoin\",\"Unobtanium\",\"UroCoin\",\"UnitaryStatus Dollar\",\"UltraCoin\",\"ViaCoin\",\"VeriCoin\",\"Vertcoin\",\"WorldCoin\",\"X11 Coin\",\"Crypti\",\"JouleCoin\",\"StealthCoin\",\"ZCC Coin\",\"ByteCoin\",\"DigitalNote \",\"BurstCoin\",\"StorjCoin\",\"MonaCoin\",\"Neutron\",\"FairCoin\",\"Gulden\",\"RubyCoin\",\"PesetaCoin\",\"Kore\",\"Wild Beast Coin\",\"Dnotes\",\"Flo\",\"8BIT Coin\",\"Sativa Coin\",\"ArtByte\",\"Folding Coin\",\"Ucoin\",\"Unitus\",\"CypherPunkCoin\",\"OmniCron\",\"Vtorrent\",\"GreenCoin\",\"Cryptonite\",\"MasterCoin\",\"SoonCoin\",\"1Credit\",\"IslaCoin\",\"Nexus\",\"MarsCoin \",\"Crypto\",\"Anarchists Prime\",\"Droidz\",\"BowsCoin\",\"Squall Coin\",\"Song Coin\",\"BitZeny\",\"Diggits\",\"Expanse\",\"Paycon\",\"Siacoin\",\"Emercoin\",\"EverGreenCoin\",\"MindCoin\",\"I0coin\",\"Decred\",\"Revolution VR\",\"HOdlcoin\",\"EDRCoin\",\"Hitcoin\",\"Gamecredits\",\"DubaiCoin\",\"CarpeDiemCoin\",\"PWR Coin\",\"BillaryCoin\",\"GPU Coin\",\"Adzcoin\",\"SoilCoin\",\"YoCoin\",\"SibCoin\",\"EuropeCoin\",\"ZeitCoin\",\"SwingCoin\",\"SafeExchangeCoin\",\"Nebuchadnezzar\",\"Francs\",\"BolivarCoin\",\"Ratecoin\",\"Revenu\",\"Clockcoin\",\"VIP Tokens\",\"BitSend\",\"Omni\",\"Let it Ride\",\"PutinCoin\",\"iBankCoin\",\"Frankywillcoin\",\"MudraCoin\",\"PizzaCoin\",\"Lutetium Coin\",\"Komodo\",\"GoldBlocks\",\"CarterCoin\",\"Karbo\",\"BitTokens\",\"ZayedCoin\",\"MustangCoin\",\"ZoneCoin\",\"Circuits of Value\",\"RootCoin\",\"DopeCoin\",\"BitCurrency\",\"DollarCoin\",\"Swiscoin\",\"Shilling\",\"BuzzCoin\",\"Opair\",\"PesoBit\",\"Halloween Coin\",\"ZCoin\",\"CoffeeCoin\",\"RoyalCoin\",\"GanjaCoin V2\",\"TeamUP\",\"LanaCoin\",\"Elementrem\",\"ZClassic\",\"ARK\",\"InsaneCoin\",\"KiloCoin\",\"ArtexCoin\",\"EmberCoin\",\"XenixCoin\",\"FreeCoin\",\"PLNCoin\",\"AquariusCoin\",\"Kurrent\",\"Creatio\",\"Eternity\",\"Eurocoin\",\"BitcoinFast\",\"Stakenet\",\"BitConnect Coin\",\"MoneyCoin\",\"Enigma\",\"Cannabis Industry Coin\",\"Russiacoin\",\"PandaCoin\",\"GameUnits\",\"GAKHcoin\",\"Allsafe\",\"LiteCreed\",\"OsmiumCoin\",\"Bikercoins\",\"HexxCoin\",\"Klingon Empire Darsek\",\"Internet of People\",\"KushCoin\",\"Printerium\",\"PacCoin\",\"Impeach\",\"Citadel\",\"Zilbercoin\",\"FirstCoin\",\"BeaverCoin\",\"FindCoin\",\"VaultCoin\",\"Zero\",\"OpenChat\",\"Canada eCoin\",\"Zoin\",\"RenosCoin\",\"DubaiCoin\",\"VirtacoinPlus\",\"TajCoin\",\"Impact\",\"EB3coin\",\"Atmos\",\"HappyCoin\",\"Coinonat\",\"MacronCoin\",\"Condensate\",\"Independent Money System\",\"ArgusCoin\",\"LomoCoin\",\"ProCurrency\",\"GoldReserve\",\"BenjiRolls\",\"GrowthCoin\",\"ILCoin\",\"Phreak\",\"Degas Coin\",\"HTML5 Coin\",\"Ultimate Secure Cash\",\"EquiTrader\",\"QTUM\",\"Quantum Resistant Ledger\",\"Espers\",\"Dynamic\",\"Nano\",\"ChanCoin\",\"Dinastycoin\",\"Denarius\",\"DigitalPrice\",\"Virta Unique Coin\",\"Bitcoin Planet\",\"Unify\",\"BritCoin\",\"SocialCoin\",\"ArcticCoin\",\"DAS\",\"Linda\",\"LeviarCoin\",\"DeepOnion\",\"Bitcore\",\"gCn Coin\",\"SmartCash\",\"Signatum\",\"Onix\",\"Cream\",\"Bitcoin Cash\",\"Monoeci\",\"Draftcoin\",\"Vechain\",\"Sojourn Coin\",\"Stakecoin\",\"NewYorkCoin\",\"FrazCoin\",\"Kronecoin\",\"AdCoin\",\"Linx\",\"CoinonatX\",\"Ethereum Dark\",\"Sumokoin\",\"Obsidian\",\"Cardano\",\"Regalcoin\",\"BitcoinZ\",\"TrezarCoin\",\"Elements\",\"TerraNovaCoin\",\"VIVO Coin\",\"Rupee\",\"Bitcoin Gold\",\"WomenCoin\",\"Theresa May Coin\",\"NamoCoin\",\"LUXCoin\",\"Pirl\",\"Xios\",\"Bitcloud 2.0\",\"eBoost\",\"KekCoin\",\"BlackholeCoin\",\"Infinity Economics\",\"Pura\",\"Innova\",\"Ellaism\",\"GoByte\",\"Magnet\",\"Lamden Tau\",\"Electra\",\"Bitcoin Diamond\",\"SHIELD\",\"Cash & Back Coin\",\"UltraNote\",\"BitCoal\",\"DaxxCoin\",\"Bulwark\",\"Kalkulus\",\"AC3\",\"Lethean\",\"GermanCoin\",\"LiteCoin Ultra\",\"PopularCoin\",\"PhantomX\",\"Photon\",\"Sucre\",\"SparksPay\",\"Digiwage\",\"GunCoin\",\"IrishCoin\",\"Trollcoin\",\"Litecoin Plus\",\"Monkey Project\",\"Pioneer Coin\",\"UnitedBitcoin\",\"Interzone\",\"TokenPay\",\"1717 Masonic Commemorative Token\",\"My Big Coin\",\"TurtleCoin\",\"MUNcoin\",\"Unified Society USDEX\",\"Niobio Cash\",\"ShareChain\",\"Travelflex\",\"KREDS\",\"Tokyo Coin\",\"BiblePay\",\"LitecoinCash\",\"BitFlip\",\"LottoCoin\",\"Crypto Improvement Fund\",\"Stipend\",\"Poa Network\",\"Pushi\",\"Ellerium\",\"Velox\",\"Ontology\",\"Callisto Network\",\"BitTube\",\"Poseidon\",\"Aidos Kuneen\",\"Bitspace\",\"Briacoin\",\"Ignition\",\"Bitrolium\",\"MedicCoin\",\"Alpenschillling\",\"Bitcoin Green\",\"Deviant Coin\",\"Abjcoin\",\"Semux\",\"FuturoCoin\",\"Carebit\",\"Zealium\",\"Monero Classic\",\"Proton\",\"iDealCash\",\"Jumpcoin\",\"Infinex\",\"Bitcoin Incognito\",\"KEYCO\",\"HollyWoodCoin\",\"GINcoin\",\"PlatinCoin\",\"Loki\",\"Newton Coin\",\"Swisscoin\",\"Xt3ch\",\"MassGrid\",\"TheVig\",\"PluraCoin\",\"EmaratCoin\",\"Dekado\",\"Lynx\",\"Poseidon Quark\",\"BitcoinWSpectrum\",\"Muse\",\"Motion\",\"PlusOneCoin\",\"Axe\",\"Trivechain\",\"Dystem\",\"Giant\",\"Peony Coin\",\"Absolute Coin\",\"Vitae\",\"HexCoin\",\"TPCash\",\"Webchain\",\"Ryo\",\"Urals Coin\",\"Qwertycoin\",\"ARENON\",\"EUNO\",\"MMOCoin\",\"Ketan\",\"Project Pai\",\"XDNA\",\"PAXEX\",\"Azart\",\"ThunderStake\",\"Kcash\",\"Xchange\",\"Acute Angle Cloud\",\"CrypticCoin\",\"Bettex coin\",\"Actinium\",\"Bitcoin SV\",\"BitMoney\",\"Junson Ming Chan Coin\",\"FREDEnergy\",\"HerbCoin\",\"Universal Molecule\",\"Lithium\",\"PirateCash\",\"Exosis\",\"Block-Logic\",\"Oduwa\",\"Beam\",\"Galilel\",\"Bithereum\",\"Crypto Sports\",\"Credit\",\"SLICE\",\"Dash Platinum\",\"Nasdacoin\",\"Beetle Coin\",\"Titan Coin\",\"Award\",\"BLAST\",\"Bitcoin Rhodium\",\"GlobalToken\",\"Insane Coin\",\"ALAX\",\"LiteDoge\",\"SolarCoin\",\"TruckCoin\",\"UFO Coin\",\"OrangeCoin\",\"BlakeCoin\",\"BitstarCoin\",\"NeosCoin\",\"HyperCoin\",\"PinkCoin\",\"Crypto Escudo\",\"AudioCoin\",\"IncaKoin\",\"Piggy Coin\",\"Crown Coin\",\"Genstake\",\"SmileyCoin\",\"XiaoMiCoin\",\"Groestlcoin\",\"CapriCoin\",\" ClubCoin\",\"Radium\",\"Bata\",\"Pakcoin\",\"Creditbit \",\"OKCash\",\"Lisk\",\"HiCoin\",\"WhiteCoin\",\"FriendshipCoin\",\"JoinCoin\",\"Triangles Coin\",\"Vollar\",\"EOS\",\"Reality Clash\",\"Oxycoin\",\"TigerCash\",\"Waves\",\"Particl\",\"BitTorrent\",\"Nxt\",\"ZEPHYR\",\"Gapcoin\",\"Beldex\",\"Horizen\",\"BitcoinPlus\"],\"ProofType\":[\"PoW/PoS\",\"PoW/PoS\",\"PoW/PoS\",\"PoW\",\"PoW\",\"PoW\",\"PoW/PoS\",\"PoW\",\"PoW\",\"PoW\",\"PoS\",\"PoW\",\"PoW/PoS\",\"PoS\",\"PoW\",\"PoW/PoS\",\"PoW\",\"PoW\",\"PoW/PoS\",\"PoW/PoS\",\"PoW\",\"PoW\",\"PoW\",\"PoW\",\"PoW\",\"PoW/PoS\",\"PoW\",\"PoW\",\"PoW\",\"PoW/PoS\",\"PoW\",\"PoW/PoS\",\"PoW\",\"PoW\",\"PoC\",\"PoW/PoS\",\"PoW\",\"PoW\",\"PoW\",\"PoW\",\"PoW\",\"PoW\",\"PoS\",\"PoS/PoW/PoT\",\"PoW\",\"PoW\",\"PoW\",\"PoW\",\"PoW\",\"PoW/PoS\",\"PoS\",\"PoW\",\"PoW/PoS\",\"PoW\",\"PoW\",\"PoW\",\"PoW\",\"PoW/PoS\",\"PoW\",\"PoW\",\"PoS\",\"PoW\",\"PoW/PoS\",\"PoS\",\"PoW/PoS\",\"PoW\",\"PoW\",\"PoW\",\"PoW/PoS\",\"PoW/PoS\",\"PoW/PoS\",\"PoW/PoS\",\"PoW/PoS\",\"PoW\",\"PoW\",\"PoW\",\"PoS\",\"PoW/PoS\",\"PoW\",\"PoS\",\"PoW\",\"PoS\",\"PoW/PoS\",\"PoW\",\"PoW\",\"PoW\",\"PoW\",\"PoW/PoS\",\"PoW/PoS\",\"PoW\",\"PoST\",\"PoW\",\"PoW\",\"PoW/PoS\",\"PoS\",\"PoW\",\"PoW/PoS\",\"PoW/PoS\",\"PoW\",\"PoW\",\"PoC\",\"PoS\",\"PoW\",\"PoW/PoS\",\"PoW/PoS\",\"PoW\",\"PoS\",\"PoW\",\"PoW/PoS\",\"PoW\",\"PoS\",\"PoW\",\"PoW/PoS\",\"PoW/PoS\",\"PoW\",\"PoW\",\"PoS\",\"PoW\",\"PoW\",\"PoW\",\"PoW/PoS\",\"PoW\",\"PoW\",\"PoW\",\"PoW\",\"PoW\",\"PoW/PoS\",\"PoW/nPoS\",\"PoW\",\"PoW\",\"PoW\",\"PoW/PoS\",\"PoW\",\"PoS/PoW\",\"PoW\",\"PoW\",\"PoS\",\"PoW\",\"PoW/PoS\",\"PoW\",\"PoW/PoS\",\"PoW/PoS\",\"PoW\",\"PoW\",\"PoW/PoS\",\"PoW\",\"PoW\",\"PoW/PoS\",\"PoW/PoS\",\"PoW\",\"PoW/PoS\",\"PoW\",\"PoW/PoS\",\"PoW/PoS\",\"PoS\",\"PoW\",\"PoW\",\"PoW\",\"PoW\",\"PoW/PoS\",\"PoS\",\"PoW/PoS\",\"PoC\",\"PoS\",\"PoW\",\"PoW\",\"PoW/PoS\",\"PoW/PoS\",\"PoW/PoS\",\"PoW/PoS\",\"PoW/PoS\",\"PoW\",\"PoS\",\"PoW/PoS\",\"PoW/PoS\",\"PoW/PoS\",\"PoS\",\"PoW\",\"PoS\",\"dPoW/PoW\",\"PoW/PoS\",\"PoW/PoS\",\"PoW\",\"PoW/PoS\",\"PoW\",\"PoW/PoS\",\"PoW/PoS\",\"PoW\",\"PoW/PoS\",\"PoW\",\"PoS\",\"PoW\",\"PoW/PoW\",\"PoW\",\"PoW/PoS\",\"PoS\",\"PoW/PoS\",\"PoW/PoS\",\"PoW\",\"PoS\",\"PoS\",\"PoW/PoS\",\"PoS\",\"PoW/PoS\",\"PoW\",\"PoW\",\"DPoS\",\"PoW/PoS\",\"PoW\",\"PoW\",\"PoW/PoS\",\"PoW/PoS\",\"PoS\",\"PoW/PoS\",\"PoW/PoS\",\"PoW\",\"PoS\",\"PoW/PoS\",\"PoW/PoS\",\"PoW/PoS\",\"TPoS\",\"PoW/PoS\",\"PoW/PoS\",\"PoW/PoS\",\"PoW\",\"PoW/PoS\",\"PoS\",\"PoW/PoS\",\"PoW/PoS\",\"PoS\",\"PoW/PoS\",\"PoW\",\"PoW\",\"PoW\",\"PoW/PoS\",\"PoW/PoS\",\"PoW/PoS\",\"PoW/PoS\",\"PoW\",\"PoW/PoS\",\"PoW\",\"PoS\",\"PoW/PoS \",\"PoW\",\"PoS\",\"PoW\",\"PoW\",\"PoW/PoS\",\"PoW\",\"PoW\",\"PoS\",\"PoW\",\"PoW/PoS\",\"PoW/PoS\",\"PoW/PoS\",\"PoW\",\"PoS\",\"PoW/PoS\",\"PoW\",\"PoS\",\"PoW/PoS\",\"PoW/PoS\",\"PoW/PoS\",\"PoW/PoS\",\"PoS\",\"PoW/PoS\",\"PoW\",\"PoS\",\"PoW\",\"PoS\",\"PoW/PoS\",\"PoW/PoS\",\"PoS\",\"PoW\",\"PoS\",\"PoW\",\"PoW/PoS\",\"PoW\",\"PoW\",\"PoW\",\"PoW\",\"PoW/PoS\",\"PoW\",\"PoW/PoS\",\"PoW/PoS\",\"PoW\",\"PoW/PoS\",\"PoW\",\"PoW\",\"PoW\",\"PoW/PoS\",\"PoW\",\"PoW/PoS\",\"PoW\",\"PoW\",\"PoW\",\"PoS\",\"PoW\",\"PoW/PoS\",\"PoW\",\"PoW/PoS\",\"PoS\",\"Proof of Authority\",\"PoW\",\"PoS\",\"PoW\",\"PoW\",\"PoW\",\"PoW\",\"PoW\",\"PoW/PoS\",\"PoW/PoS\",\"PoW\",\"PoS\",\"PoS\",\"PoW/PoS\",\"PoW\",\"PoW/PoS\",\"PoW\",\"PoW/PoS\",\"PoW\",\"PoS\",\"PoW\",\"PoW/PoS\",\"PoW/PoS\",\"PoW/PoS\",\"PoW/PoS\",\"PoW\",\"PoW/PoS\",\"PoW/PoS\",\"PoW\",\"PoS\",\"PoW/PoS\",\"PoS\",\"PoW\",\"PoW\",\"PoW\",\"PoW\",\"PoW/PoS\",\"DPoS\",\"PoW/PoS\",\"PoW/PoS\",\"PoW\",\"PoW/PoS\",\"PoW\",\"PoW\",\"PoW\",\"PoS\",\"PoS\",\"PoW\",\"PoW\",\"PoW/PoS\",\"PoW/PoS\",\"PoW\",\"PoW/PoS\",\"PoW\",\"PoW\",\"PoW\",\"PoS\",\"PoW\",\"PoW\",\"PoW/PoS\",\"PoW/PoS\",\"PoS\",\"PoW\",\"PoW\",\"PoW\",\"PoS\",\"PoS\",\"PoW and PoS\",\"PoW\",\"PoW\",\"PoW/PoS\",\"PoW\",\"PoW\",\"PoW\",\"PoW\",\"PoS\",\"POBh\",\"PoW + Hive\",\"PoW\",\"PoW\",\"PoW\",\"PoW/PoS\",\"PoA\",\"PoW/PoS\",\"PoW/PoS\",\"PoS\",\"PoS\",\"PoW\",\"PoW\",\"PoW\",\"PoW\",\"PoW/PoS\",\"PoW/PoS\",\"PoW/PoS\",\"PoW\",\"PoS\",\"PoW\",\"PoS\",\"PoS\",\"PoW/PoS\",\"DPoS\",\"PoW\",\"PoW/PoS\",\"PoS\",\"PoW\",\"PoS\",\"PoW/PoS\",\"PoW\",\"PoW\",\"PoS/PoW\",\"PoW\",\"PoS\",\"PoW\",\"PoW\",\"PoW\",\"PoW\",\"PoW/PoS\",\"PoS\",\"PoW\",\"PoW/PoS\",\"PoW\",\"PoW/PoS\",\"PoS\",\"HPoW\",\"PoS\",\"PoS\",\"PoS\",\"PoW\",\"PoW\",\"PoW\",\"PoW/PoS\",\"PoS\",\"PoW/PoS\",\"PoS\",\"PoW/PoS\",\"PoS\",\"PoW\",\"PoW/PoS\",\"PoW\",\"PoW\",\"PoW\",\"PoW\",\"PoS\",\"PoW/PoS\",\"PoS\",\"PoS\",\"PoW\",\"PoW/PoS\",\"PoS\",\"PoW\",\"PoW/PoS\",\"Zero-Knowledge Proof\",\"PoW\",\"DPOS\",\"PoW\",\"PoS\",\"PoW\",\"PoW\",\"Pos\",\"PoS\",\"PoW\",\"PoW/PoS\",\"PoW\",\"PoW\",\"PoS\",\"PoW\",\"PoW\",\"PoW/PoS\",\"PoW\",\"PoW/PoS\",\"PoW\",\"PoS\",\"PoW/PoS\",\"PoW\",\"PoS\",\"PoW/PoS\",\"PoW/PoS\",\"PoW/PoS\",\"PoW/PoS\",\"PoW\",\"PoW\",\"PoW\",\"PoW/PoS\",\"DPoS\",\"PoW/PoS\",\"PoW\",\"PoW/PoS\",\"PoW\",\"PoW/PoS\",\"PoW\",\"PoW/PoS\",\"PoS\",\"PoW/PoS\",\"PoW/PoS\",\"PoW\",\"PoW/PoS\",\"PoW/PoS\",\"PoW/PoS\",\"PoW\",\"PoW/PoS\",\"PoW\",\"PoW/PoS\",\"PoW\",\"PoW/PoS\",\"PoW/PoS\",\"PoS\",\"PoW\",\"PoW\",\"Proof of Trust\",\"PoW/PoS\",\"DPoS\",\"PoS\",\"PoW/PoS\",\"PoW/PoS\",\"PoW\",\"PoW/PoS\",\"PoW\",\"DPoS\",\"PoW\",\"DPoS\",\"PoS\",\"LPoS\",\"PoS\",\"DPoS\",\"PoS/LPoS\",\"DPoS\",\"PoW/PoS\",\"PoW\",\"PoW\",\"PoS\"],\"TotalCoinSupply\":[\"42\",\"532000000\",\"314159265359\",\"21000000\",\"0\",\"84000000\",\"22000000\",\"0\",\"210000000\",\"21000000\",\"3600570502\",\"21000000000\",\"22000000\",\"12500000\",\"21000000\",\"350000000\",\"20000000\",\"64000000\",\"16768584\",\"0\",\"2000000000\",\"384000000000\",\"169795588\",\"250000000\",\"100000000\",\"0\",\"247000000\",\"84000000\",\"48166000\",\"500000\",\"21000000 \",\"1000000\",\"13140000\",\"18000000\",\"40000000000\",\"4380000\",\"16555000000\",\"21000000000\",\"13500000000\",\"21000000 \",\"299792458\",\"32000000\",\"0\",\"0\",\"11235813\",\"336000000\",\"1420609614\",\"70000000\",\"72245700\",\"120000000\",\"0\",\"90600000000\",\"22000000\",\"21000000\",\"265420800\",\"20000000\",\"1350000\",\"100000000\",\"42000000\",\"200000000\",\"0\",\"10000000\",\"2419200000\",\"16180000\",\"0\",\"15000000000\",\"21000000\",\"337000000\",\"0\",\"3770000\",\"420000000\",\"98000000\",\"0\",\"21000000\",\"250000000\",\"51200000\",\"0\",\"1000\",\"888000000\",\"100000000\",\"47011968\",\"2300000000\",\"10000000\",\"42000000\",\"80000000\",\"250000\",\"0\",\"1600000000\",\"100000000\",\"23000000\",\"0\",\"84000000\",\"265420800\",\"5500000\",\"0\",\"45000000\",\"0\",\"1000000000\",\"184467440735\",\"10000000000\",\"2158812800\",\"500000000\",\"105120000\",\"68000000\",\"0\",\"1680000000\",\"0\",\"166386000\",\"12000000\",\"2628000\",\"500000000\",\"160000000\",\"0\",\"10000000\",\"1000000000\",\"1000000000\",\"20000000\",\"0\",\"0\",\"3371337\",\"20000000\",\"10000000000\",\"1840000000\",\"619478\",\"21000000\",\"92000000000\",\"0\",\"78000000\",\"33000000\",\"65789100\",\"53760000\",\"5060000\",\"21000000\",\"0\",\"210240000\",\"250000000\",\"100000000\",\"16906397\",\"50000000\",\"0\",\"1000000000\",\"26298000\",\"16000000\",\"21000000\",\"21000000\",\"210000000\",\"81962100\",\"22000000\",\"26550000000\",\"84000000\",\"10500000\",\"21626280000 \",\"0\",\"42000000\",\"221052632\",\"84000000\",\"30000000\",\"168351300\",\"24000000\",\"384000000\",\" 99000000000\",\"40000000\",\"2147483647\",\"20000000\",\"20000000\",\"25000000\",\"75000000\",\"222725000\",\"525000000\",\"90000000\",\"139000000\",\"616448\",\"33500000\",\"2000000000\",\"44333333\",\"100000000\",\"200000000\",\"25000000\",\"657000000\",\"200000000\",\"50000000\",\"90000000\",\"10000000\",\"21000000\",\"9736000\",\"3000000\",\"21000000\",\"1200000000\",\"0\",\"200000000\",\"0\",\"10638298\",\"3100000000\",\"30000000\",\"20000000000\",\"74000000\",\"0\",\"1500000000\",\"21400000\",\"39999898\",\"2500124\",\"100000000\",\"301000000\",\"7506000000\",\"26205539\",\"21000000\",\"125000000\",\"30000000\",\"10000000000\",\"500000000\",\"850000000\",\"3853326.77707314\",\"50000000\",\"38540000 \",\"42000000\",\"228000000\",\"20000000\",\"60000000\",\"20000000\",\"33000000\",\"76500000\",\"28000000\",\"650659833\",\"5000000\",\"21000000\",\"144000000\",\"32514916898\",\"13000000\",\"3315789\",\"15000000\",\"78835200\",\"2714286\",\"25000000\",\"9999999\",\"500000000\",\"21000000\",\"9354000\",\"20000000\",\"100000000000\",\"21933333\",\"185000000\",\"55000000\",\"110000000\",\"3360000\",\"14524851.4827\",\"1000000000\",\"17000000\",\"1000000000\",\"100000000 \",\"21000000\",\"34426423\",\"2232901\",\"100000000\",\"36900000\",\"110000000\",\"4000000000\",\"110290030\",\"100000000\",\"48252000\",\"400000000\",\"500000000\",\"21212121\",\"28600000\",\"1000000000\",\"75000000000\",\"40000000\",\"35520400\",\"2000000000\",\"2500000000\",\"30000000\",\"105000000\",\"90000000000\",\"200084200\",\"72000000\",\"100000000\",\"105000000\",\"50000000000\",\"0\",\"340282367\",\"30000000\",\"2000000000\",\"10000000\",\"100000000\",\"120000000\",\"100000000\",\"19276800\",\"30000000\",\" 75000000\",\"60000000\",\"18900000\",\"50000000000\",\"54000000\",\"18898187.6216583\",\"21000000\",\"200000000000\",\"5000000000\",\"137500000\",\"1100000000\",\"100000000\",\"21000000\",\"9507271\",\"17405891.19707116\",\"86712634466\",\"10500000000\",\"61599965\",\"0\",\"20000000\",\"84000000\",\"100000000\",\"100000000\",\"48252000\",\"4200000\",\"88888888\",\"91388946\",\"45000000000\",\"27000000\",\"21000000000\",\"400000000\",\"1800000000\",\"15733333\",\"27000000\",\"24000000\",\"21000000\",\"25000000000\",\"100000000\",\"1200000000\",\"60000000\",\"156306732.71\",\"21000000\",\"200000000\",\"100000000\",\"21000000\",\"14788275.991\",\"9000000000\",\"350000000\",\"45000000\",\"280000000\",\"31800000\",\"144000000\",\"500000000\",\"30000000000\",\"210000000\",\"660000000\",\"210000000\",\"85000000000\",\"12500000\",\"10000000000\",\"27716121\",\"20000000\",\"550000000\",\"999481516\",\"50000000000\",\"150000000\",\"4999999999\",\"50000000\",\" 90000000000\",\"19800000\",\"21000000\",\"120000000\",\"500000000\",\"64000000\",\"900000000\",\"4000000\",\"21000000\",\"23000000\",\"20166000\",\"23000000\",\"25000000\",\"1618033\",\"30000000\",\"1000000000000\",\"16600000\",\"232000000\",\"336000000\",\"10000000000\",\"100000000\",\"1100000000\",\"800000000\",\"5200000000\",\"840000000\",\"40000000\",\"18406979840\",\"500000000\",\"19340594\",\"252460800\",\"25000000\",\"60000000\",\"124000000\",\"1000000000\",\"6500000000\",\"1000000000\",\"21000000\",\"25000000\",\"50000000\",\"3000000\",\"5000000\",\"70000000\",\"500000000\",\"300000000\",\"21000000\",\"88000000\",\"30000000\",\"100000000\",\"100000000\",\"200000000\",\"80000000\",\"18400000\",\"45000000\",\"5121951220\",\"21000000\",\"26280000\",\"21000000\",\"18000000\",\"26000000\",\"10500000\",\"600000518\",\"150000000\",\"184000000000\",\"10200000000\",\"44000000\",\"168000000\",\"100000000\",\"1000000000\",\"84000000\",\"90000000\",\"92000000000\",\"650000000 \",\"100262205\",\"18081806 \",\"22075700\",\"21000000\",\"21000000\",\"82546564\",\"21000000\",\"5151000\",\"16880000000\",\"52500000\",\"100000000\",\"22105263\",\"1000000000\",\"1750000000\",\"88188888\",\"210000000\",\"184470000000\",\"55000000\",\"50000000\",\"260000000\",\"210000000\",\"2100000000\",\"366000000\",\"100000000\",\"25000000\",\"18000000000\",\"1000000000\",\"100000000\",\"1000000000\",\"7600000000\",\"50000000\",\"84000000\",\"21000000\",\"70000000000\",\"0\",\"8080000000\",\"54000000\",\"105120001.44\",\"25228800\",\"105000000\",\"21000000\",\"120000000\",\"21000000\",\"262800000\",\"19035999\",\"30886000\",\"13370000\",\"74800000000\",\"100000000\",\"19700000\",\"84000000\",\"500000000\",\"5000000000\",\"420000000\",\"64000000\",\"2100000\",\"168000000\",\"30000000\",\"1000000000\",\"35000000000\",\"98100000000\",\"0\",\"4000000000\",\"200000000\",\"7000000000\",\"54256119\",\"21000000\",\"0\",\"500000000\",\"1000000000\",\"10500000000\",\"190000000\",\"1000000000\",\"42000000\",\"15000000\",\"50000000000\",\"400000000\",\"105000000\",\"208000000\",\"160000000\",\"9000000\",\"5000000\",\"182000000\",\"16504333\",\"105000000\",\"159918400\",\"10008835635\",\"300000000\",\"60168145\",\"2800000\",\"120000\",\"2100000000\",\"0\",\"24487944\",\"0\",\"1000000000\",\"100000000\",\"8634140\",\"990000000000\",\"1000000000\",\"2000000000\",\"250000000\",\"1400222610\",\"21000000\",\"1000000\"],\"TotalCoinsMined\":{\"__ndarray__\":\"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\",\"dtype\":\"float64\",\"order\":\"little\",\"shape\":[532]}},\"selected\":{\"id\":\"1223\"},\"selection_policy\":{\"id\":\"1257\"}},\"id\":\"1222\",\"type\":\"ColumnDataSource\"},{\"attributes\":{},\"id\":\"1225\",\"type\":\"StringEditor\"},{\"attributes\":{},\"id\":\"1240\",\"type\":\"StringEditor\"},{\"attributes\":{},\"id\":\"1245\",\"type\":\"NumberEditor\"},{\"attributes\":{},\"id\":\"1229\",\"type\":\"StringFormatter\"},{\"attributes\":{\"children\":[{\"id\":\"1221\"},{\"id\":\"1254\"},{\"id\":\"1259\"}],\"margin\":[0,0,0,0],\"name\":\"Row01041\",\"tags\":[\"embedded\"]},\"id\":\"1220\",\"type\":\"Row\"},{\"attributes\":{\"editor\":{\"id\":\"1245\"},\"field\":\"TotalCoinsMined\",\"formatter\":{\"id\":\"1244\"},\"title\":\"TotalCoinsMined\"},\"id\":\"1246\",\"type\":\"TableColumn\"},{\"attributes\":{},\"id\":\"1239\",\"type\":\"StringFormatter\"},{\"attributes\":{\"source\":{\"id\":\"1222\"}},\"id\":\"1256\",\"type\":\"CDSView\"},{\"attributes\":{},\"id\":\"1230\",\"type\":\"StringEditor\"},{\"attributes\":{},\"id\":\"1249\",\"type\":\"NumberFormatter\"},{\"attributes\":{\"editor\":{\"id\":\"1240\"},\"field\":\"TotalCoinSupply\",\"formatter\":{\"id\":\"1239\"},\"title\":\"TotalCoinSupply\"},\"id\":\"1241\",\"type\":\"TableColumn\"},{\"attributes\":{\"format\":\"0,0.0[00000]\"},\"id\":\"1244\",\"type\":\"NumberFormatter\"},{\"attributes\":{\"editor\":{\"id\":\"1235\"},\"field\":\"ProofType\",\"formatter\":{\"id\":\"1234\"},\"title\":\"ProofType\"},\"id\":\"1236\",\"type\":\"TableColumn\"},{\"attributes\":{},\"id\":\"1235\",\"type\":\"StringEditor\"}],\"root_ids\":[\"1220\"]},\"title\":\"Bokeh Application\",\"version\":\"2.4.3\"}};\n",
       "    var render_items = [{\"docid\":\"adc7f34a-18e9-44a9-a249-0589f0fcfea7\",\"root_ids\":[\"1220\"],\"roots\":{\"1220\":\"1b9d7e73-f133-43ac-8131-0281a2bbc9c1\"}}];\n",
       "    root.Bokeh.embed.embed_items_notebook(docs_json, render_items);\n",
       "  }\n",
       "  if (root.Bokeh !== undefined && root.Bokeh.Panel !== undefined) {\n",
       "    embed_document(root);\n",
       "  } else {\n",
       "    var attempts = 0;\n",
       "    var timer = setInterval(function(root) {\n",
       "      if (root.Bokeh !== undefined && root.Bokeh.Panel !== undefined) {\n",
       "        clearInterval(timer);\n",
       "        embed_document(root);\n",
       "      } else if (document.readyState == \"complete\") {\n",
       "        attempts++;\n",
       "        if (attempts > 200) {\n",
       "          clearInterval(timer);\n",
       "          console.log(\"Bokeh: ERROR: Unable to run BokehJS code because BokehJS library is missing\");\n",
       "        }\n",
       "      }\n",
       "    }, 25, root)\n",
       "  }\n",
       "})(window);</script>"
      ],
      "text/plain": [
       ":Table   [CoinName,Algorithm,ProofType,TotalCoinSupply,TotalCoinsMined,Class]"
      ]
     },
     "execution_count": 45,
     "metadata": {
      "application/vnd.holoviews_exec.v0+json": {
       "id": "1220"
      }
     },
     "output_type": "execute_result"
    }
   ],
   "source": [
    "# Create a table with tradable cryptocurrencies.\n",
    "clustered_df.hvplot.table(columns=['CoinName', 'Algorithm', 'ProofType', 'TotalCoinSupply','TotalCoinsMined', 'Class'])"
   ]
  },
  {
   "cell_type": "code",
   "execution_count": 47,
   "metadata": {},
   "outputs": [
    {
     "name": "stdout",
     "output_type": "stream",
     "text": [
      "There are 532 tradable cryptocurrencies\n"
     ]
    }
   ],
   "source": [
    "# Print the total number of tradable cryptocurrencies.\n",
    "print(f'There are {len(clustered_df.index)} tradable cryptocurrencies')"
   ]
  },
  {
   "cell_type": "code",
   "execution_count": 48,
   "metadata": {},
   "outputs": [
    {
     "data": {
      "text/plain": [
       "array([[4.20000000e-11, 0.00000000e+00],\n",
       "       [5.32000000e-04, 1.06585544e-03],\n",
       "       [3.14159265e-01, 2.95755135e-02],\n",
       "       ...,\n",
       "       [1.40022261e-03, 9.90135079e-04],\n",
       "       [2.10000000e-05, 7.37028150e-06],\n",
       "       [1.00000000e-06, 1.29582282e-07]])"
      ]
     },
     "execution_count": 48,
     "metadata": {},
     "output_type": "execute_result"
    }
   ],
   "source": [
    "# Scaling data to create the scatter plot with tradable cryptocurrencies.\n",
    "clustered_scaled = MinMaxScaler().fit_transform(clustered_df[['TotalCoinSupply', 'TotalCoinsMined']])\n",
    "clustered_scaled"
   ]
  },
  {
   "cell_type": "code",
   "execution_count": 53,
   "metadata": {},
   "outputs": [
    {
     "data": {
      "text/html": [
       "<div>\n",
       "<style scoped>\n",
       "    .dataframe tbody tr th:only-of-type {\n",
       "        vertical-align: middle;\n",
       "    }\n",
       "\n",
       "    .dataframe tbody tr th {\n",
       "        vertical-align: top;\n",
       "    }\n",
       "\n",
       "    .dataframe thead th {\n",
       "        text-align: right;\n",
       "    }\n",
       "</style>\n",
       "<table border=\"1\" class=\"dataframe\">\n",
       "  <thead>\n",
       "    <tr style=\"text-align: right;\">\n",
       "      <th></th>\n",
       "      <th>TotalCoinSupply</th>\n",
       "      <th>TotalCoinsMined</th>\n",
       "      <th>CoinName</th>\n",
       "      <th>Class</th>\n",
       "    </tr>\n",
       "  </thead>\n",
       "  <tbody>\n",
       "    <tr>\n",
       "      <th>42</th>\n",
       "      <td>4.200000e-11</td>\n",
       "      <td>0.000000</td>\n",
       "      <td>42 Coin</td>\n",
       "      <td>3</td>\n",
       "    </tr>\n",
       "    <tr>\n",
       "      <th>404</th>\n",
       "      <td>5.320000e-04</td>\n",
       "      <td>0.001066</td>\n",
       "      <td>404Coin</td>\n",
       "      <td>3</td>\n",
       "    </tr>\n",
       "    <tr>\n",
       "      <th>1337</th>\n",
       "      <td>3.141593e-01</td>\n",
       "      <td>0.029576</td>\n",
       "      <td>EliteCoin</td>\n",
       "      <td>3</td>\n",
       "    </tr>\n",
       "    <tr>\n",
       "      <th>BTC</th>\n",
       "      <td>2.100000e-05</td>\n",
       "      <td>0.000018</td>\n",
       "      <td>Bitcoin</td>\n",
       "      <td>0</td>\n",
       "    </tr>\n",
       "    <tr>\n",
       "      <th>ETH</th>\n",
       "      <td>0.000000e+00</td>\n",
       "      <td>0.000109</td>\n",
       "      <td>Ethereum</td>\n",
       "      <td>0</td>\n",
       "    </tr>\n",
       "    <tr>\n",
       "      <th>LTC</th>\n",
       "      <td>8.400000e-05</td>\n",
       "      <td>0.000064</td>\n",
       "      <td>Litecoin</td>\n",
       "      <td>0</td>\n",
       "    </tr>\n",
       "    <tr>\n",
       "      <th>DASH</th>\n",
       "      <td>2.200000e-05</td>\n",
       "      <td>0.000009</td>\n",
       "      <td>Dash</td>\n",
       "      <td>3</td>\n",
       "    </tr>\n",
       "    <tr>\n",
       "      <th>XMR</th>\n",
       "      <td>0.000000e+00</td>\n",
       "      <td>0.000017</td>\n",
       "      <td>Monero</td>\n",
       "      <td>0</td>\n",
       "    </tr>\n",
       "    <tr>\n",
       "      <th>ETC</th>\n",
       "      <td>2.100000e-04</td>\n",
       "      <td>0.000115</td>\n",
       "      <td>Ethereum Classic</td>\n",
       "      <td>0</td>\n",
       "    </tr>\n",
       "    <tr>\n",
       "      <th>ZEC</th>\n",
       "      <td>2.100000e-05</td>\n",
       "      <td>0.000007</td>\n",
       "      <td>ZCash</td>\n",
       "      <td>0</td>\n",
       "    </tr>\n",
       "  </tbody>\n",
       "</table>\n",
       "</div>"
      ],
      "text/plain": [
       "      TotalCoinSupply  TotalCoinsMined          CoinName  Class\n",
       "42       4.200000e-11         0.000000           42 Coin      3\n",
       "404      5.320000e-04         0.001066           404Coin      3\n",
       "1337     3.141593e-01         0.029576         EliteCoin      3\n",
       "BTC      2.100000e-05         0.000018           Bitcoin      0\n",
       "ETH      0.000000e+00         0.000109          Ethereum      0\n",
       "LTC      8.400000e-05         0.000064          Litecoin      0\n",
       "DASH     2.200000e-05         0.000009              Dash      3\n",
       "XMR      0.000000e+00         0.000017            Monero      0\n",
       "ETC      2.100000e-04         0.000115  Ethereum Classic      0\n",
       "ZEC      2.100000e-05         0.000007             ZCash      0"
      ]
     },
     "execution_count": 53,
     "metadata": {},
     "output_type": "execute_result"
    }
   ],
   "source": [
    "# Create a new DataFrame that has the scaled data with the clustered_df DataFrame index.\n",
    "plot_df = pd.DataFrame(data=clustered_scaled, columns=['TotalCoinSupply', 'TotalCoinsMined'], index=clustered_df.index)\n",
    "\n",
    "# Add the \"CoinName\" column from the clustered_df DataFrame to the new DataFrame.\n",
    "plot_df['CoinName'] = clustered_df['CoinName']\n",
    "\n",
    "# Add the \"Class\" column from the clustered_df DataFrame to the new DataFrame. \n",
    "plot_df['Class'] = clustered_df['Class']\n",
    "\n",
    "plot_df.head(10)"
   ]
  },
  {
   "cell_type": "code",
   "execution_count": 56,
   "metadata": {},
   "outputs": [
    {
     "data": {},
     "metadata": {},
     "output_type": "display_data"
    },
    {
     "data": {
      "application/vnd.holoviews_exec.v0+json": "",
      "text/html": [
       "<div id='1618'>\n",
       "  <div class=\"bk-root\" id=\"6e76cd43-88f0-42c6-86a7-c8a992e9d777\" data-root-id=\"1618\"></div>\n",
       "</div>\n",
       "<script type=\"application/javascript\">(function(root) {\n",
       "  function embed_document(root) {\n",
       "    var docs_json = {\"9612500c-da46-4b0b-aa3c-06c4767fad74\":{\"defs\":[{\"extends\":null,\"module\":null,\"name\":\"ReactiveHTML1\",\"overrides\":[],\"properties\":[]},{\"extends\":null,\"module\":null,\"name\":\"FlexBox1\",\"overrides\":[],\"properties\":[{\"default\":\"flex-start\",\"kind\":null,\"name\":\"align_content\"},{\"default\":\"flex-start\",\"kind\":null,\"name\":\"align_items\"},{\"default\":\"row\",\"kind\":null,\"name\":\"flex_direction\"},{\"default\":\"wrap\",\"kind\":null,\"name\":\"flex_wrap\"},{\"default\":\"flex-start\",\"kind\":null,\"name\":\"justify_content\"}]},{\"extends\":null,\"module\":null,\"name\":\"GridStack1\",\"overrides\":[],\"properties\":[{\"default\":\"warn\",\"kind\":null,\"name\":\"mode\"},{\"default\":null,\"kind\":null,\"name\":\"ncols\"},{\"default\":null,\"kind\":null,\"name\":\"nrows\"},{\"default\":true,\"kind\":null,\"name\":\"allow_resize\"},{\"default\":true,\"kind\":null,\"name\":\"allow_drag\"},{\"default\":[],\"kind\":null,\"name\":\"state\"}]},{\"extends\":null,\"module\":null,\"name\":\"click1\",\"overrides\":[],\"properties\":[{\"default\":\"\",\"kind\":null,\"name\":\"terminal_output\"},{\"default\":\"\",\"kind\":null,\"name\":\"debug_name\"},{\"default\":0,\"kind\":null,\"name\":\"clears\"}]},{\"extends\":null,\"module\":null,\"name\":\"NotificationAreaBase1\",\"overrides\":[],\"properties\":[{\"default\":\"bottom-right\",\"kind\":null,\"name\":\"position\"},{\"default\":0,\"kind\":null,\"name\":\"_clear\"}]},{\"extends\":null,\"module\":null,\"name\":\"NotificationArea1\",\"overrides\":[],\"properties\":[{\"default\":[],\"kind\":null,\"name\":\"notifications\"},{\"default\":\"bottom-right\",\"kind\":null,\"name\":\"position\"},{\"default\":0,\"kind\":null,\"name\":\"_clear\"},{\"default\":[{\"background\":\"#ffc107\",\"icon\":{\"className\":\"fas fa-exclamation-triangle\",\"color\":\"white\",\"tagName\":\"i\"},\"type\":\"warning\"},{\"background\":\"#007bff\",\"icon\":{\"className\":\"fas fa-info-circle\",\"color\":\"white\",\"tagName\":\"i\"},\"type\":\"info\"}],\"kind\":null,\"name\":\"types\"}]},{\"extends\":null,\"module\":null,\"name\":\"Notification\",\"overrides\":[],\"properties\":[{\"default\":null,\"kind\":null,\"name\":\"background\"},{\"default\":3000,\"kind\":null,\"name\":\"duration\"},{\"default\":null,\"kind\":null,\"name\":\"icon\"},{\"default\":\"\",\"kind\":null,\"name\":\"message\"},{\"default\":null,\"kind\":null,\"name\":\"notification_type\"},{\"default\":false,\"kind\":null,\"name\":\"_destroyed\"}]},{\"extends\":null,\"module\":null,\"name\":\"TemplateActions1\",\"overrides\":[],\"properties\":[{\"default\":0,\"kind\":null,\"name\":\"open_modal\"},{\"default\":0,\"kind\":null,\"name\":\"close_modal\"}]},{\"extends\":null,\"module\":null,\"name\":\"MaterialTemplateActions1\",\"overrides\":[],\"properties\":[{\"default\":0,\"kind\":null,\"name\":\"open_modal\"},{\"default\":0,\"kind\":null,\"name\":\"close_modal\"}]}],\"roots\":{\"references\":[{\"attributes\":{\"margin\":[5,5,5,5],\"name\":\"HSpacer01541\",\"sizing_mode\":\"stretch_width\"},\"id\":\"1771\",\"type\":\"Spacer\"},{\"attributes\":{\"tools\":[{\"id\":\"1622\"},{\"id\":\"1643\"},{\"id\":\"1644\"},{\"id\":\"1645\"},{\"id\":\"1646\"},{\"id\":\"1647\"}]},\"id\":\"1649\",\"type\":\"Toolbar\"},{\"attributes\":{\"data\":{\"Class\":[0,0,0,0,0,0,0,0,0,0,0,0,0,0,0,0,0,0,0,0,0,0,0,0,0,0,0,0,0,0,0,0,0,0,0,0,0,0,0,0,0,0,0,0,0,0,0,0,0,0,0,0,0,0,0,0,0,0,0,0,0,0,0,0,0,0,0,0,0,0,0,0,0,0,0,0,0,0,0,0,0,0,0,0,0,0,0,0,0,0,0,0,0,0,0,0,0,0,0,0,0,0,0,0,0,0,0,0,0,0,0,0,0,0,0,0,0,0,0,0,0,0,0,0,0,0,0,0,0,0,0,0,0,0,0,0,0,0,0,0,0,0,0,0,0,0,0,0,0,0,0,0,0,0,0,0,0,0,0,0,0,0,0,0,0,0,0,0,0,0,0,0,0,0,0,0,0,0,0,0,0,0,0,0,0,0,0,0,0,0,0,0,0,0,0,0,0,0,0,0,0,0,0,0,0,0,0,0,0,0,0,0,0,0,0,0,0,0,0,0,0,0,0,0,0,0,0,0,0,0,0,0,0,0,0,0,0,0],\"CoinName\":[\"Bitcoin\",\"Ethereum\",\"Litecoin\",\"Monero\",\"Ethereum Classic\",\"ZCash\",\"DigiByte\",\"ProsperCoin\",\"Spreadcoin\",\"Argentum\",\"MyriadCoin\",\"MoonCoin\",\"ZetaCoin\",\"SexCoin\",\"Quatloo\",\"QuarkCoin\",\"Riecoin\",\"Digitalcoin \",\"Catcoin\",\"CannaCoin\",\"CryptCoin\",\"Verge\",\"DevCoin\",\"EarthCoin\",\"E-Gulden\",\"Einsteinium\",\"Emerald\",\"Franko\",\"FeatherCoin\",\"GrandCoin\",\"GlobalCoin\",\"GoldCoin\",\"Infinite Coin\",\"IXcoin\",\"KrugerCoin\",\"LuckyCoin\",\"Litebar \",\"MegaCoin\",\"MediterraneanCoin\",\"MinCoin\",\"NobleCoin\",\"Namecoin\",\"NyanCoin\",\"RonPaulCoin\",\"StableCoin\",\"SmartCoin\",\"SysCoin\",\"TigerCoin\",\"TerraCoin\",\"UnbreakableCoin\",\"Unobtanium\",\"UroCoin\",\"ViaCoin\",\"Vertcoin\",\"WorldCoin\",\"JouleCoin\",\"ByteCoin\",\"DigitalNote \",\"MonaCoin\",\"Gulden\",\"PesetaCoin\",\"Wild Beast Coin\",\"Flo\",\"ArtByte\",\"Folding Coin\",\"Unitus\",\"CypherPunkCoin\",\"OmniCron\",\"GreenCoin\",\"Cryptonite\",\"MasterCoin\",\"SoonCoin\",\"1Credit\",\"MarsCoin \",\"Crypto\",\"Anarchists Prime\",\"BowsCoin\",\"Song Coin\",\"BitZeny\",\"Expanse\",\"Siacoin\",\"MindCoin\",\"I0coin\",\"Revolution VR\",\"HOdlcoin\",\"Gamecredits\",\"CarpeDiemCoin\",\"Adzcoin\",\"SoilCoin\",\"YoCoin\",\"SibCoin\",\"Francs\",\"BolivarCoin\",\"Omni\",\"PizzaCoin\",\"Komodo\",\"Karbo\",\"ZayedCoin\",\"Circuits of Value\",\"DopeCoin\",\"DollarCoin\",\"Shilling\",\"ZCoin\",\"Elementrem\",\"ZClassic\",\"KiloCoin\",\"ArtexCoin\",\"Kurrent\",\"Cannabis Industry Coin\",\"OsmiumCoin\",\"Bikercoins\",\"HexxCoin\",\"PacCoin\",\"Citadel\",\"BeaverCoin\",\"VaultCoin\",\"Zero\",\"Canada eCoin\",\"Zoin\",\"DubaiCoin\",\"EB3coin\",\"Coinonat\",\"BenjiRolls\",\"ILCoin\",\"EquiTrader\",\"Quantum Resistant Ledger\",\"Dynamic\",\"Nano\",\"ChanCoin\",\"Dinastycoin\",\"DigitalPrice\",\"Unify\",\"SocialCoin\",\"ArcticCoin\",\"DAS\",\"LeviarCoin\",\"Bitcore\",\"gCn Coin\",\"SmartCash\",\"Onix\",\"Bitcoin Cash\",\"Sojourn Coin\",\"NewYorkCoin\",\"FrazCoin\",\"Kronecoin\",\"AdCoin\",\"Linx\",\"Sumokoin\",\"BitcoinZ\",\"Elements\",\"VIVO Coin\",\"Bitcoin Gold\",\"Pirl\",\"eBoost\",\"Pura\",\"Innova\",\"Ellaism\",\"GoByte\",\"SHIELD\",\"UltraNote\",\"BitCoal\",\"DaxxCoin\",\"AC3\",\"Lethean\",\"PopularCoin\",\"Photon\",\"Sucre\",\"SparksPay\",\"GunCoin\",\"IrishCoin\",\"Pioneer Coin\",\"UnitedBitcoin\",\"Interzone\",\"TurtleCoin\",\"MUNcoin\",\"Niobio Cash\",\"ShareChain\",\"Travelflex\",\"KREDS\",\"BitFlip\",\"LottoCoin\",\"Crypto Improvement Fund\",\"Callisto Network\",\"BitTube\",\"Poseidon\",\"Aidos Kuneen\",\"Bitrolium\",\"Alpenschillling\",\"FuturoCoin\",\"Monero Classic\",\"Jumpcoin\",\"Infinex\",\"KEYCO\",\"GINcoin\",\"PlatinCoin\",\"Loki\",\"Newton Coin\",\"MassGrid\",\"PluraCoin\",\"Motion\",\"PlusOneCoin\",\"Axe\",\"HexCoin\",\"Webchain\",\"Ryo\",\"Urals Coin\",\"Qwertycoin\",\"Project Pai\",\"Azart\",\"Xchange\",\"CrypticCoin\",\"Actinium\",\"Bitcoin SV\",\"FREDEnergy\",\"Universal Molecule\",\"Lithium\",\"Exosis\",\"Block-Logic\",\"Beam\",\"Bithereum\",\"SLICE\",\"BLAST\",\"Bitcoin Rhodium\",\"GlobalToken\",\"SolarCoin\",\"UFO Coin\",\"BlakeCoin\",\"Crypto Escudo\",\"Crown Coin\",\"SmileyCoin\",\"Groestlcoin\",\"Bata\",\"Pakcoin\",\"JoinCoin\",\"Vollar\",\"Reality Clash\",\"Beldex\",\"Horizen\"],\"TotalCoinSupply\":{\"__ndarray__\":\"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\",\"dtype\":\"float64\",\"order\":\"little\",\"shape\":[238]},\"TotalCoinsMined\":{\"__ndarray__\":\"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\",\"dtype\":\"float64\",\"order\":\"little\",\"shape\":[238]}},\"selected\":{\"id\":\"1663\"},\"selection_policy\":{\"id\":\"1677\"}},\"id\":\"1662\",\"type\":\"ColumnDataSource\"},{\"attributes\":{},\"id\":\"1640\",\"type\":\"BasicTicker\"},{\"attributes\":{\"bottom_units\":\"screen\",\"coordinates\":null,\"fill_alpha\":0.5,\"fill_color\":\"lightgrey\",\"group\":null,\"left_units\":\"screen\",\"level\":\"overlay\",\"line_alpha\":1.0,\"line_color\":\"black\",\"line_dash\":[4,4],\"line_width\":2,\"right_units\":\"screen\",\"syncable\":false,\"top_units\":\"screen\"},\"id\":\"1648\",\"type\":\"BoxAnnotation\"},{\"attributes\":{},\"id\":\"1643\",\"type\":\"SaveTool\"},{\"attributes\":{},\"id\":\"1730\",\"type\":\"Selection\"},{\"attributes\":{},\"id\":\"1644\",\"type\":\"PanTool\"},{\"attributes\":{},\"id\":\"1647\",\"type\":\"ResetTool\"},{\"attributes\":{},\"id\":\"1645\",\"type\":\"WheelZoomTool\"},{\"attributes\":{\"coordinates\":null,\"data_source\":{\"id\":\"1705\"},\"glyph\":{\"id\":\"1708\"},\"group\":null,\"hover_glyph\":null,\"muted_glyph\":{\"id\":\"1710\"},\"nonselection_glyph\":{\"id\":\"1709\"},\"selection_glyph\":{\"id\":\"1728\"},\"view\":{\"id\":\"1712\"}},\"id\":\"1711\",\"type\":\"GlyphRenderer\"},{\"attributes\":{\"click_policy\":\"mute\",\"coordinates\":null,\"group\":null,\"items\":[{\"id\":\"1681\"},{\"id\":\"1703\"},{\"id\":\"1727\"},{\"id\":\"1753\"}],\"location\":[0,0],\"title\":\"Class\"},\"id\":\"1680\",\"type\":\"Legend\"},{\"attributes\":{\"coordinates\":null,\"data_source\":{\"id\":\"1662\"},\"glyph\":{\"id\":\"1665\"},\"group\":null,\"hover_glyph\":null,\"muted_glyph\":{\"id\":\"1667\"},\"nonselection_glyph\":{\"id\":\"1666\"},\"selection_glyph\":{\"id\":\"1682\"},\"view\":{\"id\":\"1669\"}},\"id\":\"1668\",\"type\":\"GlyphRenderer\"},{\"attributes\":{\"overlay\":{\"id\":\"1648\"}},\"id\":\"1646\",\"type\":\"BoxZoomTool\"},{\"attributes\":{\"label\":{\"value\":\"0\"},\"renderers\":[{\"id\":\"1668\"}]},\"id\":\"1681\",\"type\":\"LegendItem\"},{\"attributes\":{\"source\":{\"id\":\"1683\"}},\"id\":\"1690\",\"type\":\"CDSView\"},{\"attributes\":{},\"id\":\"1658\",\"type\":\"AllLabels\"},{\"attributes\":{},\"id\":\"1677\",\"type\":\"UnionRenderers\"},{\"attributes\":{\"angle\":{\"value\":0.0},\"fill_alpha\":{\"value\":1.0},\"fill_color\":{\"value\":\"#30a2da\"},\"hatch_alpha\":{\"value\":1.0},\"hatch_color\":{\"value\":\"#30a2da\"},\"hatch_scale\":{\"value\":12.0},\"hatch_weight\":{\"value\":1.0},\"line_alpha\":{\"value\":1.0},\"line_cap\":{\"value\":\"butt\"},\"line_color\":{\"value\":\"#30a2da\"},\"line_dash\":{\"value\":[]},\"line_dash_offset\":{\"value\":0},\"line_join\":{\"value\":\"bevel\"},\"line_width\":{\"value\":1},\"marker\":{\"value\":\"circle\"},\"size\":{\"value\":5.477225575051661},\"x\":{\"field\":\"TotalCoinsMined\"},\"y\":{\"field\":\"TotalCoinSupply\"}},\"id\":\"1682\",\"type\":\"Scatter\"},{\"attributes\":{\"fill_alpha\":{\"value\":0.2},\"fill_color\":{\"value\":\"#fc4f30\"},\"hatch_alpha\":{\"value\":0.2},\"hatch_color\":{\"value\":\"#fc4f30\"},\"line_alpha\":{\"value\":0.2},\"line_color\":{\"value\":\"#fc4f30\"},\"size\":{\"value\":5.477225575051661},\"x\":{\"field\":\"TotalCoinsMined\"},\"y\":{\"field\":\"TotalCoinSupply\"}},\"id\":\"1688\",\"type\":\"Scatter\"},{\"attributes\":{},\"id\":\"1660\",\"type\":\"BasicTickFormatter\"},{\"attributes\":{\"fill_alpha\":{\"value\":0.2},\"fill_color\":{\"value\":\"#30a2da\"},\"hatch_alpha\":{\"value\":0.2},\"hatch_color\":{\"value\":\"#30a2da\"},\"line_alpha\":{\"value\":0.2},\"line_color\":{\"value\":\"#30a2da\"},\"size\":{\"value\":5.477225575051661},\"x\":{\"field\":\"TotalCoinsMined\"},\"y\":{\"field\":\"TotalCoinSupply\"}},\"id\":\"1667\",\"type\":\"Scatter\"},{\"attributes\":{\"source\":{\"id\":\"1705\"}},\"id\":\"1712\",\"type\":\"CDSView\"},{\"attributes\":{\"coordinates\":null,\"data_source\":{\"id\":\"1729\"},\"glyph\":{\"id\":\"1732\"},\"group\":null,\"hover_glyph\":null,\"muted_glyph\":{\"id\":\"1734\"},\"nonselection_glyph\":{\"id\":\"1733\"},\"selection_glyph\":{\"id\":\"1754\"},\"view\":{\"id\":\"1736\"}},\"id\":\"1735\",\"type\":\"GlyphRenderer\"},{\"attributes\":{},\"id\":\"1706\",\"type\":\"Selection\"},{\"attributes\":{\"label\":{\"value\":\"1\"},\"renderers\":[{\"id\":\"1689\"}]},\"id\":\"1703\",\"type\":\"LegendItem\"},{\"attributes\":{\"data\":{\"Class\":[3,3,3,3,3,3,3,3,3,3,3,3,3,3,3,3,3,3,3,3,3,3,3,3,3,3,3,3,3,3,3,3,3,3,3,3,3,3,3,3,3,3,3,3,3,3,3,3,3,3,3,3,3,3,3,3,3,3,3,3,3,3,3,3,3,3,3,3,3,3,3,3,3,3,3,3,3,3,3,3,3,3,3,3,3,3,3,3,3,3,3,3,3,3,3,3,3,3,3,3,3,3,3,3,3,3,3,3,3,3,3,3,3,3,3,3,3,3,3,3,3,3,3,3,3,3,3,3,3,3,3,3,3,3,3,3,3,3,3,3,3,3,3,3,3,3,3,3,3,3,3,3,3,3,3,3,3,3,3,3,3,3,3,3,3,3,3,3,3,3,3,3,3,3,3,3,3,3,3,3,3,3,3,3,3,3,3,3,3,3,3,3,3,3,3,3,3,3,3,3,3,3,3,3,3,3,3,3,3,3,3,3,3,3,3,3,3,3,3,3,3,3,3,3,3,3,3,3,3,3,3,3,3,3,3,3,3,3,3,3,3,3,3,3,3,3,3,3,3,3,3,3,3,3,3,3,3,3,3,3,3,3,3,3,3,3,3,3,3,3,3,3,3,3,3,3,3,3,3,3,3,3,3,3,3,3,3],\"CoinName\":[\"42 Coin\",\"404Coin\",\"EliteCoin\",\"Dash\",\"Bitshares\",\"BitcoinDark\",\"PayCoin\",\"KoboCoin\",\"Aurora Coin\",\"BlueCoin\",\"EnergyCoin\",\"BitBar\",\"CryptoBullion\",\"CasinoCoin\",\"Diamond\",\"Exclusive Coin\",\"FlutterCoin\",\"HoboNickels\",\"HyperStake\",\"IOCoin\",\"MaxCoin\",\"MintCoin\",\"MazaCoin\",\"Nautilus Coin\",\"NavCoin\",\"OpalCoin\",\"Orbitcoin\",\"PotCoin\",\"PhoenixCoin\",\"Reddcoin\",\"SuperCoin\",\"SyncCoin\",\"TeslaCoin\",\"TittieCoin\",\"TorCoin\",\"UnitaryStatus Dollar\",\"UltraCoin\",\"VeriCoin\",\"X11 Coin\",\"Crypti\",\"StealthCoin\",\"ZCC Coin\",\"BurstCoin\",\"StorjCoin\",\"Neutron\",\"FairCoin\",\"RubyCoin\",\"Kore\",\"Dnotes\",\"8BIT Coin\",\"Sativa Coin\",\"Ucoin\",\"Vtorrent\",\"IslaCoin\",\"Nexus\",\"Droidz\",\"Squall Coin\",\"Diggits\",\"Paycon\",\"Emercoin\",\"EverGreenCoin\",\"Decred\",\"EDRCoin\",\"Hitcoin\",\"DubaiCoin\",\"PWR Coin\",\"BillaryCoin\",\"GPU Coin\",\"EuropeCoin\",\"ZeitCoin\",\"SwingCoin\",\"SafeExchangeCoin\",\"Nebuchadnezzar\",\"Ratecoin\",\"Revenu\",\"Clockcoin\",\"VIP Tokens\",\"BitSend\",\"Let it Ride\",\"PutinCoin\",\"iBankCoin\",\"Frankywillcoin\",\"MudraCoin\",\"Lutetium Coin\",\"GoldBlocks\",\"CarterCoin\",\"BitTokens\",\"MustangCoin\",\"ZoneCoin\",\"RootCoin\",\"BitCurrency\",\"Swiscoin\",\"BuzzCoin\",\"Opair\",\"PesoBit\",\"Halloween Coin\",\"CoffeeCoin\",\"RoyalCoin\",\"GanjaCoin V2\",\"TeamUP\",\"LanaCoin\",\"ARK\",\"InsaneCoin\",\"EmberCoin\",\"XenixCoin\",\"FreeCoin\",\"PLNCoin\",\"AquariusCoin\",\"Creatio\",\"Eternity\",\"Eurocoin\",\"BitcoinFast\",\"Stakenet\",\"BitConnect Coin\",\"MoneyCoin\",\"Enigma\",\"Russiacoin\",\"PandaCoin\",\"GameUnits\",\"GAKHcoin\",\"Allsafe\",\"LiteCreed\",\"Klingon Empire Darsek\",\"Internet of People\",\"KushCoin\",\"Printerium\",\"Impeach\",\"Zilbercoin\",\"FirstCoin\",\"FindCoin\",\"OpenChat\",\"RenosCoin\",\"VirtacoinPlus\",\"TajCoin\",\"Impact\",\"Atmos\",\"HappyCoin\",\"MacronCoin\",\"Condensate\",\"Independent Money System\",\"ArgusCoin\",\"LomoCoin\",\"ProCurrency\",\"GoldReserve\",\"GrowthCoin\",\"Phreak\",\"Degas Coin\",\"HTML5 Coin\",\"Ultimate Secure Cash\",\"QTUM\",\"Espers\",\"Denarius\",\"Virta Unique Coin\",\"Bitcoin Planet\",\"BritCoin\",\"Linda\",\"DeepOnion\",\"Signatum\",\"Cream\",\"Monoeci\",\"Draftcoin\",\"Stakecoin\",\"CoinonatX\",\"Ethereum Dark\",\"Obsidian\",\"Cardano\",\"Regalcoin\",\"TrezarCoin\",\"TerraNovaCoin\",\"Rupee\",\"WomenCoin\",\"Theresa May Coin\",\"NamoCoin\",\"LUXCoin\",\"Xios\",\"Bitcloud 2.0\",\"KekCoin\",\"BlackholeCoin\",\"Infinity Economics\",\"Magnet\",\"Lamden Tau\",\"Electra\",\"Bitcoin Diamond\",\"Cash & Back Coin\",\"Bulwark\",\"Kalkulus\",\"GermanCoin\",\"LiteCoin Ultra\",\"PhantomX\",\"Digiwage\",\"Trollcoin\",\"Litecoin Plus\",\"Monkey Project\",\"TokenPay\",\"1717 Masonic Commemorative Token\",\"My Big Coin\",\"Unified Society USDEX\",\"Tokyo Coin\",\"Stipend\",\"Pushi\",\"Ellerium\",\"Velox\",\"Ontology\",\"Bitspace\",\"Briacoin\",\"Ignition\",\"MedicCoin\",\"Bitcoin Green\",\"Deviant Coin\",\"Abjcoin\",\"Semux\",\"Carebit\",\"Zealium\",\"Proton\",\"iDealCash\",\"Bitcoin Incognito\",\"HollyWoodCoin\",\"Swisscoin\",\"Xt3ch\",\"TheVig\",\"EmaratCoin\",\"Dekado\",\"Lynx\",\"Poseidon Quark\",\"BitcoinWSpectrum\",\"Muse\",\"Trivechain\",\"Dystem\",\"Giant\",\"Peony Coin\",\"Absolute Coin\",\"Vitae\",\"TPCash\",\"ARENON\",\"EUNO\",\"MMOCoin\",\"Ketan\",\"XDNA\",\"PAXEX\",\"ThunderStake\",\"Kcash\",\"Bettex coin\",\"BitMoney\",\"Junson Ming Chan Coin\",\"HerbCoin\",\"PirateCash\",\"Oduwa\",\"Galilel\",\"Crypto Sports\",\"Credit\",\"Dash Platinum\",\"Nasdacoin\",\"Beetle Coin\",\"Titan Coin\",\"Award\",\"Insane Coin\",\"ALAX\",\"LiteDoge\",\"TruckCoin\",\"OrangeCoin\",\"BitstarCoin\",\"NeosCoin\",\"HyperCoin\",\"PinkCoin\",\"AudioCoin\",\"IncaKoin\",\"Piggy Coin\",\"Genstake\",\"XiaoMiCoin\",\"CapriCoin\",\" ClubCoin\",\"Radium\",\"Creditbit \",\"OKCash\",\"Lisk\",\"HiCoin\",\"WhiteCoin\",\"FriendshipCoin\",\"Triangles Coin\",\"EOS\",\"Oxycoin\",\"TigerCash\",\"Particl\",\"Nxt\",\"ZEPHYR\",\"Gapcoin\",\"BitcoinPlus\"],\"TotalCoinSupply\":{\"__ndarray__\":\"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\",\"dtype\":\"float64\",\"order\":\"little\",\"shape\":[287]},\"TotalCoinsMined\":{\"__ndarray__\":\"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\",\"dtype\":\"float64\",\"order\":\"little\",\"shape\":[287]}},\"selected\":{\"id\":\"1730\"},\"selection_policy\":{\"id\":\"1750\"}},\"id\":\"1729\",\"type\":\"ColumnDataSource\"},{\"attributes\":{\"children\":[{\"id\":\"1619\"},{\"id\":\"1626\"},{\"id\":\"1771\"}],\"margin\":[0,0,0,0],\"name\":\"Row01536\",\"tags\":[\"embedded\"]},\"id\":\"1618\",\"type\":\"Row\"},{\"attributes\":{\"fill_alpha\":{\"value\":0.1},\"fill_color\":{\"value\":\"#fc4f30\"},\"hatch_alpha\":{\"value\":0.1},\"hatch_color\":{\"value\":\"#fc4f30\"},\"line_alpha\":{\"value\":0.1},\"line_color\":{\"value\":\"#fc4f30\"},\"size\":{\"value\":5.477225575051661},\"x\":{\"field\":\"TotalCoinsMined\"},\"y\":{\"field\":\"TotalCoinSupply\"}},\"id\":\"1687\",\"type\":\"Scatter\"},{\"attributes\":{\"margin\":[5,5,5,5],\"name\":\"HSpacer01540\",\"sizing_mode\":\"stretch_width\"},\"id\":\"1619\",\"type\":\"Spacer\"},{\"attributes\":{},\"id\":\"1750\",\"type\":\"UnionRenderers\"},{\"attributes\":{\"fill_alpha\":{\"value\":0.1},\"fill_color\":{\"value\":\"#e5ae38\"},\"hatch_alpha\":{\"value\":0.1},\"hatch_color\":{\"value\":\"#e5ae38\"},\"line_alpha\":{\"value\":0.1},\"line_color\":{\"value\":\"#e5ae38\"},\"size\":{\"value\":5.477225575051661},\"x\":{\"field\":\"TotalCoinsMined\"},\"y\":{\"field\":\"TotalCoinSupply\"}},\"id\":\"1709\",\"type\":\"Scatter\"},{\"attributes\":{\"angle\":{\"value\":0.0},\"fill_alpha\":{\"value\":1.0},\"fill_color\":{\"value\":\"#fc4f30\"},\"hatch_alpha\":{\"value\":1.0},\"hatch_color\":{\"value\":\"#fc4f30\"},\"hatch_scale\":{\"value\":12.0},\"hatch_weight\":{\"value\":1.0},\"line_alpha\":{\"value\":1.0},\"line_cap\":{\"value\":\"butt\"},\"line_color\":{\"value\":\"#fc4f30\"},\"line_dash\":{\"value\":[]},\"line_dash_offset\":{\"value\":0},\"line_join\":{\"value\":\"bevel\"},\"line_width\":{\"value\":1},\"marker\":{\"value\":\"circle\"},\"size\":{\"value\":5.477225575051661},\"x\":{\"field\":\"TotalCoinsMined\"},\"y\":{\"field\":\"TotalCoinSupply\"}},\"id\":\"1704\",\"type\":\"Scatter\"},{\"attributes\":{\"source\":{\"id\":\"1729\"}},\"id\":\"1736\",\"type\":\"CDSView\"},{\"attributes\":{\"callback\":null,\"renderers\":[{\"id\":\"1668\"},{\"id\":\"1689\"},{\"id\":\"1711\"},{\"id\":\"1735\"}],\"tags\":[\"hv_created\"],\"tooltips\":[[\"Class\",\"@{Class}\"],[\"TotalCoinsMined\",\"@{TotalCoinsMined}\"],[\"TotalCoinSupply\",\"@{TotalCoinSupply}\"],[\"CoinName\",\"@{CoinName}\"]]},\"id\":\"1622\",\"type\":\"HoverTool\"},{\"attributes\":{},\"id\":\"1724\",\"type\":\"UnionRenderers\"},{\"attributes\":{\"label\":{\"value\":\"2\"},\"renderers\":[{\"id\":\"1711\"}]},\"id\":\"1727\",\"type\":\"LegendItem\"},{\"attributes\":{\"below\":[{\"id\":\"1635\"}],\"center\":[{\"id\":\"1638\"},{\"id\":\"1642\"}],\"height\":300,\"left\":[{\"id\":\"1639\"}],\"margin\":[5,5,5,5],\"min_border_bottom\":10,\"min_border_left\":10,\"min_border_right\":10,\"min_border_top\":10,\"renderers\":[{\"id\":\"1668\"},{\"id\":\"1689\"},{\"id\":\"1711\"},{\"id\":\"1735\"}],\"right\":[{\"id\":\"1680\"}],\"sizing_mode\":\"fixed\",\"title\":{\"id\":\"1627\"},\"toolbar\":{\"id\":\"1649\"},\"width\":700,\"x_range\":{\"id\":\"1620\"},\"x_scale\":{\"id\":\"1631\"},\"y_range\":{\"id\":\"1621\"},\"y_scale\":{\"id\":\"1633\"}},\"id\":\"1626\",\"subtype\":\"Figure\",\"type\":\"Plot\"},{\"attributes\":{\"fill_alpha\":{\"value\":0.1},\"fill_color\":{\"value\":\"#6d904f\"},\"hatch_alpha\":{\"value\":0.1},\"hatch_color\":{\"value\":\"#6d904f\"},\"line_alpha\":{\"value\":0.1},\"line_color\":{\"value\":\"#6d904f\"},\"size\":{\"value\":5.477225575051661},\"x\":{\"field\":\"TotalCoinsMined\"},\"y\":{\"field\":\"TotalCoinSupply\"}},\"id\":\"1733\",\"type\":\"Scatter\"},{\"attributes\":{\"source\":{\"id\":\"1662\"}},\"id\":\"1669\",\"type\":\"CDSView\"},{\"attributes\":{},\"id\":\"1661\",\"type\":\"AllLabels\"},{\"attributes\":{\"angle\":{\"value\":0.0},\"fill_alpha\":{\"value\":1.0},\"fill_color\":{\"value\":\"#e5ae38\"},\"hatch_alpha\":{\"value\":1.0},\"hatch_color\":{\"value\":\"#e5ae38\"},\"hatch_scale\":{\"value\":12.0},\"hatch_weight\":{\"value\":1.0},\"line_alpha\":{\"value\":1.0},\"line_cap\":{\"value\":\"butt\"},\"line_color\":{\"value\":\"#e5ae38\"},\"line_dash\":{\"value\":[]},\"line_dash_offset\":{\"value\":0},\"line_join\":{\"value\":\"bevel\"},\"line_width\":{\"value\":1},\"marker\":{\"value\":\"circle\"},\"size\":{\"value\":5.477225575051661},\"x\":{\"field\":\"TotalCoinsMined\"},\"y\":{\"field\":\"TotalCoinSupply\"}},\"id\":\"1728\",\"type\":\"Scatter\"},{\"attributes\":{},\"id\":\"1684\",\"type\":\"Selection\"},{\"attributes\":{\"coordinates\":null,\"data_source\":{\"id\":\"1683\"},\"glyph\":{\"id\":\"1686\"},\"group\":null,\"hover_glyph\":null,\"muted_glyph\":{\"id\":\"1688\"},\"nonselection_glyph\":{\"id\":\"1687\"},\"selection_glyph\":{\"id\":\"1704\"},\"view\":{\"id\":\"1690\"}},\"id\":\"1689\",\"type\":\"GlyphRenderer\"},{\"attributes\":{},\"id\":\"1663\",\"type\":\"Selection\"},{\"attributes\":{\"fill_alpha\":{\"value\":0.2},\"fill_color\":{\"value\":\"#e5ae38\"},\"hatch_alpha\":{\"value\":0.2},\"hatch_color\":{\"value\":\"#e5ae38\"},\"line_alpha\":{\"value\":0.2},\"line_color\":{\"value\":\"#e5ae38\"},\"size\":{\"value\":5.477225575051661},\"x\":{\"field\":\"TotalCoinsMined\"},\"y\":{\"field\":\"TotalCoinSupply\"}},\"id\":\"1710\",\"type\":\"Scatter\"},{\"attributes\":{\"coordinates\":null,\"group\":null,\"text_color\":\"black\",\"text_font_size\":\"12pt\"},\"id\":\"1627\",\"type\":\"Title\"},{\"attributes\":{},\"id\":\"1631\",\"type\":\"LinearScale\"},{\"attributes\":{\"fill_color\":{\"value\":\"#e5ae38\"},\"hatch_color\":{\"value\":\"#e5ae38\"},\"line_color\":{\"value\":\"#e5ae38\"},\"size\":{\"value\":5.477225575051661},\"x\":{\"field\":\"TotalCoinsMined\"},\"y\":{\"field\":\"TotalCoinSupply\"}},\"id\":\"1708\",\"type\":\"Scatter\"},{\"attributes\":{},\"id\":\"1636\",\"type\":\"BasicTicker\"},{\"attributes\":{},\"id\":\"1700\",\"type\":\"UnionRenderers\"},{\"attributes\":{\"axis\":{\"id\":\"1635\"},\"coordinates\":null,\"grid_line_color\":null,\"group\":null,\"ticker\":null},\"id\":\"1638\",\"type\":\"Grid\"},{\"attributes\":{},\"id\":\"1657\",\"type\":\"BasicTickFormatter\"},{\"attributes\":{},\"id\":\"1633\",\"type\":\"LinearScale\"},{\"attributes\":{\"fill_color\":{\"value\":\"#6d904f\"},\"hatch_color\":{\"value\":\"#6d904f\"},\"line_color\":{\"value\":\"#6d904f\"},\"size\":{\"value\":5.477225575051661},\"x\":{\"field\":\"TotalCoinsMined\"},\"y\":{\"field\":\"TotalCoinSupply\"}},\"id\":\"1732\",\"type\":\"Scatter\"},{\"attributes\":{\"axis_label\":\"TotalCoinSupply\",\"coordinates\":null,\"formatter\":{\"id\":\"1660\"},\"group\":null,\"major_label_policy\":{\"id\":\"1661\"},\"ticker\":{\"id\":\"1640\"}},\"id\":\"1639\",\"type\":\"LinearAxis\"},{\"attributes\":{\"fill_color\":{\"value\":\"#fc4f30\"},\"hatch_color\":{\"value\":\"#fc4f30\"},\"line_color\":{\"value\":\"#fc4f30\"},\"size\":{\"value\":5.477225575051661},\"x\":{\"field\":\"TotalCoinsMined\"},\"y\":{\"field\":\"TotalCoinSupply\"}},\"id\":\"1686\",\"type\":\"Scatter\"},{\"attributes\":{\"fill_alpha\":{\"value\":0.2},\"fill_color\":{\"value\":\"#6d904f\"},\"hatch_alpha\":{\"value\":0.2},\"hatch_color\":{\"value\":\"#6d904f\"},\"line_alpha\":{\"value\":0.2},\"line_color\":{\"value\":\"#6d904f\"},\"size\":{\"value\":5.477225575051661},\"x\":{\"field\":\"TotalCoinsMined\"},\"y\":{\"field\":\"TotalCoinSupply\"}},\"id\":\"1734\",\"type\":\"Scatter\"},{\"attributes\":{\"label\":{\"value\":\"3\"},\"renderers\":[{\"id\":\"1735\"}]},\"id\":\"1753\",\"type\":\"LegendItem\"},{\"attributes\":{\"end\":1.1,\"reset_end\":1.1,\"reset_start\":-0.1,\"start\":-0.1,\"tags\":[[[\"TotalCoinSupply\",\"TotalCoinSupply\",null]]]},\"id\":\"1621\",\"type\":\"Range1d\"},{\"attributes\":{\"axis_label\":\"TotalCoinsMined\",\"coordinates\":null,\"formatter\":{\"id\":\"1657\"},\"group\":null,\"major_label_policy\":{\"id\":\"1658\"},\"ticker\":{\"id\":\"1636\"}},\"id\":\"1635\",\"type\":\"LinearAxis\"},{\"attributes\":{\"end\":1.042857142857143,\"reset_end\":1.042857142857143,\"reset_start\":-0.04285714285714286,\"start\":-0.04285714285714286,\"tags\":[[[\"TotalCoinsMined\",\"TotalCoinsMined\",null]]]},\"id\":\"1620\",\"type\":\"Range1d\"},{\"attributes\":{\"angle\":{\"value\":0.0},\"fill_alpha\":{\"value\":1.0},\"fill_color\":{\"value\":\"#6d904f\"},\"hatch_alpha\":{\"value\":1.0},\"hatch_color\":{\"value\":\"#6d904f\"},\"hatch_scale\":{\"value\":12.0},\"hatch_weight\":{\"value\":1.0},\"line_alpha\":{\"value\":1.0},\"line_cap\":{\"value\":\"butt\"},\"line_color\":{\"value\":\"#6d904f\"},\"line_dash\":{\"value\":[]},\"line_dash_offset\":{\"value\":0},\"line_join\":{\"value\":\"bevel\"},\"line_width\":{\"value\":1},\"marker\":{\"value\":\"circle\"},\"size\":{\"value\":5.477225575051661},\"x\":{\"field\":\"TotalCoinsMined\"},\"y\":{\"field\":\"TotalCoinSupply\"}},\"id\":\"1754\",\"type\":\"Scatter\"},{\"attributes\":{\"fill_color\":{\"value\":\"#30a2da\"},\"hatch_color\":{\"value\":\"#30a2da\"},\"line_color\":{\"value\":\"#30a2da\"},\"size\":{\"value\":5.477225575051661},\"x\":{\"field\":\"TotalCoinsMined\"},\"y\":{\"field\":\"TotalCoinSupply\"}},\"id\":\"1665\",\"type\":\"Scatter\"},{\"attributes\":{\"data\":{\"Class\":[2,2,2,2,2,2],\"CoinName\":[\"Vechain\",\"BiblePay\",\"LitecoinCash\",\"Poa Network\",\"Acute Angle Cloud\",\"Waves\"],\"TotalCoinSupply\":{\"__ndarray__\":\"+nQumcwytj+U9gZfmEx1P7x5qkNuhks/hFoo4ZaLMD/8qfHSTWJQPyxDHOviNho/\",\"dtype\":\"float64\",\"order\":\"little\",\"shape\":[6]},\"TotalCoinsMined\":{\"__ndarray__\":\"zaDgBxGurD+PWA2R2lNdP5CkxfJKIUU/nBkleI8SKz96Q0MFuIxQP/tFfmC/eho/\",\"dtype\":\"float64\",\"order\":\"little\",\"shape\":[6]}},\"selected\":{\"id\":\"1706\"},\"selection_policy\":{\"id\":\"1724\"}},\"id\":\"1705\",\"type\":\"ColumnDataSource\"},{\"attributes\":{\"axis\":{\"id\":\"1639\"},\"coordinates\":null,\"dimension\":1,\"grid_line_color\":null,\"group\":null,\"ticker\":null},\"id\":\"1642\",\"type\":\"Grid\"},{\"attributes\":{\"fill_alpha\":{\"value\":0.1},\"fill_color\":{\"value\":\"#30a2da\"},\"hatch_alpha\":{\"value\":0.1},\"hatch_color\":{\"value\":\"#30a2da\"},\"line_alpha\":{\"value\":0.1},\"line_color\":{\"value\":\"#30a2da\"},\"size\":{\"value\":5.477225575051661},\"x\":{\"field\":\"TotalCoinsMined\"},\"y\":{\"field\":\"TotalCoinSupply\"}},\"id\":\"1666\",\"type\":\"Scatter\"},{\"attributes\":{\"data\":{\"Class\":[1],\"CoinName\":[\"BitTorrent\"],\"TotalCoinSupply\":{\"__ndarray__\":\"rkfhehSu7z8=\",\"dtype\":\"float64\",\"order\":\"little\",\"shape\":[1]},\"TotalCoinsMined\":{\"__ndarray__\":\"AAAAAAAA8D8=\",\"dtype\":\"float64\",\"order\":\"little\",\"shape\":[1]}},\"selected\":{\"id\":\"1684\"},\"selection_policy\":{\"id\":\"1700\"}},\"id\":\"1683\",\"type\":\"ColumnDataSource\"}],\"root_ids\":[\"1618\"]},\"title\":\"Bokeh Application\",\"version\":\"2.4.3\"}};\n",
       "    var render_items = [{\"docid\":\"9612500c-da46-4b0b-aa3c-06c4767fad74\",\"root_ids\":[\"1618\"],\"roots\":{\"1618\":\"6e76cd43-88f0-42c6-86a7-c8a992e9d777\"}}];\n",
       "    root.Bokeh.embed.embed_items_notebook(docs_json, render_items);\n",
       "  }\n",
       "  if (root.Bokeh !== undefined && root.Bokeh.Panel !== undefined) {\n",
       "    embed_document(root);\n",
       "  } else {\n",
       "    var attempts = 0;\n",
       "    var timer = setInterval(function(root) {\n",
       "      if (root.Bokeh !== undefined && root.Bokeh.Panel !== undefined) {\n",
       "        clearInterval(timer);\n",
       "        embed_document(root);\n",
       "      } else if (document.readyState == \"complete\") {\n",
       "        attempts++;\n",
       "        if (attempts > 200) {\n",
       "          clearInterval(timer);\n",
       "          console.log(\"Bokeh: ERROR: Unable to run BokehJS code because BokehJS library is missing\");\n",
       "        }\n",
       "      }\n",
       "    }, 25, root)\n",
       "  }\n",
       "})(window);</script>"
      ],
      "text/plain": [
       ":NdOverlay   [Class]\n",
       "   :Scatter   [TotalCoinsMined]   (TotalCoinSupply,CoinName)"
      ]
     },
     "execution_count": 56,
     "metadata": {
      "application/vnd.holoviews_exec.v0+json": {
       "id": "1618"
      }
     },
     "output_type": "execute_result"
    }
   ],
   "source": [
    "# Create a hvplot.scatter plot using x=\"TotalCoinsMined\" and y=\"TotalCoinSupply\".\n",
    "plot_df.hvplot.scatter(x=\"TotalCoinsMined\", y=\"TotalCoinSupply\", by=\"Class\", hover_cols=[\"CoinName\"])\n"
   ]
  },
  {
   "cell_type": "code",
   "execution_count": null,
   "metadata": {},
   "outputs": [],
   "source": []
  }
 ],
 "metadata": {
  "file_extension": ".py",
  "kernelspec": {
   "display_name": "Python 3 (ipykernel)",
   "language": "python",
   "name": "python3"
  },
  "language_info": {
   "codemirror_mode": {
    "name": "ipython",
    "version": 3
   },
   "file_extension": ".py",
   "mimetype": "text/x-python",
   "name": "python",
   "nbconvert_exporter": "python",
   "pygments_lexer": "ipython3",
   "version": "3.7.13"
  },
  "latex_envs": {
   "LaTeX_envs_menu_present": true,
   "autoclose": false,
   "autocomplete": true,
   "bibliofile": "biblio.bib",
   "cite_by": "apalike",
   "current_citInitial": 1,
   "eqLabelWithNumbers": true,
   "eqNumInitial": 1,
   "hotkeys": {
    "equation": "Ctrl-E",
    "itemize": "Ctrl-I"
   },
   "labels_anchors": false,
   "latex_user_defs": false,
   "report_style_numbering": false,
   "user_envs_cfg": false
  },
  "mimetype": "text/x-python",
  "name": "python",
  "npconvert_exporter": "python",
  "pygments_lexer": "ipython3",
  "version": 3
 },
 "nbformat": 4,
 "nbformat_minor": 2
}
